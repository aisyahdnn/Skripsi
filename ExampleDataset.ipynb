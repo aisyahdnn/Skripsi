{
  "nbformat": 4,
  "nbformat_minor": 0,
  "metadata": {
    "colab": {
      "name": "ExampleDataset.ipynb",
      "provenance": [],
      "mount_file_id": "1gOioF3Aw6IO0KGhSsz1ANVge3ZWoi_6z",
      "authorship_tag": "ABX9TyMTx0SebMPRDICQdXS7fPdl",
      "include_colab_link": true
    },
    "kernelspec": {
      "name": "python3",
      "display_name": "Python 3"
    }
  },
  "cells": [
    {
      "cell_type": "markdown",
      "metadata": {
        "id": "view-in-github",
        "colab_type": "text"
      },
      "source": [
        "<a href=\"https://colab.research.google.com/github/aisyahdnn/Skripsi/blob/master/ExampleDataset.ipynb\" target=\"_parent\"><img src=\"https://colab.research.google.com/assets/colab-badge.svg\" alt=\"Open In Colab\"/></a>"
      ]
    },
    {
      "cell_type": "code",
      "metadata": {
        "id": "fRZI7dfl8icj",
        "colab_type": "code",
        "colab": {
          "base_uri": "https://localhost:8080/",
          "height": 35
        },
        "outputId": "bd0c517f-bac3-4c74-98ce-4d9f74758e4d"
      },
      "source": [
        "from google.colab import drive\n",
        "drive.mount('/content/drive')"
      ],
      "execution_count": 44,
      "outputs": [
        {
          "output_type": "stream",
          "text": [
            "Drive already mounted at /content/drive; to attempt to forcibly remount, call drive.mount(\"/content/drive\", force_remount=True).\n"
          ],
          "name": "stdout"
        }
      ]
    },
    {
      "cell_type": "code",
      "metadata": {
        "id": "Q5DpQdow_1Wr",
        "colab_type": "code",
        "colab": {}
      },
      "source": [
        "import pandas as pd\n",
        "import numpy as np\n",
        "import math\n",
        "import os\n",
        "import matplotlib.pyplot as plt\n",
        "import cv2\n",
        "\n",
        "from sklearn.model_selection import train_test_split\n",
        "from sklearn.preprocessing import StandardScaler \n",
        "from sklearn.neighbors import KNeighborsClassifier\n",
        "\n",
        "from sklearn.metrics import confusion_matrix\n",
        "from sklearn.metrics import f1_score\n",
        "from sklearn.metrics import accuracy_score\n",
        "from sklearn.metrics import precision_score\n",
        "from sklearn.metrics import recall_score\n",
        "\n",
        "from skimage import io\n",
        "from skimage import feature"
      ],
      "execution_count": 0,
      "outputs": []
    },
    {
      "cell_type": "code",
      "metadata": {
        "id": "ie8ZsN7NAUIJ",
        "colab_type": "code",
        "colab": {}
      },
      "source": [
        "terinfeksi_data = cv2.imread('/content/drive/My Drive/Dataset/EXAMPLE/Terinfeksi/picture1.png')\n",
        "tidakTerinfeksi_data = cv2.imread('/content/drive/My Drive/Dataset/EXAMPLE/TidakTerinfeksi/picture1.png')"
      ],
      "execution_count": 0,
      "outputs": []
    },
    {
      "cell_type": "code",
      "metadata": {
        "id": "wmlfw8dPj0tQ",
        "colab_type": "code",
        "colab": {
          "base_uri": "https://localhost:8080/",
          "height": 132
        },
        "outputId": "c53af6f9-1857-45ec-f5eb-39319606d589"
      },
      "source": [
        "#SEGMENTASI CANNY DAN EKSTRAKSI HUMOMENT\n",
        "\n",
        "x = np.array([['H1','H2','H3','H4','H5','H6','H7','Actual']])\n",
        "\n",
        "#Proses Citra Malaria Terinfeksi\n",
        "    img = cv2.imread('/content/drive/My Drive/Dataset/EXAMPLE/Terinfeksi/picture1.png')\n",
        "    edges = cv2.Canny(img,80,30)\n",
        "    a = cv2.HuMoments(cv2.moments(edges)).flatten()\n",
        "    a = np.append(a,1)\n",
        "    x = np.vstack((x,a))\n",
        "\n",
        "#Proses Citra Malaria TidakTerinfeksi\n",
        "    img = cv2.imread('/content/drive/My Drive/Dataset/EXAMPLE/TidakTerinfeksi/picture1.png')\n",
        "    edges = cv2.Canny(img,80,30)\n",
        "    a = cv2.HuMoments(cv2.moments(edges)).flatten()\n",
        "    a = np.append(a,0)\n",
        "    x = np.vstack((x,a))"
      ],
      "execution_count": 47,
      "outputs": [
        {
          "output_type": "error",
          "ename": "IndentationError",
          "evalue": "ignored",
          "traceback": [
            "\u001b[0;36m  File \u001b[0;32m\"<ipython-input-47-199561bdcea4>\"\u001b[0;36m, line \u001b[0;32m5\u001b[0m\n\u001b[0;31m    img = cv2.imread('/content/drive/My Drive/Dataset/EXAMPLE/Terinfeksi/picture1.png')\u001b[0m\n\u001b[0m    ^\u001b[0m\n\u001b[0;31mIndentationError\u001b[0m\u001b[0;31m:\u001b[0m unexpected indent\n"
          ]
        }
      ]
    },
    {
      "cell_type": "code",
      "metadata": {
        "id": "LfUZmMV0k3Vu",
        "colab_type": "code",
        "colab": {}
      },
      "source": [
        "#EXPORT to CSV\n",
        "np.savetxt(\"/content/drive/My Drive/Dataset/Example.csv\", x, fmt='%s',delimiter=',' )"
      ],
      "execution_count": 0,
      "outputs": []
    },
    {
      "cell_type": "code",
      "metadata": {
        "id": "Sw9fDwMCmpCy",
        "colab_type": "code",
        "colab": {
          "base_uri": "https://localhost:8080/",
          "height": 284
        },
        "outputId": "c501ef7e-7e2e-43e3-e4ae-b361889cf138"
      },
      "source": [
        "#LOAD CSV DATASET\n",
        "\n",
        "dataset = pd.read_csv('/content/drive/My Drive/Dataset/Example.csv')\n",
        "print (len(dataset))\n",
        "print (dataset)"
      ],
      "execution_count": 30,
      "outputs": [
        {
          "output_type": "stream",
          "text": [
            "230\n",
            "           H1            H2            H3  ...            H6            H7  Actual\n",
            "0    0.010294  2.698323e-07  1.645904e-08  ...  1.001961e-12 -2.043468e-15     1.0\n",
            "1    0.010294  2.698323e-07  1.645904e-08  ...  1.001961e-12 -2.043468e-15     1.0\n",
            "2    0.010294  2.698323e-07  1.645904e-08  ...  1.001961e-12 -2.043468e-15     1.0\n",
            "3    0.010294  2.698323e-07  1.645904e-08  ...  1.001961e-12 -2.043468e-15     1.0\n",
            "4    0.010294  2.698323e-07  1.645904e-08  ...  1.001961e-12 -2.043468e-15     1.0\n",
            "..        ...           ...           ...  ...           ...           ...     ...\n",
            "225  0.053841  3.562833e-04  2.427250e-06  ...  5.244194e-09 -1.088512e-12     0.0\n",
            "226  0.053841  3.562833e-04  2.427250e-06  ...  5.244194e-09 -1.088512e-12     0.0\n",
            "227  0.053841  3.562833e-04  2.427250e-06  ...  5.244194e-09 -1.088512e-12     0.0\n",
            "228  0.053841  3.562833e-04  2.427250e-06  ...  5.244194e-09 -1.088512e-12     0.0\n",
            "229  0.053841  3.562833e-04  2.427250e-06  ...  5.244194e-09 -1.088512e-12     0.0\n",
            "\n",
            "[230 rows x 8 columns]\n"
          ],
          "name": "stdout"
        }
      ]
    },
    {
      "cell_type": "code",
      "metadata": {
        "id": "oV9h8qaqnwh-",
        "colab_type": "code",
        "colab": {}
      },
      "source": [
        ""
      ],
      "execution_count": 0,
      "outputs": []
    }
  ]
}
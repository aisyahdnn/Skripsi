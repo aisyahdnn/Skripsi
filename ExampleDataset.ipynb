{
  "nbformat": 4,
  "nbformat_minor": 0,
  "metadata": {
    "colab": {
      "name": "ExampleDataset.ipynb",
      "provenance": [],
      "mount_file_id": "https://github.com/aisyahdnn/Skripsi/blob/master/ExampleDataset.ipynb",
      "authorship_tag": "ABX9TyNhh2yxyaKpZW+ougSMrZcy",
      "include_colab_link": true
    },
    "kernelspec": {
      "name": "python3",
      "display_name": "Python 3"
    }
  },
  "cells": [
    {
      "cell_type": "markdown",
      "metadata": {
        "id": "view-in-github",
        "colab_type": "text"
      },
      "source": [
        "<a href=\"https://colab.research.google.com/github/aisyahdnn/Skripsi/blob/master/ExampleDataset.ipynb\" target=\"_parent\"><img src=\"https://colab.research.google.com/assets/colab-badge.svg\" alt=\"Open In Colab\"/></a>"
      ]
    },
    {
      "cell_type": "code",
      "metadata": {
        "id": "fRZI7dfl8icj",
        "colab_type": "code",
        "outputId": "3c0b06e3-eb0c-405e-f004-7bb23ec9df5e",
        "colab": {
          "base_uri": "https://localhost:8080/",
          "height": 35
        }
      },
      "source": [
        "from google.colab import drive\n",
        "drive.mount('/content/drive')"
      ],
      "execution_count": 2,
      "outputs": [
        {
          "output_type": "stream",
          "text": [
            "Drive already mounted at /content/drive; to attempt to forcibly remount, call drive.mount(\"/content/drive\", force_remount=True).\n"
          ],
          "name": "stdout"
        }
      ]
    },
    {
      "cell_type": "code",
      "metadata": {
        "id": "Q5DpQdow_1Wr",
        "colab_type": "code",
        "colab": {}
      },
      "source": [
        "import pandas as pd\n",
        "import numpy as np\n",
        "import math\n",
        "import os\n",
        "import matplotlib.pyplot as plt\n",
        "import cv2\n",
        "\n",
        "from sklearn.model_selection import train_test_split\n",
        "from sklearn.preprocessing import StandardScaler \n",
        "from sklearn.neighbors import KNeighborsClassifier\n",
        "\n",
        "from sklearn.metrics import confusion_matrix\n",
        "from sklearn.metrics import f1_score\n",
        "from sklearn.metrics import accuracy_score\n",
        "from sklearn.metrics import precision_score\n",
        "from sklearn.metrics import recall_score\n",
        "\n",
        "from skimage import io\n",
        "from skimage import feature"
      ],
      "execution_count": 0,
      "outputs": []
    },
    {
      "cell_type": "code",
      "metadata": {
        "id": "ie8ZsN7NAUIJ",
        "colab_type": "code",
        "outputId": "363e5bb7-bf29-42b7-ce5b-9dfa6b7919fe",
        "colab": {
          "base_uri": "https://localhost:8080/",
          "height": 72
        }
      },
      "source": [
        "cCitra = os.listdir('/content/drive/My Drive/Dataset/ContohCitra/CITRA/')\n",
        "print(cCitra)\n",
        "print(len(cCitra))"
      ],
      "execution_count": 4,
      "outputs": [
        {
          "output_type": "stream",
          "text": [
            "['C39P4thinF_original_IMG_20150622_113126_cell_14.png', 'C39P4thinF_original_IMG_20150622_113126_cell_9.png', 'C39P4thinF_original_IMG_20150622_113126_cell_2.png', 'C39P4thinF_original_IMG_20150622_113126_cell_6.png', 'C39P4thinF_original_IMG_20150622_113126_cell_1.png', 'C39P4thinF_original_IMG_20150622_113126_cell_12.png', 'C39P4thinF_original_IMG_20150622_113126_cell_13.png', 'C39P4thinF_original_IMG_20150622_113126_cell_7.png', 'C39P4thinF_original_IMG_20150622_113126_cell_8.png', 'C1_thinF_IMG_20150604_105100_cell_53.png', 'C1_thinF_IMG_20150604_105100_cell_69.png', 'C1_thinF_IMG_20150604_105100_cell_43.png', 'C1_thinF_IMG_20150604_105100_cell_134.png', 'C1_thinF_IMG_20150604_105100_cell_130.png', 'C1_thinF_IMG_20150604_105100_cell_211.png', 'C1_thinF_IMG_20150604_105100_cell_201.png', 'C1_thinF_IMG_20150604_105100_cell_152.png', 'C1_thinF_IMG_20150604_105100_cell_213.png', 'C1_thinF_IMG_20150604_105100_cell_180.png', 'C1_thinF_IMG_20150604_105100_cell_151.png', 'C1_thinF_IMG_20150604_105100_cell_186.png', 'C1_thinF_IMG_20150604_105100_cell_157.png', 'C1_thinF_IMG_20150604_105100_cell_232.png', 'C1_thinF_IMG_20150604_105100_cell_243.png', 'C1_thinF_IMG_20150604_105100_cell_275.png', 'C1_thinF_IMG_20150604_105100_cell_277.png', 'C102P63ThinF_IMG_20150918_162051_cell_1.png', 'C102P63ThinF_IMG_20150918_162051_cell_79.png', 'C102P63ThinF_IMG_20150918_162051_cell_65.png', 'C102P63ThinF_IMG_20150918_162051_cell_29.png', 'C102P63ThinF_IMG_20150918_162051_cell_9.png', 'C102P63ThinF_IMG_20150918_162051_cell_34.png', 'C102P63ThinF_IMG_20150918_162051_cell_19.png', 'C102P63ThinF_IMG_20150918_162051_cell_32.png', 'C102P63ThinF_IMG_20150918_162051_cell_100.png', 'C102P63ThinF_IMG_20150918_162051_cell_130.png', 'C39P4thinF_original_IMG_20150622_113446_cell_24.png', 'C39P4thinF_original_IMG_20150622_113446_cell_20.png', 'C39P4thinF_original_IMG_20150622_113446_cell_4.png', 'C39P4thinF_original_IMG_20150622_113446_cell_25.png', 'C39P4thinF_original_IMG_20150622_113446_cell_2.png', 'C39P4thinF_original_IMG_20150622_113446_cell_29.png', 'C39P4thinF_original_IMG_20150622_113446_cell_12.png', 'C39P4thinF_original_IMG_20150622_113446_cell_15.png', 'C39P4thinF_original_IMG_20150622_113446_cell_5.png', 'C39P4thinF_original_IMG_20150622_113446_cell_26.png', 'C39P4thinF_original_IMG_20150622_113446_cell_21.png', 'C39P4thinF_original_IMG_20150622_113446_cell_11.png', 'C39P4thinF_original_IMG_20150622_113446_cell_10.png', 'C39P4thinF_original_IMG_20150622_113446_cell_22.png', 'C39P4thinF_original_IMG_20150622_113446_cell_13.png', 'C39P4thinF_original_IMG_20150622_113446_cell_8.png', 'C39P4thinF_original_IMG_20150622_113446_cell_28.png', 'C39P4thinF_original_IMG_20150622_113446_cell_1.png', 'C39P4thinF_original_IMG_20150622_113446_cell_6.png', 'C39P4thinF_original_IMG_20150622_113446_cell_27.png', 'C39P4thinF_original_IMG_20150622_113446_cell_3.png', 'C39P4thinF_original_IMG_20150622_113446_cell_7.png', 'C39P4thinF_original_IMG_20150622_113446_cell_23.png', 'C39P4thinF_original_IMG_20150622_113446_cell_19.png', 'C39P4thinF_original_IMG_20150622_113446_cell_9.png', 'C39P4thinF_original_IMG_20150622_113446_cell_16.png', 'C39P4thinF_original_IMG_20150622_113446_cell_17.png', 'C39P4thinF_original_IMG_20150622_113446_cell_14.png', 'C39P4thinF_original_IMG_20150622_113446_cell_18.png', 'C102P63ThinF_IMG_20150918_162155_cell_5.png', 'C102P63ThinF_IMG_20150918_162155_cell_32.png', 'C102P63ThinF_IMG_20150918_162155_cell_88.png', 'C102P63ThinF_IMG_20150918_162155_cell_66.png', 'C102P63ThinF_IMG_20150918_162155_cell_51.png', 'C102P63ThinF_IMG_20150918_162155_cell_76.png', 'C102P63ThinF_IMG_20150918_162155_cell_116.png', 'C102P63ThinF_IMG_20150918_162155_cell_119.png', 'C102P63ThinF_IMG_20150918_162155_cell_117.png', 'C39P4thinF_original_IMG_20150622_113632_cell_1.png', 'C39P4thinF_original_IMG_20150622_113632_cell_3.png', 'C39P4thinF_original_IMG_20150622_113632_cell_2.png', 'C39P4thinF_original_IMG_20150622_113632_cell_4.png', 'C39P4thinF_original_IMG_20150622_113632_cell_5.png', 'C102P63ThinF_IMG_20150918_162300_cell_15.png', 'C102P63ThinF_IMG_20150918_162300_cell_13.png', 'C102P63ThinF_IMG_20150918_162300_cell_4.png', 'C102P63ThinF_IMG_20150918_162300_cell_29.png', 'C102P63ThinF_IMG_20150918_162300_cell_63.png', 'C102P63ThinF_IMG_20150918_162300_cell_12.png', 'C102P63ThinF_IMG_20150918_162300_cell_111.png', 'C102P63ThinF_IMG_20150918_162300_cell_129.png', 'C102P63ThinF_IMG_20150918_162300_cell_137.png', 'C102P63ThinF_IMG_20150918_162300_cell_89.png', 'C102P63ThinF_IMG_20150918_162511_cell_102.png', 'C102P63ThinF_IMG_20150918_162511_cell_36.png', 'C102P63ThinF_IMG_20150918_162511_cell_56.png', 'C102P63ThinF_IMG_20150918_162511_cell_59.png', 'C102P63ThinF_IMG_20150918_162511_cell_93.png', 'C102P63ThinF_IMG_20150918_162511_cell_163.png', 'C102P63ThinF_IMG_20150918_162511_cell_157.png', 'C102P63ThinF_IMG_20150918_162511_cell_131.png', 'C102P63ThinF_IMG_20150918_162511_cell_133.png', 'C102P63ThinF_IMG_20150918_163054_cell_6.png', 'C102P63ThinF_IMG_20150918_163054_cell_71.png', 'C102P63ThinF_IMG_20150918_163054_cell_76.png', 'C102P63ThinF_IMG_20150918_163054_cell_25.png', 'C102P63ThinF_IMG_20150918_163054_cell_87.png', 'C102P63ThinF_IMG_20150918_163054_cell_83.png', 'C102P63ThinF_IMG_20150918_163054_cell_127.png', 'C102P63ThinF_IMG_20150918_163054_cell_134.png', 'C102P63ThinF_IMG_20150918_163054_cell_159.png', 'C102P63ThinF_IMG_20150918_163054_cell_144.png', 'C3thin_original_IMG_20150608_162835_cell_8.png', 'C3thin_original_IMG_20150608_162835_cell_36.png', 'C3thin_original_IMG_20150608_162835_cell_28.png', 'C3thin_original_IMG_20150608_162835_cell_26.png', 'C3thin_original_IMG_20150608_162835_cell_122.png', 'C3thin_original_IMG_20150608_162835_cell_101.png', 'C3thin_original_IMG_20150608_162835_cell_88.png', 'C3thin_original_IMG_20150608_162835_cell_61.png', 'C3thin_original_IMG_20150608_162835_cell_77.png', 'C3thin_original_IMG_20150608_162835_cell_207.png', 'C3thin_original_IMG_20150608_162835_cell_174.png', 'C3thin_original_IMG_20150608_162835_cell_170.png', 'C3thin_original_IMG_20150608_162835_cell_144.png', 'C3thin_original_IMG_20150608_162835_cell_210.png', 'C3thin_original_IMG_20150608_162922_cell_12.png', 'C3thin_original_IMG_20150608_162922_cell_28.png', 'C3thin_original_IMG_20150608_162922_cell_18.png', 'C3thin_original_IMG_20150608_162922_cell_22.png', 'C3thin_original_IMG_20150608_162922_cell_59.png', 'C3thin_original_IMG_20150608_162922_cell_33.png', 'C3thin_original_IMG_20150608_162922_cell_191.png', 'C3thin_original_IMG_20150608_162922_cell_145.png', 'C3thin_original_IMG_20150608_162922_cell_119.png', 'C3thin_original_IMG_20150608_162922_cell_184.png', 'C3thin_original_IMG_20150608_162922_cell_205.png', 'C3thin_original_IMG_20150608_162922_cell_211.png', 'C3thin_original_IMG_20150608_162922_cell_217.png', 'C3thin_original_IMG_20150608_163002_cell_13.png', 'C3thin_original_IMG_20150608_163002_cell_63.png', 'C3thin_original_IMG_20150608_163002_cell_39.png', 'C3thin_original_IMG_20150608_163002_cell_34.png', 'C3thin_original_IMG_20150608_163002_cell_78.png', 'C3thin_original_IMG_20150608_163002_cell_88.png', 'C3thin_original_IMG_20150608_163002_cell_32.png', 'C3thin_original_IMG_20150608_163002_cell_81.png', 'C3thin_original_IMG_20150608_163002_cell_93.png', 'C3thin_original_IMG_20150608_163002_cell_97.png', 'C3thin_original_IMG_20150608_163002_cell_159.png', 'C3thin_original_IMG_20150608_163002_cell_144.png', 'C3thin_original_IMG_20150608_163002_cell_146.png', 'C3thin_original_IMG_20150608_163002_cell_195.png', 'C3thin_original_IMG_20150608_163029_cell_44.png', 'C3thin_original_IMG_20150608_163029_cell_57.png', 'C3thin_original_IMG_20150608_163029_cell_52.png', 'C3thin_original_IMG_20150608_163029_cell_1.png', 'C3thin_original_IMG_20150608_163029_cell_80.png', 'C3thin_original_IMG_20150608_163029_cell_109.png', 'C3thin_original_IMG_20150608_163029_cell_121.png', 'C3thin_original_IMG_20150608_163029_cell_156.png', 'C3thin_original_IMG_20150608_163029_cell_166.png', 'C3thin_original_IMG_20150608_163029_cell_83.png', 'C3thin_original_IMG_20150608_163029_cell_125.png', 'C3thin_original_IMG_20150608_163029_cell_186.png', 'C3thin_original_IMG_20150608_163029_cell_202.png', 'C3thin_original_IMG_20150608_163029_cell_220.png', 'C3thin_original_IMG_20150608_163047_cell_36.png', 'C3thin_original_IMG_20150608_163047_cell_22.png', 'C3thin_original_IMG_20150608_163047_cell_26.png', 'C3thin_original_IMG_20150608_163047_cell_103.png', 'C3thin_original_IMG_20150608_163047_cell_145.png', 'C3thin_original_IMG_20150608_163047_cell_147.png', 'C3thin_original_IMG_20150608_163047_cell_183.png', 'C3thin_original_IMG_20150608_163047_cell_168.png', 'C3thin_original_IMG_20150608_163047_cell_236.png', 'C3thin_original_IMG_20150608_163047_cell_192.png', 'C3thin_original_IMG_20150608_163047_cell_214.png', 'C3thin_original_IMG_20150608_163047_cell_212.png', 'C3thin_original_IMG_20150608_163047_cell_215.png', 'C3thin_original_IMG_20150608_163047_cell_161.png', 'C4thin_original_IMG_20150608_165540_cell_19.png', 'C4thin_original_IMG_20150608_165540_cell_52.png', 'C4thin_original_IMG_20150608_165540_cell_62.png', 'C4thin_original_IMG_20150608_165540_cell_50.png', 'C4thin_original_IMG_20150608_165540_cell_92.png', 'C4thin_original_IMG_20150608_165540_cell_178.png', 'C4thin_original_IMG_20150608_165540_cell_184.png', 'C4thin_original_IMG_20150608_165540_cell_226.png', 'C4thin_original_IMG_20150608_165540_cell_187.png', 'C4thin_original_IMG_20150608_165540_cell_200.png', 'C4thin_original_IMG_20150608_165540_cell_168.png', 'C4thin_original_IMG_20150608_165540_cell_245.png', 'C4thin_original_IMG_20150608_165620_cell_39.png', 'C4thin_original_IMG_20150608_165620_cell_29.png', 'C4thin_original_IMG_20150608_165620_cell_111.png', 'C4thin_original_IMG_20150608_165620_cell_149.png', 'C4thin_original_IMG_20150608_165620_cell_161.png', 'C4thin_original_IMG_20150608_165620_cell_178.png', 'C4thin_original_IMG_20150608_165620_cell_130.png', 'C4thin_original_IMG_20150608_165620_cell_157.png', 'C4thin_original_IMG_20150608_165620_cell_195.png', 'C4thin_original_IMG_20150608_165620_cell_208.png', 'C4thin_original_IMG_20150608_165620_cell_204.png', 'C4thin_original_IMG_20150608_165620_cell_194.png', 'C4thin_original_IMG_20150608_165620_cell_207.png', 'C4thin_original_IMG_20150608_165620_cell_227.png', 'C4thin_original_IMG_20150608_165908_cell_73.png', 'C4thin_original_IMG_20150608_165908_cell_70.png', 'C4thin_original_IMG_20150608_165908_cell_111.png', 'C4thin_original_IMG_20150608_165908_cell_132.png', 'C4thin_original_IMG_20150608_165908_cell_102.png', 'C4thin_original_IMG_20150608_165908_cell_182.png', 'C4thin_original_IMG_20150608_165908_cell_187.png', 'C4thin_original_IMG_20150608_165908_cell_161.png', 'C4thin_original_IMG_20150608_165908_cell_197.png', 'C4thin_original_IMG_20150608_165908_cell_191.png', 'C4thin_original_IMG_20150608_165908_cell_222.png', 'C4thin_original_IMG_20150608_165908_cell_164.png', 'C4thin_original_IMG_20150608_165908_cell_208.png', 'C4thin_original_IMG_20150608_165908_cell_244.png', 'C4thin_original_IMG_20150608_170016_cell_11.png', 'C4thin_original_IMG_20150608_170016_cell_46.png', 'C4thin_original_IMG_20150608_170016_cell_31.png', 'C4thin_original_IMG_20150608_170016_cell_75.png', 'C4thin_original_IMG_20150608_170016_cell_77.png', 'C4thin_original_IMG_20150608_170016_cell_83.png', 'C4thin_original_IMG_20150608_170016_cell_143.png', 'C4thin_original_IMG_20150608_170016_cell_96.png', 'C4thin_original_IMG_20150608_170016_cell_104.png', 'C4thin_original_IMG_20150608_170016_cell_117.png', 'C4thin_original_IMG_20150608_170016_cell_137.png', 'C4thin_original_IMG_20150608_170016_cell_155.png', 'C4thin_original_IMG_20150608_170016_cell_172.png', 'C4thin_original_IMG_20150608_170016_cell_218.png', 'C4thin_original_IMG_20150608_170038_cell_6.png', 'C4thin_original_IMG_20150608_170038_cell_65.png', 'C4thin_original_IMG_20150608_170038_cell_44.png', 'C4thin_original_IMG_20150608_170038_cell_89.png', 'C4thin_original_IMG_20150608_170038_cell_95.png', 'C4thin_original_IMG_20150608_170038_cell_97.png', 'C4thin_original_IMG_20150608_170038_cell_34.png', 'C4thin_original_IMG_20150608_170038_cell_96.png', 'C4thin_original_IMG_20150608_170038_cell_123.png', 'C4thin_original_IMG_20150608_170038_cell_112.png', 'C4thin_original_IMG_20150608_170038_cell_144.png', 'C4thin_original_IMG_20150608_170038_cell_214.png', 'C4thin_original_IMG_20150608_170038_cell_180.png', 'C115P76ThinF_IMG_20150930_162315_cell_45.png', 'C115P76ThinF_IMG_20150930_162315_cell_105.png', 'C115P76ThinF_IMG_20150930_162315_cell_99.png', 'C115P76ThinF_IMG_20150930_162315_cell_91.png', 'C115P76ThinF_IMG_20150930_162315_cell_151.png', 'C115P76ThinF_IMG_20150930_162315_cell_215.png', 'C115P76ThinF_IMG_20150930_162315_cell_218.png', 'C115P76ThinF_IMG_20150930_162315_cell_167.png', 'C115P76ThinF_IMG_20150930_162315_cell_254.png', 'C115P76ThinF_IMG_20150930_162315_cell_230.png', 'C115P76ThinF_IMG_20150930_162315_cell_243.png', 'C115P76ThinF_IMG_20150930_163018_cell_36.png', 'C115P76ThinF_IMG_20150930_163018_cell_103.png', 'C115P76ThinF_IMG_20150930_163018_cell_113.png', 'C115P76ThinF_IMG_20150930_163018_cell_147.png', 'C115P76ThinF_IMG_20150930_163018_cell_157.png', 'C115P76ThinF_IMG_20150930_163018_cell_123.png', 'C115P76ThinF_IMG_20150930_163018_cell_167.png', 'C115P76ThinF_IMG_20150930_163018_cell_187.png', 'C115P76ThinF_IMG_20150930_163018_cell_177.png', 'C115P76ThinF_IMG_20150930_163018_cell_211.png', 'C115P76ThinF_IMG_20150930_163018_cell_208.png', 'C115P76ThinF_IMG_20150930_163018_cell_221.png', 'C115P76ThinF_IMG_20150930_163018_cell_232.png', 'C115P76ThinF_IMG_20150930_163156_cell_25.png', 'C115P76ThinF_IMG_20150930_163156_cell_80.png', 'C115P76ThinF_IMG_20150930_163156_cell_76.png', 'C115P76ThinF_IMG_20150930_163156_cell_90.png', 'C115P76ThinF_IMG_20150930_163156_cell_75.png', 'C115P76ThinF_IMG_20150930_163156_cell_85.png', 'C115P76ThinF_IMG_20150930_163156_cell_163.png', 'C115P76ThinF_IMG_20150930_163156_cell_214.png', 'C115P76ThinF_IMG_20150930_163156_cell_192.png', 'C115P76ThinF_IMG_20150930_163156_cell_221.png', 'C115P76ThinF_IMG_20150930_163156_cell_197.png', 'C115P76ThinF_IMG_20150930_163156_cell_229.png', 'C115P76ThinF_IMG_20150930_163156_cell_204.png', 'C116P77ThinF_IMG_20150930_171219_cell_10.png', 'C116P77ThinF_IMG_20150930_171219_cell_39.png', 'C116P77ThinF_IMG_20150930_171219_cell_34.png', 'C116P77ThinF_IMG_20150930_171219_cell_6.png', 'C116P77ThinF_IMG_20150930_171219_cell_21.png', 'C116P77ThinF_IMG_20150930_171219_cell_33.png', 'C116P77ThinF_IMG_20150930_171219_cell_65.png', 'C116P77ThinF_IMG_20150930_171219_cell_69.png', 'C116P77ThinF_IMG_20150930_171448_cell_7.png', 'C116P77ThinF_IMG_20150930_171448_cell_53.png', 'C116P77ThinF_IMG_20150930_171448_cell_81.png', 'C116P77ThinF_IMG_20150930_171448_cell_48.png', 'C116P77ThinF_IMG_20150930_171448_cell_39.png', 'C116P77ThinF_IMG_20150930_171448_cell_72.png', 'C116P77ThinF_IMG_20150930_171558_cell_22.png', 'C116P77ThinF_IMG_20150930_171558_cell_1.png', 'C116P77ThinF_IMG_20150930_171558_cell_10.png', 'C116P77ThinF_IMG_20150930_171558_cell_34.png', 'C116P77ThinF_IMG_20150930_171558_cell_38.png', 'C116P77ThinF_IMG_20150930_171558_cell_73.png', 'C116P77ThinF_IMG_20150930_171558_cell_64.png', 'C116P77ThinF_IMG_20150930_171558_cell_80.png', 'C116P77ThinF_IMG_20150930_171635_cell_10.png', 'C116P77ThinF_IMG_20150930_171635_cell_31.png', 'C116P77ThinF_IMG_20150930_171635_cell_62.png', 'C116P77ThinF_IMG_20150930_171635_cell_38.png', 'C116P77ThinF_IMG_20150930_171635_cell_63.png', 'C116P77ThinF_IMG_20150930_171635_cell_42.png', 'C116P77ThinF_IMG_20150930_171635_cell_18.png', 'C116P77ThinF_IMG_20150930_171635_cell_68.png', 'C116P77ThinF_IMG_20150930_171739_cell_38.png', 'C116P77ThinF_IMG_20150930_171739_cell_21.png', 'C116P77ThinF_IMG_20150930_171739_cell_32.png', 'C116P77ThinF_IMG_20150930_171739_cell_37.png', 'C116P77ThinF_IMG_20150930_171739_cell_57.png', 'C116P77ThinF_IMG_20150930_171739_cell_69.png', 'C116P77ThinF_IMG_20150930_171739_cell_54.png', 'C116P77ThinF_IMG_20150930_171809_cell_19.png', 'C116P77ThinF_IMG_20150930_171809_cell_1.png', 'C116P77ThinF_IMG_20150930_171809_cell_11.png', 'C116P77ThinF_IMG_20150930_171809_cell_18.png', 'C116P77ThinF_IMG_20150930_171809_cell_25.png', 'C116P77ThinF_IMG_20150930_171809_cell_48.png', 'C116P77ThinF_IMG_20150930_171809_cell_35.png', 'C116P77ThinF_IMG_20150930_171809_cell_34.png', 'C116P77ThinF_IMG_20150930_171844_cell_14.png', 'C116P77ThinF_IMG_20150930_171844_cell_37.png', 'C116P77ThinF_IMG_20150930_171844_cell_56.png', 'C116P77ThinF_IMG_20150930_171844_cell_80.png', 'C116P77ThinF_IMG_20150930_171844_cell_70.png', 'C116P77ThinF_IMG_20150930_171844_cell_43.png', 'C116P77ThinF_IMG_20150930_171844_cell_34.png', 'C116P77ThinF_IMG_20150930_171954_cell_29.png', 'C116P77ThinF_IMG_20150930_171954_cell_18.png', 'C116P77ThinF_IMG_20150930_171954_cell_9.png', 'C116P77ThinF_IMG_20150930_171954_cell_40.png', 'C116P77ThinF_IMG_20150930_171954_cell_48.png', 'C116P77ThinF_IMG_20150930_171954_cell_45.png', 'C116P77ThinF_IMG_20150930_171954_cell_67.png', 'C116P77ThinF_IMG_20150930_171954_cell_59.png', 'C116P77ThinF_IMG_20150930_172112_cell_12.png', 'C116P77ThinF_IMG_20150930_172112_cell_6.png', 'C116P77ThinF_IMG_20150930_172112_cell_50.png', 'C116P77ThinF_IMG_20150930_172112_cell_51.png', 'C116P77ThinF_IMG_20150930_172112_cell_58.png', 'C116P77ThinF_IMG_20150930_172112_cell_45.png', 'C116P77ThinF_IMG_20150930_172112_cell_26.png', 'C116P77ThinF_IMG_20150930_172112_cell_44.png', 'C117P78ThinF_IMG_20150930_214138_cell_28.png', 'C117P78ThinF_IMG_20150930_214138_cell_54.png', 'C117P78ThinF_IMG_20150930_214138_cell_43.png', 'C117P78ThinF_IMG_20150930_214138_cell_68.png', 'C117P78ThinF_IMG_20150930_214138_cell_35.png', 'C117P78ThinF_IMG_20150930_214138_cell_42.png', 'C117P78ThinF_IMG_20150930_214138_cell_77.png', 'C117P78ThinF_IMG_20150930_214317_cell_20.png', 'C117P78ThinF_IMG_20150930_214317_cell_55.png', 'C117P78ThinF_IMG_20150930_214317_cell_77.png', 'C117P78ThinF_IMG_20150930_214317_cell_87.png', 'C117P78ThinF_IMG_20150930_214317_cell_92.png', 'C117P78ThinF_IMG_20150930_214511_cell_1.png', 'C117P78ThinF_IMG_20150930_214511_cell_6.png', 'C117P78ThinF_IMG_20150930_214511_cell_48.png', 'C117P78ThinF_IMG_20150930_214511_cell_62.png', 'C117P78ThinF_IMG_20150930_214511_cell_58.png', 'C117P78ThinF_IMG_20150930_214511_cell_18.png', 'C117P78ThinF_IMG_20150930_214629_cell_1.png', 'C117P78ThinF_IMG_20150930_214629_cell_37.png', 'C117P78ThinF_IMG_20150930_214629_cell_80.png', 'C117P78ThinF_IMG_20150930_214629_cell_70.png', 'C117P78ThinF_IMG_20150930_214629_cell_89.png', 'C117P78ThinF_IMG_20150930_214629_cell_77.png', 'C117P78ThinF_IMG_20150930_214629_cell_45.png', 'C117P78ThinF_IMG_20150930_214629_cell_94.png', 'C117P78ThinF_IMG_20150930_214941_cell_61.png', 'C117P78ThinF_IMG_20150930_214941_cell_16.png', 'C117P78ThinF_IMG_20150930_214941_cell_46.png', 'C117P78ThinF_IMG_20150930_214941_cell_47.png', 'C117P78ThinF_IMG_20150930_214941_cell_19.png', 'C117P78ThinF_IMG_20150930_214941_cell_25.png', 'C117P78ThinF_IMG_20150930_214941_cell_72.png', 'C117P78ThinF_IMG_20150930_215322_cell_31.png', 'C117P78ThinF_IMG_20150930_215322_cell_48.png', 'C117P78ThinF_IMG_20150930_215322_cell_2.png', 'C117P78ThinF_IMG_20150930_215322_cell_53.png', 'C117P78ThinF_IMG_20150930_215322_cell_74.png', 'C117P78ThinF_IMG_20150930_215322_cell_77.png', 'C117P78ThinF_IMG_20150930_215322_cell_75.png', 'C117P78ThinF_IMG_20150930_220616_cell_35.png', 'C117P78ThinF_IMG_20150930_220616_cell_48.png', 'C2NThinF_IMG_20150604_114631_cell_38.png', 'C2NThinF_IMG_20150604_114631_cell_52.png', 'C2NThinF_IMG_20150604_114631_cell_74.png', 'C2NThinF_IMG_20150604_114631_cell_72.png', 'C2NThinF_IMG_20150604_114631_cell_99.png', 'C2NThinF_IMG_20150604_114631_cell_84.png', 'C2NThinF_IMG_20150604_114631_cell_155.png', 'C2NThinF_IMG_20150604_114631_cell_150.png', 'C2NThinF_IMG_20150604_114631_cell_141.png', 'C2NThinF_IMG_20150604_114631_cell_144.png', 'C2NThinF_IMG_20150604_114631_cell_204.png', 'C2NThinF_IMG_20150604_114631_cell_214.png', 'C2NThinF_IMG_20150604_114631_cell_187.png', 'C2NThinF_IMG_20150604_114631_cell_215.png', 'C2NThinF_IMG_20150604_114730_cell_12.png', 'C2NThinF_IMG_20150604_114730_cell_13.png', 'C2NThinF_IMG_20150604_114730_cell_36.png', 'C2NThinF_IMG_20150604_114730_cell_72.png', 'C2NThinF_IMG_20150604_114730_cell_98.png', 'C2NThinF_IMG_20150604_114730_cell_113.png', 'C2NThinF_IMG_20150604_114730_cell_124.png', 'C2NThinF_IMG_20150604_114730_cell_161.png', 'C2NThinF_IMG_20150604_114730_cell_139.png', 'C2NThinF_IMG_20150604_114730_cell_173.png', 'C2NThinF_IMG_20150604_114730_cell_183.png', 'C2NThinF_IMG_20150604_114730_cell_172.png', 'C2NThinF_IMG_20150604_114730_cell_178.png', 'C2NThinF_IMG_20150604_114751_cell_69.png', 'C2NThinF_IMG_20150604_114751_cell_93.png', 'C2NThinF_IMG_20150604_114751_cell_38.png', 'C2NThinF_IMG_20150604_114751_cell_92.png', 'C2NThinF_IMG_20150604_114751_cell_106.png', 'C2NThinF_IMG_20150604_114751_cell_101.png', 'C2NThinF_IMG_20150604_114751_cell_113.png', 'C2NThinF_IMG_20150604_114751_cell_107.png', 'C2NThinF_IMG_20150604_114751_cell_142.png', 'C2NThinF_IMG_20150604_114751_cell_127.png', 'C2NThinF_IMG_20150604_114751_cell_197.png', 'C2NThinF_IMG_20150604_114751_cell_181.png', 'C2NThinF_IMG_20150604_114751_cell_221.png', 'C2NThinF_IMG_20150604_114751_cell_217.png', 'C2NThinF_IMG_20150604_114815_cell_9.png', 'C2NThinF_IMG_20150604_114815_cell_6.png', 'C2NThinF_IMG_20150604_114815_cell_62.png', 'C2NThinF_IMG_20150604_114815_cell_66.png', 'C2NThinF_IMG_20150604_114815_cell_73.png', 'C2NThinF_IMG_20150604_114815_cell_107.png', 'C2NThinF_IMG_20150604_114815_cell_95.png', 'C2NThinF_IMG_20150604_114815_cell_128.png', 'C2NThinF_IMG_20150604_114815_cell_142.png', 'C2NThinF_IMG_20150604_114815_cell_217.png', 'C2NThinF_IMG_20150604_114815_cell_233.png', 'C2NThinF_IMG_20150604_114815_cell_235.png', 'C2NThinF_IMG_20150604_114815_cell_232.png', 'C2NThinF_IMG_20150604_114815_cell_242.png', 'C2NThinF_IMG_20150604_115238_cell_13.png', 'C2NThinF_IMG_20150604_115238_cell_115.png', 'C2NThinF_IMG_20150604_115238_cell_117.png', 'C2NThinF_IMG_20150604_115238_cell_138.png', 'C2NThinF_IMG_20150604_115238_cell_126.png', 'C2NThinF_IMG_20150604_115238_cell_133.png', 'C2NThinF_IMG_20150604_115238_cell_196.png', 'C2NThinF_IMG_20150604_115238_cell_203.png', 'C2NThinF_IMG_20150604_115238_cell_205.png', 'C2NThinF_IMG_20150604_115238_cell_240.png', 'C2NThinF_IMG_20150604_115238_cell_223.png', 'C2NThinF_IMG_20150604_115238_cell_259.png', 'C2NThinF_IMG_20150604_115238_cell_249.png', 'C2NThinF_IMG_20150604_115238_cell_247.png', 'C39P4thinF_original_IMG_20150622_105253_cell_99.png', 'C39P4thinF_original_IMG_20150622_105253_cell_109.png', 'C39P4thinF_original_IMG_20150622_105253_cell_101.png', 'C39P4thinF_original_IMG_20150622_105253_cell_106.png', 'C39P4thinF_original_IMG_20150622_105253_cell_97.png', 'C39P4thinF_original_IMG_20150622_105253_cell_92.png', 'C39P4thinF_original_IMG_20150622_105253_cell_95.png', 'C39P4thinF_original_IMG_20150622_105253_cell_111.png', 'C39P4thinF_original_IMG_20150622_105253_cell_98.png', 'C39P4thinF_original_IMG_20150622_105253_cell_105.png', 'C39P4thinF_original_IMG_20150622_105253_cell_100.png', 'C39P4thinF_original_IMG_20150622_105253_cell_90.png', 'C39P4thinF_original_IMG_20150622_105253_cell_94.png', 'C39P4thinF_original_IMG_20150622_105253_cell_103.png', 'C39P4thinF_original_IMG_20150622_105253_cell_108.png', 'C39P4thinF_original_IMG_20150622_105253_cell_91.png', 'C39P4thinF_original_IMG_20150622_105335_cell_1.png', 'C39P4thinF_original_IMG_20150622_105335_cell_2.png', 'C39P4thinF_original_IMG_20150622_105335_cell_27.png', 'C39P4thinF_original_IMG_20150622_105335_cell_11.png', 'C39P4thinF_original_IMG_20150622_105335_cell_4.png', 'C39P4thinF_original_IMG_20150622_105335_cell_17.png', 'C39P4thinF_original_IMG_20150622_105335_cell_14.png', 'C39P4thinF_original_IMG_20150622_105335_cell_12.png', 'C39P4thinF_original_IMG_20150622_105335_cell_31.png', 'C39P4thinF_original_IMG_20150622_105335_cell_13.png', 'C39P4thinF_original_IMG_20150622_105335_cell_7.png', 'C39P4thinF_original_IMG_20150622_105335_cell_15.png', 'C39P4thinF_original_IMG_20150622_105335_cell_6.png', 'C39P4thinF_original_IMG_20150622_105335_cell_3.png', 'C39P4thinF_original_IMG_20150622_105335_cell_10.png', 'C39P4thinF_original_IMG_20150622_105335_cell_29.png', 'C39P4thinF_original_IMG_20150622_105335_cell_28.png', 'C39P4thinF_original_IMG_20150622_105335_cell_8.png', 'C39P4thinF_original_IMG_20150622_105335_cell_20.png', 'C39P4thinF_original_IMG_20150622_105335_cell_9.png', 'C39P4thinF_original_IMG_20150622_105335_cell_16.png', 'C39P4thinF_original_IMG_20150622_105335_cell_32.png', 'C39P4thinF_original_IMG_20150622_105335_cell_21.png', 'C39P4thinF_original_IMG_20150622_105335_cell_23.png', 'C39P4thinF_original_IMG_20150622_105335_cell_19.png', 'C39P4thinF_original_IMG_20150622_105335_cell_5.png', 'C39P4thinF_original_IMG_20150622_105335_cell_26.png', 'C39P4thinF_original_IMG_20150622_105335_cell_25.png', 'C39P4thinF_original_IMG_20150622_105335_cell_30.png', 'C39P4thinF_original_IMG_20150622_105335_cell_24.png', 'C39P4thinF_original_IMG_20150622_105335_cell_18.png', 'C39P4thinF_original_IMG_20150622_105335_cell_22.png', 'C39P4thinF_original_IMG_20150622_105554_cell_2 (1).png', 'C39P4thinF_original_IMG_20150622_105554_cell_15.png', 'C39P4thinF_original_IMG_20150622_105554_cell_26.png', 'C39P4thinF_original_IMG_20150622_105554_cell_4.png', 'C39P4thinF_original_IMG_20150622_105554_cell_11.png', 'C39P4thinF_original_IMG_20150622_105554_cell_8.png', 'C39P4thinF_original_IMG_20150622_105554_cell_13.png', 'C39P4thinF_original_IMG_20150622_105554_cell_6.png', 'C39P4thinF_original_IMG_20150622_105554_cell_24 (1).png', 'C39P4thinF_original_IMG_20150622_105554_cell_20 (1).png', 'C39P4thinF_original_IMG_20150622_105554_cell_21 (1).png', 'C39P4thinF_original_IMG_20150622_105554_cell_18 (1).png', 'C39P4thinF_original_IMG_20150622_105554_cell_19 (1).png', 'C39P4thinF_original_IMG_20150622_105554_cell_21.png', 'C39P4thinF_original_IMG_20150622_105554_cell_22 (1).png', 'C39P4thinF_original_IMG_20150622_105554_cell_25 (1).png', 'C39P4thinF_original_IMG_20150622_105554_cell_20.png', 'C39P4thinF_original_IMG_20150622_105554_cell_14.png', 'C39P4thinF_original_IMG_20150622_105554_cell_17 (1).png', 'C39P4thinF_original_IMG_20150622_105554_cell_24.png', 'C39P4thinF_original_IMG_20150622_105554_cell_1.png', 'C39P4thinF_original_IMG_20150622_105554_cell_7.png', 'C39P4thinF_original_IMG_20150622_105554_cell_17.png', 'C39P4thinF_original_IMG_20150622_105554_cell_12.png', 'C39P4thinF_original_IMG_20150622_105554_cell_23 (1).png', 'C39P4thinF_original_IMG_20150622_105554_cell_10.png', 'C39P4thinF_original_IMG_20150622_105554_cell_9.png', 'C39P4thinF_original_IMG_20150622_105554_cell_3.png', 'C39P4thinF_original_IMG_20150622_105554_cell_16.png', 'C39P4thinF_original_IMG_20150622_105554_cell_2.png', 'C39P4thinF_original_IMG_20150622_105554_cell_5.png', 'C39P4thinF_original_IMG_20150622_105554_cell_23.png', 'C39P4thinF_original_IMG_20150622_105554_cell_19.png', 'C39P4thinF_original_IMG_20150622_105554_cell_22.png', 'C39P4thinF_original_IMG_20150622_105554_cell_18.png', 'C39P4thinF_original_IMG_20150622_105554_cell_25.png', 'C39P4thinF_original_IMG_20150622_105803_cell_108.png', 'C39P4thinF_original_IMG_20150622_105803_cell_97.png', 'C39P4thinF_original_IMG_20150622_105803_cell_106.png', 'C39P4thinF_original_IMG_20150622_105803_cell_110.png', 'C39P4thinF_original_IMG_20150622_105803_cell_87.png', 'C39P4thinF_original_IMG_20150622_105803_cell_84.png', 'C39P4thinF_original_IMG_20150622_105803_cell_101.png', 'C39P4thinF_original_IMG_20150622_105803_cell_85.png', 'C39P4thinF_original_IMG_20150622_105803_cell_80.png', 'C39P4thinF_original_IMG_20150622_105803_cell_81.png', 'C39P4thinF_original_IMG_20150622_105803_cell_91.png', 'C39P4thinF_original_IMG_20150622_105803_cell_111.png', 'C39P4thinF_original_IMG_20150622_105803_cell_93.png', 'C39P4thinF_original_IMG_20150622_105803_cell_99.png', 'C39P4thinF_original_IMG_20150622_105803_cell_83.png', 'C39P4thinF_original_IMG_20150622_105803_cell_89.png', 'C39P4thinF_original_IMG_20150622_105803_cell_98.png', 'C39P4thinF_original_IMG_20150622_105803_cell_102.png', 'C39P4thinF_original_IMG_20150622_105803_cell_104.png', 'C39P4thinF_original_IMG_20150622_105803_cell_92.png', 'C39P4thinF_original_IMG_20150622_105803_cell_86.png', 'C39P4thinF_original_IMG_20150622_105803_cell_88.png', 'C39P4thinF_original_IMG_20150622_105803_cell_100.png', 'C39P4thinF_original_IMG_20150622_105803_cell_105.png', 'C39P4thinF_original_IMG_20150622_105803_cell_112.png', 'C39P4thinF_original_IMG_20150622_105803_cell_109.png', 'C39P4thinF_original_IMG_20150622_105803_cell_82.png', 'C39P4thinF_original_IMG_20150622_105803_cell_90.png', 'C39P4thinF_original_IMG_20150622_105803_cell_94.png', 'C39P4thinF_original_IMG_20150622_105803_cell_79.png', 'C39P4thinF_original_IMG_20150622_105803_cell_103.png', 'C39P4thinF_original_IMG_20150622_105803_cell_78.png', 'C39P4thinF_original_IMG_20150622_105803_cell_96.png', 'C39P4thinF_original_IMG_20150622_105803_cell_95.png', 'C39P4thinF_original_IMG_20150622_105803_cell_107.png', 'C39P4thinF_original_IMG_20150622_110115_cell_123.png', 'C39P4thinF_original_IMG_20150622_110115_cell_122.png', 'C39P4thinF_original_IMG_20150622_110115_cell_127.png', 'C39P4thinF_original_IMG_20150622_110115_cell_109.png', 'C39P4thinF_original_IMG_20150622_110115_cell_131.png', 'C39P4thinF_original_IMG_20150622_110115_cell_104.png', 'C39P4thinF_original_IMG_20150622_110115_cell_133.png', 'C39P4thinF_original_IMG_20150622_110115_cell_106.png', 'C39P4thinF_original_IMG_20150622_110115_cell_110.png', 'C39P4thinF_original_IMG_20150622_110115_cell_111.png', 'C39P4thinF_original_IMG_20150622_110115_cell_118.png', 'C39P4thinF_original_IMG_20150622_110115_cell_124.png', 'C39P4thinF_original_IMG_20150622_110115_cell_105.png', 'C39P4thinF_original_IMG_20150622_110115_cell_107.png', 'C39P4thinF_original_IMG_20150622_110115_cell_134.png', 'C39P4thinF_original_IMG_20150622_110115_cell_114.png', 'C39P4thinF_original_IMG_20150622_110115_cell_119.png', 'C39P4thinF_original_IMG_20150622_110115_cell_113.png', 'C39P4thinF_original_IMG_20150622_110115_cell_130.png', 'C39P4thinF_original_IMG_20150622_110115_cell_132.png', 'C39P4thinF_original_IMG_20150622_110115_cell_116.png', 'C39P4thinF_original_IMG_20150622_110115_cell_115.png', 'C39P4thinF_original_IMG_20150622_110115_cell_137.png', 'C39P4thinF_original_IMG_20150622_110115_cell_125.png', 'C39P4thinF_original_IMG_20150622_110115_cell_135.png', 'C39P4thinF_original_IMG_20150622_110115_cell_136.png', 'C39P4thinF_original_IMG_20150622_110115_cell_126.png', 'C39P4thinF_original_IMG_20150622_110115_cell_121.png', 'C39P4thinF_original_IMG_20150622_110115_cell_138.png', 'C39P4thinF_original_IMG_20150622_110115_cell_108.png', 'C39P4thinF_original_IMG_20150622_110115_cell_120.png', 'C39P4thinF_original_IMG_20150622_110115_cell_117.png', 'C39P4thinF_original_IMG_20150622_110115_cell_128.png', 'C39P4thinF_original_IMG_20150622_110115_cell_112.png', 'C39P4thinF_original_IMG_20150622_110115_cell_129.png', 'C39P4thinF_original_IMG_20150622_110352_cell_99.png', 'C39P4thinF_original_IMG_20150622_110352_cell_114.png', 'C39P4thinF_original_IMG_20150622_110352_cell_96.png', 'C39P4thinF_original_IMG_20150622_110352_cell_109.png', 'C39P4thinF_original_IMG_20150622_110352_cell_94.png', 'C39P4thinF_original_IMG_20150622_110352_cell_80.png', 'C39P4thinF_original_IMG_20150622_110352_cell_112.png', 'C39P4thinF_original_IMG_20150622_110352_cell_110.png', 'C39P4thinF_original_IMG_20150622_110352_cell_111.png', 'C39P4thinF_original_IMG_20150622_110352_cell_89.png', 'C39P4thinF_original_IMG_20150622_110352_cell_103.png', 'C39P4thinF_original_IMG_20150622_110352_cell_92.png', 'C39P4thinF_original_IMG_20150622_110352_cell_93.png', 'C39P4thinF_original_IMG_20150622_110352_cell_97.png', 'C39P4thinF_original_IMG_20150622_110352_cell_90.png', 'C39P4thinF_original_IMG_20150622_110352_cell_105.png', 'C39P4thinF_original_IMG_20150622_110352_cell_102.png', 'C39P4thinF_original_IMG_20150622_110352_cell_87.png', 'C39P4thinF_original_IMG_20150622_110352_cell_106.png', 'C39P4thinF_original_IMG_20150622_110352_cell_84.png', 'C39P4thinF_original_IMG_20150622_110352_cell_108.png', 'C39P4thinF_original_IMG_20150622_110352_cell_100.png', 'C39P4thinF_original_IMG_20150622_110352_cell_78.png', 'C39P4thinF_original_IMG_20150622_110352_cell_82.png', 'C39P4thinF_original_IMG_20150622_110352_cell_85.png', 'C39P4thinF_original_IMG_20150622_110352_cell_88.png', 'C39P4thinF_original_IMG_20150622_110352_cell_113.png', 'C39P4thinF_original_IMG_20150622_110352_cell_86.png', 'C39P4thinF_original_IMG_20150622_110352_cell_81.png', 'C39P4thinF_original_IMG_20150622_110352_cell_98.png', 'C39P4thinF_original_IMG_20150622_110352_cell_79.png', 'C39P4thinF_original_IMG_20150622_110352_cell_91.png', 'C39P4thinF_original_IMG_20150622_110352_cell_104.png', 'C39P4thinF_original_IMG_20150622_110352_cell_107.png', 'C39P4thinF_original_IMG_20150622_110352_cell_95.png', 'C39P4thinF_original_IMG_20150622_110352_cell_101.png', 'C39P4thinF_original_IMG_20150622_110352_cell_83.png', 'C39P4thinF_original_IMG_20150622_110435_cell_105.png', 'C39P4thinF_original_IMG_20150622_110435_cell_87.png', 'C39P4thinF_original_IMG_20150622_110435_cell_101.png', 'C39P4thinF_original_IMG_20150622_110435_cell_98.png', 'C39P4thinF_original_IMG_20150622_110435_cell_97.png', 'C39P4thinF_original_IMG_20150622_110435_cell_88.png', 'C39P4thinF_original_IMG_20150622_110435_cell_89.png', 'C39P4thinF_original_IMG_20150622_110435_cell_95.png', 'C39P4thinF_original_IMG_20150622_110435_cell_94.png', 'C39P4thinF_original_IMG_20150622_110435_cell_83.png', 'C39P4thinF_original_IMG_20150622_110435_cell_104.png', 'C39P4thinF_original_IMG_20150622_110435_cell_103.png', 'C39P4thinF_original_IMG_20150622_110435_cell_85.png', 'C39P4thinF_original_IMG_20150622_110435_cell_106.png', 'C39P4thinF_original_IMG_20150622_110435_cell_100.png', 'C39P4thinF_original_IMG_20150622_110435_cell_84.png', 'C39P4thinF_original_IMG_20150622_110435_cell_86.png', 'C39P4thinF_original_IMG_20150622_110435_cell_93.png', 'C39P4thinF_original_IMG_20150622_110435_cell_109.png', 'C39P4thinF_original_IMG_20150622_110435_cell_107.png', 'C39P4thinF_original_IMG_20150622_110435_cell_99.png', 'C39P4thinF_original_IMG_20150622_110435_cell_90.png', 'C39P4thinF_original_IMG_20150622_110435_cell_108.png', 'C39P4thinF_original_IMG_20150622_110435_cell_102.png', 'C39P4thinF_original_IMG_20150622_110435_cell_92.png', 'C39P4thinF_original_IMG_20150622_110435_cell_91.png', 'C39P4thinF_original_IMG_20150622_110435_cell_96.png', 'C39P4thinF_original_IMG_20150622_110435_cell_114.png', 'C39P4thinF_original_IMG_20150622_110435_cell_113.png', 'C39P4thinF_original_IMG_20150622_110435_cell_116.png', 'C39P4thinF_original_IMG_20150622_110435_cell_119.png', 'C39P4thinF_original_IMG_20150622_110435_cell_111.png', 'C39P4thinF_original_IMG_20150622_110435_cell_110.png', 'C39P4thinF_original_IMG_20150622_110435_cell_117.png', 'C39P4thinF_original_IMG_20150622_110435_cell_115.png', 'C39P4thinF_original_IMG_20150622_110435_cell_112.png', 'C39P4thinF_original_IMG_20150622_110435_cell_118.png', 'C39P4thinF_original_IMG_20150622_110900_cell_4.png', 'C39P4thinF_original_IMG_20150622_110900_cell_21.png', 'C39P4thinF_original_IMG_20150622_110900_cell_13.png', 'C39P4thinF_original_IMG_20150622_110900_cell_12.png', 'C39P4thinF_original_IMG_20150622_110900_cell_8.png', 'C39P4thinF_original_IMG_20150622_110900_cell_10.png', 'C39P4thinF_original_IMG_20150622_110900_cell_3.png', 'C39P4thinF_original_IMG_20150622_110900_cell_22.png', 'C39P4thinF_original_IMG_20150622_110900_cell_16.png', 'C39P4thinF_original_IMG_20150622_110900_cell_6.png', 'C39P4thinF_original_IMG_20150622_110900_cell_11.png', 'C39P4thinF_original_IMG_20150622_110900_cell_7.png', 'C39P4thinF_original_IMG_20150622_110900_cell_5.png', 'C39P4thinF_original_IMG_20150622_110900_cell_20.png', 'C39P4thinF_original_IMG_20150622_110900_cell_18.png', 'C39P4thinF_original_IMG_20150622_110900_cell_19.png', 'C39P4thinF_original_IMG_20150622_110900_cell_14.png', 'C39P4thinF_original_IMG_20150622_110900_cell_17.png', 'C39P4thinF_original_IMG_20150622_110900_cell_9.png', 'C39P4thinF_original_IMG_20150622_110900_cell_1.png', 'C39P4thinF_original_IMG_20150622_110900_cell_2.png', 'C39P4thinF_original_IMG_20150622_110900_cell_15.png', 'C39P4thinF_original_IMG_20150622_111206_cell_87.png', 'C39P4thinF_original_IMG_20150622_111206_cell_86.png', 'C39P4thinF_original_IMG_20150622_111206_cell_83.png', 'C39P4thinF_original_IMG_20150622_111206_cell_109.png', 'C39P4thinF_original_IMG_20150622_111206_cell_80.png', 'C39P4thinF_original_IMG_20150622_111206_cell_108.png', 'C39P4thinF_original_IMG_20150622_111206_cell_102.png', 'C39P4thinF_original_IMG_20150622_111206_cell_100.png', 'C39P4thinF_original_IMG_20150622_111206_cell_79.png', 'C39P4thinF_original_IMG_20150622_111206_cell_107.png', 'C39P4thinF_original_IMG_20150622_111206_cell_76.png', 'C39P4thinF_original_IMG_20150622_111206_cell_98.png', 'C39P4thinF_original_IMG_20150622_111206_cell_106.png', 'C39P4thinF_original_IMG_20150622_111206_cell_81.png', 'C39P4thinF_original_IMG_20150622_111206_cell_111.png', 'C39P4thinF_original_IMG_20150622_111206_cell_104.png', 'C39P4thinF_original_IMG_20150622_111206_cell_77.png', 'C39P4thinF_original_IMG_20150622_111206_cell_93.png', 'C39P4thinF_original_IMG_20150622_111206_cell_112.png', 'C39P4thinF_original_IMG_20150622_111206_cell_95.png', 'C39P4thinF_original_IMG_20150622_111206_cell_92.png', 'C39P4thinF_original_IMG_20150622_111206_cell_103.png', 'C39P4thinF_original_IMG_20150622_111206_cell_110.png', 'C39P4thinF_original_IMG_20150622_111206_cell_78.png', 'C39P4thinF_original_IMG_20150622_111206_cell_94.png', 'C39P4thinF_original_IMG_20150622_111206_cell_97.png', 'C39P4thinF_original_IMG_20150622_111206_cell_89.png', 'C39P4thinF_original_IMG_20150622_111206_cell_105.png', 'C39P4thinF_original_IMG_20150622_111206_cell_85.png', 'C39P4thinF_original_IMG_20150622_111206_cell_90.png', 'C39P4thinF_original_IMG_20150622_111206_cell_88.png', 'C39P4thinF_original_IMG_20150622_111206_cell_101.png', 'C39P4thinF_original_IMG_20150622_111206_cell_84.png', 'C39P4thinF_original_IMG_20150622_111206_cell_91.png', 'C39P4thinF_original_IMG_20150622_111206_cell_99.png', 'C39P4thinF_original_IMG_20150622_111206_cell_82.png', 'C39P4thinF_original_IMG_20150622_111206_cell_96.png', 'C39P4thinF_original_IMG_20150622_111326_cell_1.png', 'C39P4thinF_original_IMG_20150622_111326_cell_2.png', 'C39P4thinF_original_IMG_20150622_111326_cell_5.png', 'C39P4thinF_original_IMG_20150622_111326_cell_4.png', 'C39P4thinF_original_IMG_20150622_111326_cell_6.png', 'C39P4thinF_original_IMG_20150622_111326_cell_7.png', 'C39P4thinF_original_IMG_20150622_111326_cell_3.png', 'C39P4thinF_original_IMG_20150622_111326_cell_24.png', 'C39P4thinF_original_IMG_20150622_111326_cell_22.png', 'C39P4thinF_original_IMG_20150622_111326_cell_11.png', 'C39P4thinF_original_IMG_20150622_111326_cell_21.png', 'C39P4thinF_original_IMG_20150622_111326_cell_23.png', 'C39P4thinF_original_IMG_20150622_111326_cell_15.png', 'C39P4thinF_original_IMG_20150622_111326_cell_17.png', 'C39P4thinF_original_IMG_20150622_111326_cell_14.png', 'C39P4thinF_original_IMG_20150622_111326_cell_13.png', 'C39P4thinF_original_IMG_20150622_111326_cell_19.png', 'C39P4thinF_original_IMG_20150622_111326_cell_9.png', 'C39P4thinF_original_IMG_20150622_111326_cell_10.png', 'C39P4thinF_original_IMG_20150622_111326_cell_12.png', 'C39P4thinF_original_IMG_20150622_111326_cell_20.png', 'C39P4thinF_original_IMG_20150622_111326_cell_25.png', 'C39P4thinF_original_IMG_20150622_111326_cell_16.png', 'C39P4thinF_original_IMG_20150622_111326_cell_18.png', 'C39P4thinF_original_IMG_20150622_111326_cell_8.png', 'C1_thinF_IMG_20150604_104722_cell_15.png', 'C1_thinF_IMG_20150604_104722_cell_9.png', 'C1_thinF_IMG_20150604_104722_cell_60.png', 'C1_thinF_IMG_20150604_104722_cell_81.png', 'C1_thinF_IMG_20150604_104722_cell_66.png', 'C1_thinF_IMG_20150604_104722_cell_73.png', 'C1_thinF_IMG_20150604_104722_cell_79.png', 'C1_thinF_IMG_20150604_104722_cell_164.png', 'C1_thinF_IMG_20150604_104722_cell_143.png', 'C1_thinF_IMG_20150604_104722_cell_115.png', 'C1_thinF_IMG_20150604_104722_cell_123.png', 'C1_thinF_IMG_20150604_104722_cell_231.png', 'C1_thinF_IMG_20150604_104722_cell_191.png', 'C1_thinF_IMG_20150604_104722_cell_211.png', 'C1_thinF_IMG_20150604_104722_cell_216.png', 'C1_thinF_IMG_20150604_104722_cell_248.png', 'C1_thinF_IMG_20150604_104722_cell_242.png', 'C39P4thinF_original_IMG_20150622_111723_cell_78.png', 'C39P4thinF_original_IMG_20150622_111723_cell_79.png', 'C39P4thinF_original_IMG_20150622_111723_cell_77.png', 'C39P4thinF_original_IMG_20150622_111723_cell_76.png', 'C39P4thinF_original_IMG_20150622_111723_cell_93.png', 'C39P4thinF_original_IMG_20150622_111723_cell_96.png', 'C39P4thinF_original_IMG_20150622_111723_cell_81.png', 'C39P4thinF_original_IMG_20150622_111723_cell_83.png', 'C39P4thinF_original_IMG_20150622_111723_cell_91.png', 'C39P4thinF_original_IMG_20150622_111723_cell_90.png', 'C39P4thinF_original_IMG_20150622_111723_cell_82.png', 'C39P4thinF_original_IMG_20150622_111723_cell_80.png', 'C39P4thinF_original_IMG_20150622_111723_cell_94.png', 'C39P4thinF_original_IMG_20150622_111723_cell_92.png', 'C39P4thinF_original_IMG_20150622_111723_cell_88.png', 'C39P4thinF_original_IMG_20150622_111723_cell_95.png', 'C39P4thinF_original_IMG_20150622_111723_cell_84.png', 'C39P4thinF_original_IMG_20150622_111723_cell_86.png', 'C39P4thinF_original_IMG_20150622_111723_cell_97.png', 'C39P4thinF_original_IMG_20150622_111723_cell_85.png', 'C39P4thinF_original_IMG_20150622_111723_cell_99.png', 'C39P4thinF_original_IMG_20150622_111723_cell_98.png', 'C39P4thinF_original_IMG_20150622_111723_cell_89.png', 'C39P4thinF_original_IMG_20150622_111723_cell_87.png', 'C1_thinF_IMG_20150604_104919_cell_31.png', 'C1_thinF_IMG_20150604_104919_cell_96.png', 'C1_thinF_IMG_20150604_104919_cell_86.png', 'C1_thinF_IMG_20150604_104919_cell_82.png', 'C1_thinF_IMG_20150604_104919_cell_84.png', 'C1_thinF_IMG_20150604_104919_cell_157.png', 'C1_thinF_IMG_20150604_104919_cell_132.png', 'C1_thinF_IMG_20150604_104919_cell_164.png', 'C1_thinF_IMG_20150604_104919_cell_163.png', 'C1_thinF_IMG_20150604_104919_cell_123.png', 'C1_thinF_IMG_20150604_104919_cell_134.png', 'C1_thinF_IMG_20150604_104919_cell_178.png', 'C1_thinF_IMG_20150604_104919_cell_183.png', 'C1_thinF_IMG_20150604_104919_cell_224.png', 'C1_thinF_IMG_20150604_104919_cell_240.png', 'C1_thinF_IMG_20150604_104919_cell_199.png', 'C1_thinF_IMG_20150604_104919_cell_173.png', 'C1_thinF_IMG_20150604_104919_cell_189.png', 'C39P4thinF_original_IMG_20150622_111942_cell_4.png', 'C39P4thinF_original_IMG_20150622_111942_cell_13.png', 'C39P4thinF_original_IMG_20150622_111942_cell_12.png', 'C39P4thinF_original_IMG_20150622_111942_cell_16.png', 'C39P4thinF_original_IMG_20150622_111942_cell_17.png', 'C39P4thinF_original_IMG_20150622_111942_cell_10.png', 'C39P4thinF_original_IMG_20150622_111942_cell_8.png', 'C39P4thinF_original_IMG_20150622_111942_cell_18.png', 'C39P4thinF_original_IMG_20150622_111942_cell_9.png', 'C39P4thinF_original_IMG_20150622_111942_cell_20.png', 'C39P4thinF_original_IMG_20150622_111942_cell_19.png', 'C39P4thinF_original_IMG_20150622_111942_cell_5.png', 'C39P4thinF_original_IMG_20150622_111942_cell_1.png', 'C39P4thinF_original_IMG_20150622_111942_cell_11.png', 'C39P4thinF_original_IMG_20150622_111942_cell_3.png', 'C39P4thinF_original_IMG_20150622_111942_cell_2.png', 'C39P4thinF_original_IMG_20150622_111942_cell_15.png', 'C39P4thinF_original_IMG_20150622_111942_cell_7.png', 'C39P4thinF_original_IMG_20150622_111942_cell_14.png', 'C39P4thinF_original_IMG_20150622_111942_cell_6.png', 'C39P4thinF_original_IMG_20150622_111942_cell_22.png', 'C39P4thinF_original_IMG_20150622_111942_cell_23.png', 'C39P4thinF_original_IMG_20150622_111942_cell_21.png', 'C39P4thinF_original_IMG_20150622_111942_cell_24.png', 'C102P63ThinF_IMG_20150918_161508_cell_37.png', 'C102P63ThinF_IMG_20150918_161508_cell_14.png', 'C102P63ThinF_IMG_20150918_161508_cell_71.png', 'C102P63ThinF_IMG_20150918_161508_cell_101.png', 'C102P63ThinF_IMG_20150918_161508_cell_143.png', 'C102P63ThinF_IMG_20150918_161508_cell_172.png', 'C102P63ThinF_IMG_20150918_161508_cell_150.png', 'C102P63ThinF_IMG_20150918_161508_cell_113.png', 'C102P63ThinF_IMG_20150918_161508_cell_133.png', 'C102P63ThinF_IMG_20150918_161508_cell_175.png', 'C39P4thinF_original_IMG_20150622_112119_cell_18.png', 'C39P4thinF_original_IMG_20150622_112119_cell_20.png', 'C39P4thinF_original_IMG_20150622_112119_cell_11.png', 'C39P4thinF_original_IMG_20150622_112119_cell_21.png', 'C39P4thinF_original_IMG_20150622_112119_cell_3.png', 'C39P4thinF_original_IMG_20150622_112119_cell_5.png', 'C39P4thinF_original_IMG_20150622_112119_cell_6.png', 'C39P4thinF_original_IMG_20150622_112119_cell_10.png', 'C39P4thinF_original_IMG_20150622_112119_cell_16.png', 'C39P4thinF_original_IMG_20150622_112119_cell_17.png', 'C39P4thinF_original_IMG_20150622_112119_cell_2.png', 'C39P4thinF_original_IMG_20150622_112119_cell_9.png', 'C39P4thinF_original_IMG_20150622_112119_cell_19.png', 'C39P4thinF_original_IMG_20150622_112119_cell_4.png', 'C39P4thinF_original_IMG_20150622_112119_cell_12.png', 'C39P4thinF_original_IMG_20150622_112119_cell_22.png', 'C39P4thinF_original_IMG_20150622_112119_cell_14.png', 'C39P4thinF_original_IMG_20150622_112119_cell_15.png', 'C39P4thinF_original_IMG_20150622_112119_cell_8.png', 'C39P4thinF_original_IMG_20150622_112119_cell_7.png', 'C39P4thinF_original_IMG_20150622_112119_cell_13.png', 'C39P4thinF_original_IMG_20150622_112119_cell_1.png', 'C1_thinF_IMG_20150604_104942_cell_20.png', 'C1_thinF_IMG_20150604_104942_cell_11.png', 'C1_thinF_IMG_20150604_104942_cell_59.png', 'C1_thinF_IMG_20150604_104942_cell_4.png', 'C1_thinF_IMG_20150604_104942_cell_102.png', 'C1_thinF_IMG_20150604_104942_cell_98.png', 'C1_thinF_IMG_20150604_104942_cell_72.png', 'C1_thinF_IMG_20150604_104942_cell_152.png', 'C1_thinF_IMG_20150604_104942_cell_139.png', 'C1_thinF_IMG_20150604_104942_cell_151.png', 'C1_thinF_IMG_20150604_104942_cell_168.png', 'C1_thinF_IMG_20150604_104942_cell_154.png', 'C1_thinF_IMG_20150604_104942_cell_156.png', 'C1_thinF_IMG_20150604_104942_cell_209.png', 'C1_thinF_IMG_20150604_104942_cell_185.png', 'C1_thinF_IMG_20150604_104942_cell_218.png', 'C1_thinF_IMG_20150604_104942_cell_203.png', 'C1_thinF_IMG_20150604_104942_cell_269.png', 'C102P63ThinF_IMG_20150918_161826_cell_19.png', 'C102P63ThinF_IMG_20150918_161826_cell_63.png', 'C102P63ThinF_IMG_20150918_161826_cell_65.png', 'C102P63ThinF_IMG_20150918_161826_cell_41.png', 'C102P63ThinF_IMG_20150918_161826_cell_70.png', 'C102P63ThinF_IMG_20150918_161826_cell_54.png', 'C102P63ThinF_IMG_20150918_161826_cell_133.png', 'C102P63ThinF_IMG_20150918_161826_cell_144.png', 'C102P63ThinF_IMG_20150918_161826_cell_152.png', 'C102P63ThinF_IMG_20150918_161826_cell_154.png', 'C39P4thinF_original_IMG_20150622_113126_cell_10.png', 'C39P4thinF_original_IMG_20150622_113126_cell_3.png', 'C39P4thinF_original_IMG_20150622_113126_cell_4.png', 'C39P4thinF_original_IMG_20150622_113126_cell_5.png', 'C39P4thinF_original_IMG_20150622_113126_cell_11.png', 'C33P1thinF_IMG_20150619_114756a_cell_181.png', 'C33P1thinF_IMG_20150619_114756a_cell_179.png', 'C33P1thinF_IMG_20150619_114756a_cell_180.png', 'C33P1thinF_IMG_20150619_114756a_cell_182.png', 'C33P1thinF_IMG_20150619_115740a_cell_162.png', 'C33P1thinF_IMG_20150619_115740a_cell_163.png', 'C33P1thinF_IMG_20150619_115740a_cell_161.png', 'C33P1thinF_IMG_20150619_115808a_cell_205.png', 'C33P1thinF_IMG_20150619_115808a_cell_206.png', 'C33P1thinF_IMG_20150619_120645a_cell_217.png', 'C33P1thinF_IMG_20150619_120645a_cell_215.png', 'C33P1thinF_IMG_20150619_120645a_cell_216.png', 'C33P1thinF_IMG_20150619_120742a_cell_210.png', 'C33P1thinF_IMG_20150619_120804a_cell_224.png', 'C33P1thinF_IMG_20150619_120838a_cell_222.png', 'C33P1thinF_IMG_20150619_121102a_cell_193.png', 'C33P1thinF_IMG_20150619_121229a_cell_179.png', 'C33P1thinF_IMG_20150619_121229a_cell_177.png', 'C33P1thinF_IMG_20150619_121229a_cell_178.png', 'C33P1thinF_IMG_20150619_121300a_cell_156.png', 'C33P1thinF_IMG_20150619_121411a_cell_189.png', 'C33P1thinF_IMG_20150619_121411a_cell_190.png', 'C33P1thinF_IMG_20150619_121435a_cell_173.png', 'C33P1thinF_IMG_20150619_121503a_cell_158.png', 'C33P1thinF_IMG_20150619_121503a_cell_159.png', 'C37BP2_thinF_IMG_20150620_131423a_cell_93.png', 'C37BP2_thinF_IMG_20150620_131423a_cell_92.png', 'C37BP2_thinF_IMG_20150620_131423a_cell_94.png', 'C37BP2_thinF_IMG_20150620_132440a_cell_108.png', 'C37BP2_thinF_IMG_20150620_132847a_cell_77.png', 'C37BP2_thinF_IMG_20150620_132847a_cell_76.png', 'C37BP2_thinF_IMG_20150620_133001a_cell_76.png', 'C37BP2_thinF_IMG_20150620_133001a_cell_77.png', 'C37BP2_thinF_IMG_20150620_133111a_cell_88.png', 'C37BP2_thinF_IMG_20150620_133111a_cell_86.png', 'C37BP2_thinF_IMG_20150620_133111a_cell_87.png', 'C37BP2_thinF_IMG_20150620_133205a_cell_88.png', 'C37BP2_thinF_IMG_20150620_133205a_cell_87.png', 'C37BP2_thinF_IMG_20150620_133238a_cell_97.png', 'C38P3thinF_original_IMG_20150621_112043_cell_202.png', 'C38P3thinF_original_IMG_20150621_112043_cell_203.png', 'C38P3thinF_original_IMG_20150621_112116_cell_205.png', 'C38P3thinF_original_IMG_20150621_112116_cell_204.png', 'C38P3thinF_original_IMG_20150621_112138_cell_183.png', 'C38P3thinF_original_IMG_20150621_112246_cell_236.png', 'C39P4thinF_original_IMG_20150622_105102_cell_80.png', 'C39P4thinF_original_IMG_20150622_105102_cell_83.png', 'C39P4thinF_original_IMG_20150622_105102_cell_79.png', 'C39P4thinF_original_IMG_20150622_105102_cell_81.png', 'C39P4thinF_original_IMG_20150622_105102_cell_82.png', 'C39P4thinF_original_IMG_20150622_105102_cell_95.png', 'C39P4thinF_original_IMG_20150622_105102_cell_97.png', 'C39P4thinF_original_IMG_20150622_105102_cell_101.png', 'C39P4thinF_original_IMG_20150622_105102_cell_90.png', 'C39P4thinF_original_IMG_20150622_105102_cell_94.png', 'C39P4thinF_original_IMG_20150622_105102_cell_87.png', 'C39P4thinF_original_IMG_20150622_105102_cell_99.png', 'C39P4thinF_original_IMG_20150622_105102_cell_89.png', 'C39P4thinF_original_IMG_20150622_105102_cell_107.png', 'C39P4thinF_original_IMG_20150622_105102_cell_104.png', 'C39P4thinF_original_IMG_20150622_105102_cell_84.png', 'C39P4thinF_original_IMG_20150622_105102_cell_88.png', 'C39P4thinF_original_IMG_20150622_105102_cell_96.png', 'C39P4thinF_original_IMG_20150622_105102_cell_102.png', 'C39P4thinF_original_IMG_20150622_105102_cell_103.png', 'C39P4thinF_original_IMG_20150622_105102_cell_92.png', 'C39P4thinF_original_IMG_20150622_105102_cell_91.png', 'C39P4thinF_original_IMG_20150622_105102_cell_85.png', 'C39P4thinF_original_IMG_20150622_105102_cell_93.png', 'C39P4thinF_original_IMG_20150622_105102_cell_105.png', 'C39P4thinF_original_IMG_20150622_105102_cell_100.png', 'C39P4thinF_original_IMG_20150622_105102_cell_98.png', 'C39P4thinF_original_IMG_20150622_105102_cell_106.png', 'C39P4thinF_original_IMG_20150622_105102_cell_86.png', 'C39P4thinF_original_IMG_20150622_105253_cell_96.png', 'C39P4thinF_original_IMG_20150622_105253_cell_104.png', 'C39P4thinF_original_IMG_20150622_105253_cell_107.png', 'C39P4thinF_original_IMG_20150622_105253_cell_110.png', 'C39P4thinF_original_IMG_20150622_105253_cell_102.png', 'C39P4thinF_original_IMG_20150622_105253_cell_93.png']\n",
            "1000\n"
          ],
          "name": "stdout"
        }
      ]
    },
    {
      "cell_type": "code",
      "metadata": {
        "id": "wmlfw8dPj0tQ",
        "colab_type": "code",
        "colab": {}
      },
      "source": [
        "#SEGMENTASI CANNY DAN EKSTRAKSI HUMOMENT\n",
        "\n",
        "x = np.array([['H1','H2','H3','H4','H5','H6','H7','Actual']])\n",
        "\n",
        "#Proses Citra Malaria Terinfeksi\n",
        "for i in range(len(cCitra)):\n",
        "    img = cv2.imread('/content/drive/My Drive/Dataset/ContohCitra/CITRA'+ \"/\" + cCitra[i])\n",
        "    edges = cv2.Canny(img,80,30)\n",
        "    a = cv2.HuMoments(cv2.moments(edges)).flatten()\n",
        "    a = np.append(a,1)\n",
        "    x = np.vstack((x,a))"
      ],
      "execution_count": 0,
      "outputs": []
    },
    {
      "cell_type": "code",
      "metadata": {
        "id": "LfUZmMV0k3Vu",
        "colab_type": "code",
        "colab": {}
      },
      "source": [
        "#EXPORT to CSV\n",
        "np.savetxt(\"/content/drive/My Drive/Dataset/Example.csv\", x, fmt='%s',delimiter=',' )"
      ],
      "execution_count": 0,
      "outputs": []
    },
    {
      "cell_type": "code",
      "metadata": {
        "id": "Sw9fDwMCmpCy",
        "colab_type": "code",
        "outputId": "c43bf741-3d31-4eef-f65c-2985074e9a89",
        "colab": {
          "base_uri": "https://localhost:8080/",
          "height": 284
        }
      },
      "source": [
        "#LOAD CSV DATASET\n",
        "\n",
        "dataset = pd.read_csv('/content/drive/My Drive/Dataset/Example.csv')\n",
        "print (len(dataset))\n",
        "print (dataset)"
      ],
      "execution_count": 8,
      "outputs": [
        {
          "output_type": "stream",
          "text": [
            "1000\n",
            "           H1        H2            H3  ...            H6            H7  Actual\n",
            "0    0.014561  0.000029  3.632756e-08  ...  6.353503e-12  4.330040e-16     1.0\n",
            "1    0.026547  0.000170  1.138837e-06  ...  3.063264e-08 -3.005370e-12     1.0\n",
            "2    0.028276  0.000027  3.460565e-07  ...  5.265115e-09 -6.515198e-13     1.0\n",
            "3    0.024422  0.000022  1.157081e-07  ...  3.187912e-10 -6.131459e-14     1.0\n",
            "4    0.019319  0.000002  1.072033e-07  ...  7.293107e-10  9.598053e-14     1.0\n",
            "..        ...       ...           ...  ...           ...           ...     ...\n",
            "995  0.012752  0.000043  2.179522e-07  ...  1.653583e-11 -1.029641e-16     1.0\n",
            "996  0.018757  0.000024  4.702513e-09  ...  6.308761e-09  1.009837e-13     1.0\n",
            "997  0.018091  0.000002  7.336674e-08  ...  3.725437e-10  9.225196e-14     1.0\n",
            "998  0.019440  0.000045  1.845630e-07  ...  2.614035e-09 -1.054526e-13     1.0\n",
            "999  0.016831  0.000017  1.238836e-07  ... -2.620264e-12 -3.714716e-17     1.0\n",
            "\n",
            "[1000 rows x 8 columns]\n"
          ],
          "name": "stdout"
        }
      ]
    },
    {
      "cell_type": "code",
      "metadata": {
        "id": "oV9h8qaqnwh-",
        "colab_type": "code",
        "outputId": "d2f37443-f6f0-4c60-f068-a760dc97e794",
        "colab": {
          "base_uri": "https://localhost:8080/",
          "height": 195
        }
      },
      "source": [
        "#split target and attribute (membagi data)\n",
        "x = dataset.iloc[:, 0:7] #mulai dr colmn index ke0, sbnyk 7 kolom(H1-H7) msuk ke var (X)\n",
        "y = dataset.iloc[:, 7] #hny kolom index ke7 yg msuk ke var (Y)\n",
        "\n",
        "\n",
        "#split train n test dataset\n",
        "x_train, x_test, y_train, y_test = train_test_split(x,y, random_state=2, test_size=0.002)\n",
        "\n",
        "print(len(x_train))\n",
        "print(len(x_test))\n",
        "print(len(y_train))\n",
        "print(len(y_test))\n",
        "\n",
        "print(len(dataset))\n",
        "x\n",
        "x_test"
      ],
      "execution_count": 28,
      "outputs": [
        {
          "output_type": "stream",
          "text": [
            "998\n",
            "2\n",
            "998\n",
            "2\n",
            "1000\n"
          ],
          "name": "stdout"
        },
        {
          "output_type": "execute_result",
          "data": {
            "text/html": [
              "<div>\n",
              "<style scoped>\n",
              "    .dataframe tbody tr th:only-of-type {\n",
              "        vertical-align: middle;\n",
              "    }\n",
              "\n",
              "    .dataframe tbody tr th {\n",
              "        vertical-align: top;\n",
              "    }\n",
              "\n",
              "    .dataframe thead th {\n",
              "        text-align: right;\n",
              "    }\n",
              "</style>\n",
              "<table border=\"1\" class=\"dataframe\">\n",
              "  <thead>\n",
              "    <tr style=\"text-align: right;\">\n",
              "      <th></th>\n",
              "      <th>H1</th>\n",
              "      <th>H2</th>\n",
              "      <th>H3</th>\n",
              "      <th>H4</th>\n",
              "      <th>H5</th>\n",
              "      <th>H6</th>\n",
              "      <th>H7</th>\n",
              "    </tr>\n",
              "  </thead>\n",
              "  <tbody>\n",
              "    <tr>\n",
              "      <th>37</th>\n",
              "      <td>0.025811</td>\n",
              "      <td>0.000038</td>\n",
              "      <td>4.813420e-07</td>\n",
              "      <td>4.715230e-07</td>\n",
              "      <td>-1.105526e-13</td>\n",
              "      <td>2.299921e-09</td>\n",
              "      <td>-1.955502e-13</td>\n",
              "    </tr>\n",
              "    <tr>\n",
              "      <th>726</th>\n",
              "      <td>0.014683</td>\n",
              "      <td>0.000005</td>\n",
              "      <td>3.169009e-08</td>\n",
              "      <td>1.121903e-07</td>\n",
              "      <td>-3.297680e-15</td>\n",
              "      <td>-2.117526e-10</td>\n",
              "      <td>-5.820215e-15</td>\n",
              "    </tr>\n",
              "  </tbody>\n",
              "</table>\n",
              "</div>"
            ],
            "text/plain": [
              "           H1        H2            H3  ...            H5            H6            H7\n",
              "37   0.025811  0.000038  4.813420e-07  ... -1.105526e-13  2.299921e-09 -1.955502e-13\n",
              "726  0.014683  0.000005  3.169009e-08  ... -3.297680e-15 -2.117526e-10 -5.820215e-15\n",
              "\n",
              "[2 rows x 7 columns]"
            ]
          },
          "metadata": {
            "tags": []
          },
          "execution_count": 28
        }
      ]
    },
    {
      "cell_type": "code",
      "metadata": {
        "id": "1f0a3XjM9WKz",
        "colab_type": "code",
        "outputId": "03f8308b-7850-4d61-c7e5-62bc26ba3a78",
        "colab": {
          "base_uri": "https://localhost:8080/",
          "height": 521
        }
      },
      "source": [
        "print(y_train.value_counts()) #mnmpilkn jum.data y_train brdsrkn value\n",
        "\n",
        "print(y_test.value_counts())  #mnmpilkn jum.data y_test brdsrkn value\n",
        "\n",
        "\n",
        "plt.figure(figsize=(6,6)) #mngtur ukuran skla grafik\n",
        "\n",
        "#mnmpilkn visualisasi grafik\n",
        "plt.subplot(2,1,1);y_train.value_counts().plot(kind='bar', color=['C0','C1','C2','C3','C4','C5','C6']);plt.title('TRAINING')\n",
        "plt.subplot(2,1,2);y_test.value_counts().plot(kind='bar', color=['C0','C1','C2','C3','C4','C5','C6']);plt.title('TESTING')"
      ],
      "execution_count": 32,
      "outputs": [
        {
          "output_type": "stream",
          "text": [
            "1.0    998\n",
            "Name: Actual, dtype: int64\n",
            "1.0    2\n",
            "Name: Actual, dtype: int64\n",
            "/n\n",
            "/n\n"
          ],
          "name": "stdout"
        },
        {
          "output_type": "execute_result",
          "data": {
            "text/plain": [
              "Text(0.5, 1.0, 'TESTING')"
            ]
          },
          "metadata": {
            "tags": []
          },
          "execution_count": 32
        },
        {
          "output_type": "display_data",
          "data": {
            "image/png": "[encoded data removed]",
            "text/plain": [
              "<Figure size 432x432 with 2 Axes>"
            ]
          },
          "metadata": {
            "tags": [],
            "needs_background": "light"
          }
        }
      ]
    },
    {
      "cell_type": "code",
      "metadata": {
        "id": "EW2nHFf5-HFs",
        "colab_type": "code",
        "outputId": "c42da0ba-6cf5-4d6a-d645-4f0b11ca4eed",
        "colab": {
          "base_uri": "https://localhost:8080/",
          "height": 248
        }
      },
      "source": [
        "#scaling data\n",
        "sc_x = StandardScaler()\n",
        "x_train = sc_x.fit_transform(x_train)\n",
        "\n",
        "x_test = sc_x.transform(x_test)\n",
        "x_train"
      ],
      "execution_count": 33,
      "outputs": [
        {
          "output_type": "execute_result",
          "data": {
            "text/plain": [
              "array([[ 2.89946232e-01,  5.43691515e-01,  5.89247858e-01, ...,\n",
              "         7.52526554e-01,  9.96228294e-01,  3.76260490e-01],\n",
              "       [ 3.39672618e-01, -6.38865231e-01, -1.32583350e-01, ...,\n",
              "         4.44594860e-02, -3.20290739e-01, -4.37605065e-02],\n",
              "       [-8.72205305e-01, -6.52548980e-01, -5.14877150e-01, ...,\n",
              "         4.50083897e-02, -3.06187582e-01,  4.55191950e-02],\n",
              "       ...,\n",
              "       [-3.11814387e-01, -2.46550278e-01, -5.94127244e-01, ...,\n",
              "         4.69318085e-02, -3.95015388e-01,  2.78872773e-04],\n",
              "       [-1.15897272e+00,  1.26539876e-01, -2.51486768e-01, ...,\n",
              "         8.06063654e-02, -9.85359931e-02, -6.87721642e-02],\n",
              "       [-5.44991556e-01, -5.84561826e-01, -5.32501236e-01, ...,\n",
              "         5.21338519e-02, -3.31718880e-01, -2.38815596e-02]])"
            ]
          },
          "metadata": {
            "tags": []
          },
          "execution_count": 33
        }
      ]
    },
    {
      "cell_type": "code",
      "metadata": {
        "id": "N4OoqevX-NM3",
        "colab_type": "code",
        "outputId": "61aa1a97-ed0e-4dc4-a160-e3927be101ad",
        "colab": {
          "base_uri": "https://localhost:8080/",
          "height": 35
        }
      },
      "source": [
        "math.sqrt(len(y_test))"
      ],
      "execution_count": 36,
      "outputs": [
        {
          "output_type": "execute_result",
          "data": {
            "text/plain": [
              "1.4142135623730951"
            ]
          },
          "metadata": {
            "tags": []
          },
          "execution_count": 36
        }
      ]
    },
    {
      "cell_type": "code",
      "metadata": {
        "id": "cdCjG_8L-Tyy",
        "colab_type": "code",
        "outputId": "0b410dbf-57c5-4dae-c438-915c546be2b1",
        "colab": {
          "base_uri": "https://localhost:8080/",
          "height": 70
        }
      },
      "source": [
        "#choose method knn and fitting\n",
        "classifier = KNeighborsClassifier(n_neighbors=2,p=2,metric='euclidean')\n",
        "classifier.fit (x_train, y_train)"
      ],
      "execution_count": 37,
      "outputs": [
        {
          "output_type": "execute_result",
          "data": {
            "text/plain": [
              "KNeighborsClassifier(algorithm='auto', leaf_size=30, metric='euclidean',\n",
              "                     metric_params=None, n_jobs=None, n_neighbors=2, p=2,\n",
              "                     weights='uniform')"
            ]
          },
          "metadata": {
            "tags": []
          },
          "execution_count": 37
        }
      ]
    },
    {
      "cell_type": "code",
      "metadata": {
        "id": "Szb9dw6c-bCA",
        "colab_type": "code",
        "outputId": "fe354428-29ce-4adb-f991-2717d73644c7",
        "colab": {
          "base_uri": "https://localhost:8080/",
          "height": 35
        }
      },
      "source": [
        "#proses testing\n",
        "\n",
        "#hasil prediksi/testing dismpn ke (y_pred)\n",
        "y_pred = classifier.predict(x_test)\n",
        "y_pred"
      ],
      "execution_count": 38,
      "outputs": [
        {
          "output_type": "execute_result",
          "data": {
            "text/plain": [
              "array([1., 1.])"
            ]
          },
          "metadata": {
            "tags": []
          },
          "execution_count": 38
        }
      ]
    },
    {
      "cell_type": "code",
      "metadata": {
        "id": "QnvyTK5p-kSH",
        "colab_type": "code",
        "outputId": "045d4647-9645-460e-81bf-1337a2c26433",
        "colab": {
          "base_uri": "https://localhost:8080/",
          "height": 106
        }
      },
      "source": [
        "cm = confusion_matrix(y_test, y_pred)\n",
        "print (cm)\n",
        "print(\"Akurasi :\" , accuracy_score(y_test, y_pred))\n",
        "print(\"presisi :\" , precision_score(y_test, y_pred))\n",
        "print(\"recall :\" , recall_score(y_test, y_pred))\n",
        "print(\"F-Measure :\" , f1_score(y_test, y_pred))"
      ],
      "execution_count": 39,
      "outputs": [
        {
          "output_type": "stream",
          "text": [
            "[[2]]\n",
            "Akurasi : 1.0\n",
            "presisi : 1.0\n",
            "recall : 1.0\n",
            "F-Measure : 1.0\n"
          ],
          "name": "stdout"
        }
      ]
    }
  ]
}
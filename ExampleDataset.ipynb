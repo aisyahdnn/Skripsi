{
  "nbformat": 4,
  "nbformat_minor": 0,
  "metadata": {
    "colab": {
      "name": "ExampleDataset.ipynb",
      "provenance": [],
      "mount_file_id": "https://github.com/aisyahdnn/Skripsi/blob/master/ExampleDataset.ipynb",
      "authorship_tag": "ABX9TyM9vJDBseu4csH1JiFNcbBV",
      "include_colab_link": true
    },
    "kernelspec": {
      "name": "python3",
      "display_name": "Python 3"
    }
  },
  "cells": [
    {
      "cell_type": "markdown",
      "metadata": {
        "id": "view-in-github",
        "colab_type": "text"
      },
      "source": [
        "<a href=\"https://colab.research.google.com/github/aisyahdnn/Skripsi/blob/master/ExampleDataset.ipynb\" target=\"_parent\"><img src=\"https://colab.research.google.com/assets/colab-badge.svg\" alt=\"Open In Colab\"/></a>"
      ]
    },
    {
      "cell_type": "code",
      "metadata": {
        "id": "fRZI7dfl8icj",
        "colab_type": "code",
        "outputId": "89eed423-e3a3-4f05-cabf-a8dcacf0fdbd",
        "colab": {
          "base_uri": "https://localhost:8080/",
          "height": 55
        }
      },
      "source": [
        "from google.colab import drive\n",
        "drive.mount('/content/drive')"
      ],
      "execution_count": 1,
      "outputs": [
        {
          "output_type": "stream",
          "text": [
            "Drive already mounted at /content/drive; to attempt to forcibly remount, call drive.mount(\"/content/drive\", force_remount=True).\n"
          ],
          "name": "stdout"
        }
      ]
    },
    {
      "cell_type": "code",
      "metadata": {
        "id": "Q5DpQdow_1Wr",
        "colab_type": "code",
        "colab": {}
      },
      "source": [
        "import pandas as pd\n",
        "import numpy as np\n",
        "import math\n",
        "import os\n",
        "import matplotlib.pyplot as plt\n",
        "import cv2\n",
        "\n",
        "from sklearn.model_selection import train_test_split\n",
        "from sklearn.preprocessing import StandardScaler \n",
        "from sklearn.neighbors import KNeighborsClassifier\n",
        "\n",
        "from sklearn.metrics import confusion_matrix\n",
        "from sklearn.metrics import f1_score\n",
        "from sklearn.metrics import accuracy_score\n",
        "from sklearn.metrics import precision_score\n",
        "from sklearn.metrics import recall_score\n",
        "\n",
        "from skimage import io\n",
        "from skimage import feature"
      ],
      "execution_count": 0,
      "outputs": []
    },
    {
      "cell_type": "code",
      "metadata": {
        "id": "ie8ZsN7NAUIJ",
        "colab_type": "code",
        "outputId": "d34caa3c-d1a9-4b56-809a-53c81ded9851",
        "colab": {
          "base_uri": "https://localhost:8080/",
          "height": 52
        }
      },
      "source": [
        "cCitra = os.listdir('/content/drive/My Drive/Dataset/DataTest')\n",
        "print(cCitra)\n",
        "print(len(cCitra))"
      ],
      "execution_count": 12,
      "outputs": [
        {
          "output_type": "stream",
          "text": [
            "['C37BP2_thinF_IMG_20150620_132440a_cell_108.png', 'C37BP2_thinF_IMG_20150620_132847a_cell_76.png']\n",
            "2\n"
          ],
          "name": "stdout"
        }
      ]
    },
    {
      "cell_type": "code",
      "metadata": {
        "id": "wmlfw8dPj0tQ",
        "colab_type": "code",
        "colab": {}
      },
      "source": [
        "#SEGMENTASI CANNY DAN EKSTRAKSI HUMOMENT\n",
        "\n",
        "x = np.array([['H1','H2','H3','H4','H5','H6','H7','Actual']])\n",
        "\n",
        "#Proses Citra Malaria Terinfeksi\n",
        "for i in range(len(cCitra)):\n",
        "    img = cv2.imread('/content/drive/My Drive/Dataset/DataTest'+ \"/\" + cCitra[i])\n",
        "    edges = cv2.Canny(img,80,30)\n",
        "    a = cv2.HuMoments(cv2.moments(edges)).flatten()\n",
        "    a = np.append(a,100)\n",
        "    x = np.vstack((x,a))"
      ],
      "execution_count": 0,
      "outputs": []
    },
    {
      "cell_type": "code",
      "metadata": {
        "id": "LfUZmMV0k3Vu",
        "colab_type": "code",
        "colab": {}
      },
      "source": [
        "#EXPORT to CSV\n",
        "np.savetxt(\"/content/drive/My Drive/Dataset/DatasetTest.csv\", x, fmt='%s',delimiter=',' )"
      ],
      "execution_count": 0,
      "outputs": []
    },
    {
      "cell_type": "code",
      "metadata": {
        "id": "Sw9fDwMCmpCy",
        "colab_type": "code",
        "outputId": "20bd54b6-784b-4a77-d308-5faea42c5630",
        "colab": {
          "base_uri": "https://localhost:8080/",
          "height": 347
        }
      },
      "source": [
        "#LOAD DATASET\n",
        "\n",
        "datasettrain = pd.read_csv('/content/drive/My Drive/Dataset/DatasetTrain.csv')\n",
        "datasettest = pd.read_csv('/content/drive/My Drive/Dataset/DatasetTest.csv')\n",
        "\n",
        "print(datasettrain)\n",
        "print(datasettest)"
      ],
      "execution_count": 19,
      "outputs": [
        {
          "output_type": "stream",
          "text": [
            "           H1        H2            H3  ...            H6            H7  Actual\n",
            "0    0.014561  0.000029  3.632756e-08  ...  6.353503e-12  4.330040e-16     1.0\n",
            "1    0.026547  0.000170  1.138837e-06  ...  3.063264e-08 -3.005370e-12     1.0\n",
            "2    0.028276  0.000027  3.460565e-07  ...  5.265115e-09 -6.515198e-13     1.0\n",
            "3    0.024422  0.000022  1.157081e-07  ...  3.187912e-10 -6.131459e-14     1.0\n",
            "4    0.019319  0.000002  1.072033e-07  ...  7.293107e-10  9.598053e-14     1.0\n",
            "..        ...       ...           ...  ...           ...           ...     ...\n",
            "995  0.012752  0.000043  2.179522e-07  ...  1.653583e-11 -1.029641e-16     1.0\n",
            "996  0.018757  0.000024  4.702513e-09  ...  6.308761e-09  1.009837e-13     1.0\n",
            "997  0.018091  0.000002  7.336674e-08  ...  3.725437e-10  9.225196e-14     1.0\n",
            "998  0.019440  0.000045  1.845630e-07  ...  2.614035e-09 -1.054526e-13     1.0\n",
            "999  0.016831  0.000017  1.238836e-07  ... -2.620264e-12 -3.714716e-17     1.0\n",
            "\n",
            "[1000 rows x 8 columns]\n",
            "         H1            H2            H3  ...            H6            H7  Actual\n",
            "0  0.012371  1.943389e-08  3.778350e-09  ...  8.381070e-13 -2.110792e-16   100.0\n",
            "1  0.008265  1.195952e-07  9.899467e-09  ...  7.751217e-13 -4.642151e-16   100.0\n",
            "\n",
            "[2 rows x 8 columns]\n"
          ],
          "name": "stdout"
        }
      ]
    },
    {
      "cell_type": "code",
      "metadata": {
        "id": "oV9h8qaqnwh-",
        "colab_type": "code",
        "colab": {}
      },
      "source": [
        "#split dataset\n",
        "\n",
        "x_train = datasettrain.iloc[:, 0:7] \n",
        "y_train = datasettrain.iloc[:, 7]\n",
        " \n",
        "x_test = datasettest.iloc[:, 0:7] \n",
        "y_test = datasettest.iloc[:, 7]"
      ],
      "execution_count": 0,
      "outputs": []
    },
    {
      "cell_type": "code",
      "metadata": {
        "id": "1f0a3XjM9WKz",
        "colab_type": "code",
        "outputId": "03f8308b-7850-4d61-c7e5-62bc26ba3a78",
        "colab": {
          "base_uri": "https://localhost:8080/",
          "height": 521
        }
      },
      "source": [
        "print(y_train.value_counts()) #mnmpilkn jum.data y_train brdsrkn value\n",
        "\n",
        "print(y_test.value_counts())  #mnmpilkn jum.data y_test brdsrkn value\n",
        "\n",
        "\n",
        "plt.figure(figsize=(6,6)) #mngtur ukuran skla grafik\n",
        "\n",
        "#mnmpilkn visualisasi grafik\n",
        "plt.subplot(2,1,1);y_train.value_counts().plot(kind='bar', color=['C0','C1','C2','C3','C4','C5','C6']);plt.title('TRAINING')\n",
        "plt.subplot(2,1,2);y_test.value_counts().plot(kind='bar', color=['C0','C1','C2','C3','C4','C5','C6']);plt.title('TESTING')"
      ],
      "execution_count": 0,
      "outputs": [
        {
          "output_type": "stream",
          "text": [
            "1.0    998\n",
            "Name: Actual, dtype: int64\n",
            "1.0    2\n",
            "Name: Actual, dtype: int64\n",
            "/n\n",
            "/n\n"
          ],
          "name": "stdout"
        },
        {
          "output_type": "execute_result",
          "data": {
            "text/plain": [
              "Text(0.5, 1.0, 'TESTING')"
            ]
          },
          "metadata": {
            "tags": []
          },
          "execution_count": 32
        },
        {
          "output_type": "display_data",
          "data": {
            "image/png": "[encoded data removed]",
            "text/plain": [
              "<Figure size 432x432 with 2 Axes>"
            ]
          },
          "metadata": {
            "tags": [],
            "needs_background": "light"
          }
        }
      ]
    },
    {
      "cell_type": "code",
      "metadata": {
        "id": "EW2nHFf5-HFs",
        "colab_type": "code",
        "outputId": "c42da0ba-6cf5-4d6a-d645-4f0b11ca4eed",
        "colab": {
          "base_uri": "https://localhost:8080/",
          "height": 248
        }
      },
      "source": [
        "#scaling data\n",
        "sc_x = StandardScaler()\n",
        "x_train = sc_x.fit_transform(x_train)\n",
        "\n",
        "x_test = sc_x.transform(x_test)\n",
        "x_train"
      ],
      "execution_count": 0,
      "outputs": [
        {
          "output_type": "execute_result",
          "data": {
            "text/plain": [
              "array([[ 2.89946232e-01,  5.43691515e-01,  5.89247858e-01, ...,\n",
              "         7.52526554e-01,  9.96228294e-01,  3.76260490e-01],\n",
              "       [ 3.39672618e-01, -6.38865231e-01, -1.32583350e-01, ...,\n",
              "         4.44594860e-02, -3.20290739e-01, -4.37605065e-02],\n",
              "       [-8.72205305e-01, -6.52548980e-01, -5.14877150e-01, ...,\n",
              "         4.50083897e-02, -3.06187582e-01,  4.55191950e-02],\n",
              "       ...,\n",
              "       [-3.11814387e-01, -2.46550278e-01, -5.94127244e-01, ...,\n",
              "         4.69318085e-02, -3.95015388e-01,  2.78872773e-04],\n",
              "       [-1.15897272e+00,  1.26539876e-01, -2.51486768e-01, ...,\n",
              "         8.06063654e-02, -9.85359931e-02, -6.87721642e-02],\n",
              "       [-5.44991556e-01, -5.84561826e-01, -5.32501236e-01, ...,\n",
              "         5.21338519e-02, -3.31718880e-01, -2.38815596e-02]])"
            ]
          },
          "metadata": {
            "tags": []
          },
          "execution_count": 33
        }
      ]
    },
    {
      "cell_type": "code",
      "metadata": {
        "id": "N4OoqevX-NM3",
        "colab_type": "code",
        "outputId": "61aa1a97-ed0e-4dc4-a160-e3927be101ad",
        "colab": {
          "base_uri": "https://localhost:8080/",
          "height": 35
        }
      },
      "source": [
        "math.sqrt(len(y_test))"
      ],
      "execution_count": 0,
      "outputs": [
        {
          "output_type": "execute_result",
          "data": {
            "text/plain": [
              "1.4142135623730951"
            ]
          },
          "metadata": {
            "tags": []
          },
          "execution_count": 36
        }
      ]
    },
    {
      "cell_type": "code",
      "metadata": {
        "id": "cdCjG_8L-Tyy",
        "colab_type": "code",
        "outputId": "0b410dbf-57c5-4dae-c438-915c546be2b1",
        "colab": {
          "base_uri": "https://localhost:8080/",
          "height": 70
        }
      },
      "source": [
        "#choose method knn and fitting\n",
        "classifier = KNeighborsClassifier(n_neighbors=2,p=2,metric='euclidean')\n",
        "classifier.fit (x_train, y_train)"
      ],
      "execution_count": 0,
      "outputs": [
        {
          "output_type": "execute_result",
          "data": {
            "text/plain": [
              "KNeighborsClassifier(algorithm='auto', leaf_size=30, metric='euclidean',\n",
              "                     metric_params=None, n_jobs=None, n_neighbors=2, p=2,\n",
              "                     weights='uniform')"
            ]
          },
          "metadata": {
            "tags": []
          },
          "execution_count": 37
        }
      ]
    },
    {
      "cell_type": "code",
      "metadata": {
        "id": "Szb9dw6c-bCA",
        "colab_type": "code",
        "outputId": "fe354428-29ce-4adb-f991-2717d73644c7",
        "colab": {
          "base_uri": "https://localhost:8080/",
          "height": 35
        }
      },
      "source": [
        "#proses testing\n",
        "\n",
        "#hasil prediksi/testing dismpn ke (y_pred)\n",
        "y_pred = classifier.predict(x_test)\n",
        "y_pred"
      ],
      "execution_count": 0,
      "outputs": [
        {
          "output_type": "execute_result",
          "data": {
            "text/plain": [
              "array([1., 1.])"
            ]
          },
          "metadata": {
            "tags": []
          },
          "execution_count": 38
        }
      ]
    },
    {
      "cell_type": "code",
      "metadata": {
        "id": "QnvyTK5p-kSH",
        "colab_type": "code",
        "outputId": "045d4647-9645-460e-81bf-1337a2c26433",
        "colab": {
          "base_uri": "https://localhost:8080/",
          "height": 106
        }
      },
      "source": [
        "cm = confusion_matrix(y_test, y_pred)\n",
        "print (cm)\n",
        "print(\"Akurasi :\" , accuracy_score(y_test, y_pred))\n",
        "print(\"presisi :\" , precision_score(y_test, y_pred))\n",
        "print(\"recall :\" , recall_score(y_test, y_pred))\n",
        "print(\"F-Measure :\" , f1_score(y_test, y_pred))"
      ],
      "execution_count": 0,
      "outputs": [
        {
          "output_type": "stream",
          "text": [
            "[[2]]\n",
            "Akurasi : 1.0\n",
            "presisi : 1.0\n",
            "recall : 1.0\n",
            "F-Measure : 1.0\n"
          ],
          "name": "stdout"
        }
      ]
    }
  ]
}
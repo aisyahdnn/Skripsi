{
  "nbformat": 4,
  "nbformat_minor": 0,
  "metadata": {
    "colab": {
      "name": "ExampleDataset.ipynb",
      "provenance": [],
      "mount_file_id": "https://github.com/aisyahdnn/Skripsi/blob/master/ExampleDataset.ipynb",
      "authorship_tag": "ABX9TyMV/2P5Hd57190yCzOkdMdb",
      "include_colab_link": true
    },
    "kernelspec": {
      "name": "python3",
      "display_name": "Python 3"
    }
  },
  "cells": [
    {
      "cell_type": "markdown",
      "metadata": {
        "id": "view-in-github",
        "colab_type": "text"
      },
      "source": [
        "<a href=\"https://colab.research.google.com/github/aisyahdnn/Skripsi/blob/master/ExampleDataset.ipynb\" target=\"_parent\"><img src=\"https://colab.research.google.com/assets/colab-badge.svg\" alt=\"Open In Colab\"/></a>"
      ]
    },
    {
      "cell_type": "code",
      "metadata": {
        "id": "fRZI7dfl8icj",
        "colab_type": "code",
        "outputId": "89eed423-e3a3-4f05-cabf-a8dcacf0fdbd",
        "colab": {
          "base_uri": "https://localhost:8080/",
          "height": 55
        }
      },
      "source": [
        "from google.colab import drive\n",
        "drive.mount('/content/drive')"
      ],
      "execution_count": 1,
      "outputs": [
        {
          "output_type": "stream",
          "text": [
            "Drive already mounted at /content/drive; to attempt to forcibly remount, call drive.mount(\"/content/drive\", force_remount=True).\n"
          ],
          "name": "stdout"
        }
      ]
    },
    {
      "cell_type": "code",
      "metadata": {
        "id": "Q5DpQdow_1Wr",
        "colab_type": "code",
        "colab": {}
      },
      "source": [
        "import pandas as pd\n",
        "import numpy as np\n",
        "import math\n",
        "import os\n",
        "import matplotlib.pyplot as plt\n",
        "import cv2\n",
        "\n",
        "from sklearn.model_selection import train_test_split\n",
        "from sklearn.preprocessing import StandardScaler \n",
        "from sklearn.neighbors import KNeighborsClassifier\n",
        "\n",
        "from sklearn.metrics import confusion_matrix\n",
        "from sklearn.metrics import f1_score\n",
        "from sklearn.metrics import accuracy_score\n",
        "from sklearn.metrics import precision_score\n",
        "from sklearn.metrics import recall_score\n",
        "\n",
        "from skimage import io\n",
        "from skimage import feature"
      ],
      "execution_count": 0,
      "outputs": []
    },
    {
      "cell_type": "code",
      "metadata": {
        "id": "ie8ZsN7NAUIJ",
        "colab_type": "code",
        "outputId": "d34caa3c-d1a9-4b56-809a-53c81ded9851",
        "colab": {
          "base_uri": "https://localhost:8080/",
          "height": 52
        }
      },
      "source": [
        "cCitra = os.listdir('/content/drive/My Drive/Dataset/DataTest')\n",
        "print(cCitra)\n",
        "print(len(cCitra))"
      ],
      "execution_count": 12,
      "outputs": [
        {
          "output_type": "stream",
          "text": [
            "['C37BP2_thinF_IMG_20150620_132440a_cell_108.png', 'C37BP2_thinF_IMG_20150620_132847a_cell_76.png']\n",
            "2\n"
          ],
          "name": "stdout"
        }
      ]
    },
    {
      "cell_type": "code",
      "metadata": {
        "id": "wmlfw8dPj0tQ",
        "colab_type": "code",
        "colab": {}
      },
      "source": [
        "#SEGMENTASI CANNY DAN EKSTRAKSI HUMOMENT\n",
        "\n",
        "x = np.array([['H1','H2','H3','H4','H5','H6','H7','Actual']])\n",
        "\n",
        "#Proses Citra Malaria Terinfeksi\n",
        "for i in range(len(cCitra)):\n",
        "    img = cv2.imread('/content/drive/My Drive/Dataset/DataTest'+ \"/\" + cCitra[i])\n",
        "    edges = cv2.Canny(img,80,30)\n",
        "    a = cv2.HuMoments(cv2.moments(edges)).flatten()\n",
        "    a = np.append(a,100)\n",
        "    x = np.vstack((x,a))"
      ],
      "execution_count": 0,
      "outputs": []
    },
    {
      "cell_type": "code",
      "metadata": {
        "id": "LfUZmMV0k3Vu",
        "colab_type": "code",
        "colab": {}
      },
      "source": [
        "#EXPORT to CSV\n",
        "np.savetxt(\"/content/drive/My Drive/Dataset/DatasetTest.csv\", x, fmt='%s',delimiter=',' )"
      ],
      "execution_count": 0,
      "outputs": []
    },
    {
      "cell_type": "code",
      "metadata": {
        "id": "Sw9fDwMCmpCy",
        "colab_type": "code",
        "outputId": "b7f12dcc-066b-410c-c24e-91a36641313b",
        "colab": {
          "base_uri": "https://localhost:8080/",
          "height": 347
        }
      },
      "source": [
        "#LOAD DATASET\n",
        "\n",
        "datasettrain = pd.read_csv('/content/drive/My Drive/Dataset/DatasetTrain.csv')\n",
        "datasettest = pd.read_csv('/content/drive/My Drive/Dataset/DatasetTest.csv')\n",
        "\n",
        "print(datasettrain)\n",
        "print(datasettest)"
      ],
      "execution_count": 34,
      "outputs": [
        {
          "output_type": "stream",
          "text": [
            "           H1        H2            H3  ...            H6            H7  Actual\n",
            "0    0.014561  0.000029  3.632756e-08  ...  6.353503e-12  4.330040e-16     1.0\n",
            "1    0.026547  0.000170  1.138837e-06  ...  3.063264e-08 -3.005370e-12     1.0\n",
            "2    0.028276  0.000027  3.460565e-07  ...  5.265115e-09 -6.515198e-13     1.0\n",
            "3    0.024422  0.000022  1.157081e-07  ...  3.187912e-10 -6.131459e-14     1.0\n",
            "4    0.019319  0.000002  1.072033e-07  ...  7.293107e-10  9.598053e-14     1.0\n",
            "..        ...       ...           ...  ...           ...           ...     ...\n",
            "995  0.012752  0.000043  2.179522e-07  ...  1.653583e-11 -1.029641e-16     1.0\n",
            "996  0.018757  0.000024  4.702513e-09  ...  6.308761e-09  1.009837e-13     1.0\n",
            "997  0.018091  0.000002  7.336674e-08  ...  3.725437e-10  9.225196e-14     1.0\n",
            "998  0.019440  0.000045  1.845630e-07  ...  2.614035e-09 -1.054526e-13     1.0\n",
            "999  0.016831  0.000017  1.238836e-07  ... -2.620264e-12 -3.714716e-17     1.0\n",
            "\n",
            "[1000 rows x 8 columns]\n",
            "         H1            H2            H3  ...            H6            H7  Actual\n",
            "0  0.012371  1.943389e-08  3.778350e-09  ...  8.381070e-13 -2.110792e-16   100.0\n",
            "1  0.008265  1.195952e-07  9.899467e-09  ...  7.751217e-13 -4.642151e-16   100.0\n",
            "\n",
            "[2 rows x 8 columns]\n"
          ],
          "name": "stdout"
        }
      ]
    },
    {
      "cell_type": "code",
      "metadata": {
        "id": "oV9h8qaqnwh-",
        "colab_type": "code",
        "colab": {}
      },
      "source": [
        "#split dataset\n",
        "\n",
        "x_train = datasettrain.iloc[:, 0:7] \n",
        "y_train = datasettrain.iloc[:, 7]\n",
        " \n",
        "x_test = datasettest.iloc[:, 0:7] \n",
        "y_test = datasettest.iloc[:, 7]"
      ],
      "execution_count": 0,
      "outputs": []
    },
    {
      "cell_type": "code",
      "metadata": {
        "id": "EW2nHFf5-HFs",
        "colab_type": "code",
        "outputId": "b9a07c67-e247-4c4f-ded1-075caa61c9ed",
        "colab": {
          "base_uri": "https://localhost:8080/",
          "height": 243
        }
      },
      "source": [
        "#scaling data (menyamakan skala nilainya)\n",
        "sc_x = StandardScaler()\n",
        "x_train = sc_x.fit_transform(x_train)\n",
        "\n",
        "x_test = sc_x.transform(x_test)\n",
        "x_train"
      ],
      "execution_count": 39,
      "outputs": [
        {
          "output_type": "execute_result",
          "data": {
            "text/plain": [
              "array([[-1.03210576e+00,  5.39451025e-02, -5.43397287e-01, ...,\n",
              "         5.02095747e-02, -2.94088350e-01,  5.38971312e-04],\n",
              "       [ 1.30856135e-01,  3.54579075e+00,  1.20175903e+00, ...,\n",
              "         2.90920972e+00,  6.78844865e+00, -5.15607935e+00],\n",
              "       [ 2.98553462e-01,  1.32841329e-02, -5.31289080e-02, ...,\n",
              "         2.67654431e-02,  9.22036037e-01, -1.11792161e+00],\n",
              "       ...,\n",
              "       [-6.89622593e-01, -6.08502851e-01, -4.84768160e-01, ...,\n",
              "         1.20976730e-01, -2.09404378e-01,  1.58059380e-01],\n",
              "       [-5.58685644e-01,  4.71373119e-01, -3.08756258e-01, ...,\n",
              "        -1.88137262e-02,  3.08955739e-01, -1.81113531e-01],\n",
              "       [-8.11885477e-01, -2.23388664e-01, -4.04805268e-01, ...,\n",
              "         5.02282559e-02, -2.96163594e-01, -2.67598526e-04]])"
            ]
          },
          "metadata": {
            "tags": []
          },
          "execution_count": 39
        }
      ]
    },
    {
      "cell_type": "code",
      "metadata": {
        "id": "cdCjG_8L-Tyy",
        "colab_type": "code",
        "outputId": "7984a2db-b4e1-47e8-fa1a-a723f66658a8",
        "colab": {
          "base_uri": "https://localhost:8080/",
          "height": 69
        }
      },
      "source": [
        "#choose method knn and fitting\n",
        "classifier = KNeighborsClassifier(n_neighbors=2,p=2,metric='euclidean')\n",
        "classifier.fit (x_train, y_train)"
      ],
      "execution_count": 37,
      "outputs": [
        {
          "output_type": "execute_result",
          "data": {
            "text/plain": [
              "KNeighborsClassifier(algorithm='auto', leaf_size=30, metric='euclidean',\n",
              "                     metric_params=None, n_jobs=None, n_neighbors=2, p=2,\n",
              "                     weights='uniform')"
            ]
          },
          "metadata": {
            "tags": []
          },
          "execution_count": 37
        }
      ]
    },
    {
      "cell_type": "code",
      "metadata": {
        "id": "Szb9dw6c-bCA",
        "colab_type": "code",
        "outputId": "78320f45-38a9-4d0f-830f-b621a614915f",
        "colab": {
          "base_uri": "https://localhost:8080/",
          "height": 35
        }
      },
      "source": [
        "#proses testing\n",
        "\n",
        "#hasil prediksi/testing dismpn ke (y_pred)\n",
        "y_pred = classifier.predict(x_test)\n",
        "y_pred"
      ],
      "execution_count": 38,
      "outputs": [
        {
          "output_type": "execute_result",
          "data": {
            "text/plain": [
              "array([1., 1.])"
            ]
          },
          "metadata": {
            "tags": []
          },
          "execution_count": 38
        }
      ]
    }
  ]
}
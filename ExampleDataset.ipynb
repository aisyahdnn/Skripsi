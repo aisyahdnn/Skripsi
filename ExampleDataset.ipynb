{
  "nbformat": 4,
  "nbformat_minor": 0,
  "metadata": {
    "colab": {
      "name": "ExampleDataset.ipynb",
      "provenance": [],
      "mount_file_id": "1gOioF3Aw6IO0KGhSsz1ANVge3ZWoi_6z",
      "authorship_tag": "ABX9TyMabdgGwIZeYNXnDRSHXcGN",
      "include_colab_link": true
    },
    "kernelspec": {
      "name": "python3",
      "display_name": "Python 3"
    }
  },
  "cells": [
    {
      "cell_type": "markdown",
      "metadata": {
        "id": "view-in-github",
        "colab_type": "text"
      },
      "source": [
        "<a href=\"https://colab.research.google.com/github/aisyahdnn/Skripsi/blob/master/ExampleDataset.ipynb\" target=\"_parent\"><img src=\"https://colab.research.google.com/assets/colab-badge.svg\" alt=\"Open In Colab\"/></a>"
      ]
    },
    {
      "cell_type": "code",
      "metadata": {
        "id": "fRZI7dfl8icj",
        "colab_type": "code",
        "outputId": "7c40d139-dd3d-4986-a46d-d34f3d036098",
        "colab": {
          "base_uri": "https://localhost:8080/",
          "height": 35
        }
      },
      "source": [
        "from google.colab import drive\n",
        "drive.mount('/content/drive')"
      ],
      "execution_count": 0,
      "outputs": [
        {
          "output_type": "stream",
          "text": [
            "Drive already mounted at /content/drive; to attempt to forcibly remount, call drive.mount(\"/content/drive\", force_remount=True).\n"
          ],
          "name": "stdout"
        }
      ]
    },
    {
      "cell_type": "code",
      "metadata": {
        "id": "Q5DpQdow_1Wr",
        "colab_type": "code",
        "colab": {}
      },
      "source": [
        "import pandas as pd\n",
        "import numpy as np\n",
        "import math\n",
        "import os\n",
        "import matplotlib.pyplot as plt\n",
        "import cv2\n",
        "\n",
        "from sklearn.model_selection import train_test_split\n",
        "from sklearn.preprocessing import StandardScaler \n",
        "from sklearn.neighbors import KNeighborsClassifier\n",
        "\n",
        "from sklearn.metrics import confusion_matrix\n",
        "from sklearn.metrics import f1_score\n",
        "from sklearn.metrics import accuracy_score\n",
        "from sklearn.metrics import precision_score\n",
        "from sklearn.metrics import recall_score\n",
        "\n",
        "from skimage import io\n",
        "from skimage import feature"
      ],
      "execution_count": 0,
      "outputs": []
    },
    {
      "cell_type": "code",
      "metadata": {
        "id": "ie8ZsN7NAUIJ",
        "colab_type": "code",
        "outputId": "5525bc1f-59a7-48b8-82db-3186203b4061",
        "colab": {
          "base_uri": "https://localhost:8080/",
          "height": 52
        }
      },
      "source": [
        "terinfeksi_data = os.listdir('/content/drive/My Drive/Dataset/EXAMPLE/Terinfeksi/')\n",
        "print(terinfeksi_data)\n",
        "\n",
        "tidakTerinfeksi_data = os.listdir('/content/drive/My Drive/Dataset/EXAMPLE/TidakTerinfeksi/')\n",
        "print(tidakTerinfeksi_data)"
      ],
      "execution_count": 0,
      "outputs": [
        {
          "output_type": "stream",
          "text": [
            "['picture1.png']\n",
            "['picture1.png']\n"
          ],
          "name": "stdout"
        }
      ]
    },
    {
      "cell_type": "code",
      "metadata": {
        "id": "wmlfw8dPj0tQ",
        "colab_type": "code",
        "colab": {}
      },
      "source": [
        "#SEGMENTASI CANNY DAN EKSTRAKSI HUMOMENT\n",
        "\n",
        "x = np.array([['H1','H2','H3','H4','H5','H6','H7','Actual']])\n",
        "\n",
        "#Proses Citra Malaria Terinfeksi\n",
        "for i in range(len(terinfeksi_data)):\n",
        "    img = cv2.imread('/content/drive/My Drive/Dataset/EXAMPLE/Terinfeksi'+ \"/\" + terinfeksi_data[i])\n",
        "    edges = cv2.Canny(img,80,30)\n",
        "    a = cv2.HuMoments(cv2.moments(edges)).flatten()\n",
        "    a = np.append(a,1)\n",
        "    x = np.vstack((x,a))\n",
        "\n",
        "#Proses Citra Malaria TidakTerinfeksi\n",
        "for i in range(len(tidakTerinfeksi_data)):\n",
        "    img = cv2.imread('/content/drive/My Drive/Dataset/EXAMPLE/TidakTerinfeksi'+ \"/\" + tidakTerinfeksi_data[i])\n",
        "    edges = cv2.Canny(img,80,30)\n",
        "    a = cv2.HuMoments(cv2.moments(edges)).flatten()\n",
        "    a = np.append(a,0)\n",
        "    x = np.vstack((x,a))"
      ],
      "execution_count": 0,
      "outputs": []
    },
    {
      "cell_type": "code",
      "metadata": {
        "id": "LfUZmMV0k3Vu",
        "colab_type": "code",
        "colab": {}
      },
      "source": [
        "#EXPORT to CSV\n",
        "np.savetxt(\"/content/drive/My Drive/Dataset/Example.csv\", x, fmt='%s',delimiter=',' )"
      ],
      "execution_count": 0,
      "outputs": []
    },
    {
      "cell_type": "code",
      "metadata": {
        "id": "Sw9fDwMCmpCy",
        "colab_type": "code",
        "outputId": "ad4886b3-0be3-4256-e348-5ac7e51a323a",
        "colab": {
          "base_uri": "https://localhost:8080/",
          "height": 444
        }
      },
      "source": [
        "#LOAD CSV DATASET\n",
        "\n",
        "dataset = pd.read_csv('/content/drive/My Drive/Dataset/Contoh2Citra.csv')\n",
        "print (len(dataset))\n",
        "print (dataset)"
      ],
      "execution_count": 47,
      "outputs": [
        {
          "output_type": "stream",
          "text": [
            "20\n",
            "          H1            H2            H3  ...            H6            H7  Actual\n",
            "0   0.008265  1.195952e-07  9.899467e-09  ...  7.751217e-13 -4.642151e-16     1.0\n",
            "1   0.011786  4.344252e-06  1.259811e-08  ...  2.415311e-11 -1.823170e-16     1.0\n",
            "2   0.016897  2.759241e-06  1.096273e-07  ... -2.822619e-10 -2.708298e-14     1.0\n",
            "3   0.010518  1.456573e-08  4.318845e-11  ... -1.140256e-13 -4.353781e-18     1.0\n",
            "4   0.015350  3.368646e-05  1.071624e-07  ...  1.487436e-10 -2.083611e-15     1.0\n",
            "5   0.020874  1.053855e-05  1.504211e-07  ...  1.458155e-09 -9.922187e-14     1.0\n",
            "6   0.019217  1.215756e-05  7.098406e-08  ...  4.479709e-10 -7.139277e-14     1.0\n",
            "7   0.016383  9.608127e-06  2.387855e-07  ...  8.231302e-11  1.840583e-15     1.0\n",
            "8   0.017124  2.458779e-06  1.004016e-07  ... -6.848977e-11  4.838341e-15     1.0\n",
            "9   0.025427  3.788593e-06  6.214067e-07  ... -1.135592e-11  2.242606e-16     1.0\n",
            "10  0.053429  3.457356e-04  2.112865e-06  ...  3.977376e-09 -6.774813e-13     0.0\n",
            "11  0.050613  2.192236e-05  1.766381e-07  ... -1.993747e-09  4.753407e-13     0.0\n",
            "12  0.046302  7.252068e-06  2.099636e-07  ...  3.670689e-10 -4.476545e-15     0.0\n",
            "13  0.047911  3.962118e-05  2.974287e-07  ...  7.971661e-11 -7.226277e-14     0.0\n",
            "14  0.038682  1.683958e-05  1.554287e-07  ...  8.162395e-10 -1.834577e-14     0.0\n",
            "15  0.024491  8.929628e-06  7.645001e-07  ... -8.013709e-10 -1.571034e-13     0.0\n",
            "16  0.031276  8.505120e-06  6.721548e-07  ...  1.239841e-09 -1.198796e-13     0.0\n",
            "17  0.022108  1.239735e-05  4.342108e-08  ...  6.456987e-10  3.650092e-14     0.0\n",
            "18  0.017326  3.217046e-05  2.438319e-07  ... -1.698702e-10  2.142687e-15     0.0\n",
            "19  0.029384  3.030121e-05  5.345537e-08  ... -1.259750e-09  1.332775e-14     0.0\n",
            "\n",
            "[20 rows x 8 columns]\n"
          ],
          "name": "stdout"
        }
      ]
    },
    {
      "cell_type": "code",
      "metadata": {
        "id": "oV9h8qaqnwh-",
        "colab_type": "code",
        "outputId": "90a9c6b0-bc34-478c-bb6e-a4c724fa3bdc",
        "colab": {
          "base_uri": "https://localhost:8080/",
          "height": 195
        }
      },
      "source": [
        "#split target and attribute (membagi data)\n",
        "x = dataset.iloc[:, 0:7] #mulai dr colmn index ke0, sbnyk 7 kolom(H1-H7) msuk ke var (X)\n",
        "y = dataset.iloc[:, 7] #hny kolom index ke7 yg msuk ke var (Y)\n",
        "\n",
        "\n",
        "#split train n test dataset\n",
        "x_train, x_test, y_train, y_test = train_test_split(x,y, random_state=2, test_size=0.1)\n",
        "\n",
        "print(len(x_train))\n",
        "print(len(x_test))\n",
        "print(len(y_train))\n",
        "print(len(y_test))\n",
        "\n",
        "print(len(dataset))\n",
        "x\n",
        "x_test"
      ],
      "execution_count": 54,
      "outputs": [
        {
          "output_type": "stream",
          "text": [
            "18\n",
            "2\n",
            "18\n",
            "2\n",
            "20\n"
          ],
          "name": "stdout"
        },
        {
          "output_type": "execute_result",
          "data": {
            "text/html": [
              "<div>\n",
              "<style scoped>\n",
              "    .dataframe tbody tr th:only-of-type {\n",
              "        vertical-align: middle;\n",
              "    }\n",
              "\n",
              "    .dataframe tbody tr th {\n",
              "        vertical-align: top;\n",
              "    }\n",
              "\n",
              "    .dataframe thead th {\n",
              "        text-align: right;\n",
              "    }\n",
              "</style>\n",
              "<table border=\"1\" class=\"dataframe\">\n",
              "  <thead>\n",
              "    <tr style=\"text-align: right;\">\n",
              "      <th></th>\n",
              "      <th>H1</th>\n",
              "      <th>H2</th>\n",
              "      <th>H3</th>\n",
              "      <th>H4</th>\n",
              "      <th>H5</th>\n",
              "      <th>H6</th>\n",
              "      <th>H7</th>\n",
              "    </tr>\n",
              "  </thead>\n",
              "  <tbody>\n",
              "    <tr>\n",
              "      <th>12</th>\n",
              "      <td>0.046302</td>\n",
              "      <td>0.000007</td>\n",
              "      <td>2.099636e-07</td>\n",
              "      <td>1.448235e-07</td>\n",
              "      <td>2.485410e-14</td>\n",
              "      <td>3.670689e-10</td>\n",
              "      <td>-4.476545e-15</td>\n",
              "    </tr>\n",
              "    <tr>\n",
              "      <th>4</th>\n",
              "      <td>0.015350</td>\n",
              "      <td>0.000034</td>\n",
              "      <td>1.071624e-07</td>\n",
              "      <td>7.568291e-08</td>\n",
              "      <td>-6.489525e-15</td>\n",
              "      <td>1.487436e-10</td>\n",
              "      <td>-2.083611e-15</td>\n",
              "    </tr>\n",
              "  </tbody>\n",
              "</table>\n",
              "</div>"
            ],
            "text/plain": [
              "          H1        H2            H3  ...            H5            H6            H7\n",
              "12  0.046302  0.000007  2.099636e-07  ...  2.485410e-14  3.670689e-10 -4.476545e-15\n",
              "4   0.015350  0.000034  1.071624e-07  ... -6.489525e-15  1.487436e-10 -2.083611e-15\n",
              "\n",
              "[2 rows x 7 columns]"
            ]
          },
          "metadata": {
            "tags": []
          },
          "execution_count": 54
        }
      ]
    },
    {
      "cell_type": "code",
      "metadata": {
        "id": "1f0a3XjM9WKz",
        "colab_type": "code",
        "colab": {}
      },
      "source": [
        ""
      ],
      "execution_count": 0,
      "outputs": []
    }
  ]
}
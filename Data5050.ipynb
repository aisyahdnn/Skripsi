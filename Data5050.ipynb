{
  "nbformat": 4,
  "nbformat_minor": 0,
  "metadata": {
    "colab": {
      "name": "Data5050.ipynb",
      "provenance": [],
      "authorship_tag": "ABX9TyOKcgC5hQieamGyjFOeyfYo",
      "include_colab_link": true
    },
    "kernelspec": {
      "name": "python3",
      "display_name": "Python 3"
    }
  },
  "cells": [
    {
      "cell_type": "markdown",
      "metadata": {
        "id": "view-in-github",
        "colab_type": "text"
      },
      "source": [
        "<a href=\"https://colab.research.google.com/github/aisyahdnn/Skripsi/blob/master/Data5050.ipynb\" target=\"_parent\"><img src=\"https://colab.research.google.com/assets/colab-badge.svg\" alt=\"Open In Colab\"/></a>"
      ]
    },
    {
      "cell_type": "code",
      "metadata": {
        "id": "hkptAtgtje5x",
        "colab_type": "code",
        "colab": {}
      },
      "source": [
        "from google.colab import drive\n",
        "drive.mount('/content/drive')"
      ],
      "execution_count": 0,
      "outputs": []
    },
    {
      "cell_type": "code",
      "metadata": {
        "id": "SugbwmL6jsRp",
        "colab_type": "code",
        "colab": {}
      },
      "source": [
        "import pandas as pd\n",
        "import numpy as np\n",
        "import math\n",
        "import os\n",
        "import matplotlib.pyplot as plt\n",
        "import cv2\n",
        "\n",
        "from sklearn.model_selection import train_test_split\n",
        "from sklearn.preprocessing import StandardScaler \n",
        "from sklearn.neighbors import KNeighborsClassifier\n",
        "\n",
        "from sklearn.metrics import confusion_matrix\n",
        "from sklearn.metrics import f1_score\n",
        "from sklearn.metrics import accuracy_score\n",
        "from sklearn.metrics import precision_score\n",
        "from sklearn.metrics import recall_score\n",
        "\n",
        "from skimage import io\n",
        "from skimage import feature"
      ],
      "execution_count": 0,
      "outputs": []
    },
    {
      "cell_type": "code",
      "metadata": {
        "id": "FiN15N6fjthl",
        "colab_type": "code",
        "colab": {}
      },
      "source": [
        "terinfeksi_data = os.listdir('/content/drive/My Drive/Dataset/DATA5050/Terinfeksi')\n",
        "print(len(terinfeksi_data))\n",
        "print(terinfeksi_data)\n",
        "\n",
        "print('\\n')\n",
        "\n",
        "tidakTerinfeksi_data = os.listdir('/content/drive/My Drive/Dataset/DATA5050/TidakTerinfeksi')\n",
        "print(len(tidakTerinfeksi_data))\n",
        "print(tidakTerinfeksi_data)"
      ],
      "execution_count": 0,
      "outputs": []
    },
    {
      "cell_type": "code",
      "metadata": {
        "id": "y35KMZSrjwNW",
        "colab_type": "code",
        "colab": {}
      },
      "source": [
        "#SEGMENTASI CANNY DAN EKSTRAKSI HUMOMENT\n",
        "\n",
        "x = np.array([['H1','H2','H3','H4','H5','H6','H7','Actual']])\n",
        "\n",
        "#Proses Citra Malaria Terinfeksi\n",
        "for i in range(len(terinfeksi_data)):\n",
        "    img = cv2.imread('/content/drive/My Drive/Dataset/DATA5050/Terinfeksi' + \"/\" + terinfeksi_data[i])\n",
        "    edges = cv2.Canny(img,80,30)\n",
        "    a = cv2.HuMoments(cv2.moments(edges)).flatten()\n",
        "    a = np.append(a,1)\n",
        "    x = np.vstack((x,a))\n",
        "\n",
        "#Proses Citra Malaria TidakTerinfeksi\n",
        "for i in range(len(tidakTerinfeksi_data)):\n",
        "    img = cv2.imread('/content/drive/My Drive/Dataset/DAT5050/TidakTerinfeksi' + \"/\" + tidakTerinfeksi_data[i])\n",
        "    edges = cv2.Canny(img,80,30)\n",
        "    a = cv2.HuMoments(cv2.moments(edges)).flatten()\n",
        "    a = np.append(a,0)\n",
        "    x = np.vstack((x,a))"
      ],
      "execution_count": 0,
      "outputs": []
    },
    {
      "cell_type": "code",
      "metadata": {
        "id": "S7gWxip3j95V",
        "colab_type": "code",
        "colab": {}
      },
      "source": [
        "#EXPORT to CSV\n",
        "np.savetxt(\"/content/drive/My Drive/Dataset/DataBaru5050.csv\", x, fmt='%s',delimiter=',' )"
      ],
      "execution_count": 0,
      "outputs": []
    },
    {
      "cell_type": "code",
      "metadata": {
        "id": "OR4EHWRTj_kO",
        "colab_type": "code",
        "colab": {}
      },
      "source": [
        "#LOAD CSV DATASET\n",
        "\n",
        "dataset = pd.read_csv('/content/drive/My Drive/Dataset/DataBaru5050.csv')\n",
        "print (len(dataset))\n",
        "print (dataset)"
      ],
      "execution_count": 0,
      "outputs": []
    },
    {
      "cell_type": "code",
      "metadata": {
        "id": "BngSspPHkDIq",
        "colab_type": "code",
        "colab": {}
      },
      "source": [
        "#split data (membagi data)\n",
        "x = dataset.iloc[:, 0:7] #mulai dr colmn index ke0, sbnyk 7 colmn msuk ke var (X)\n",
        "y = dataset.iloc[:, 7] #hny colmn  index ke7 yg msuk ke var (Y)\n",
        "\n",
        "\n",
        "#split train n test dataset\n",
        "x_train, x_test, y_train, y_test = train_test_split(x,y, random_state=2, test_size=0.1)\n",
        "\n",
        "print(len(y_test))\n",
        "print(len(x_train))\n",
        "print(len(dataset))\n",
        "x"
      ],
      "execution_count": 0,
      "outputs": []
    },
    {
      "cell_type": "code",
      "metadata": {
        "id": "ndNxEuK4kE8t",
        "colab_type": "code",
        "colab": {}
      },
      "source": [
        "print(y_train.value_counts()) #mnmpilkn jum.data y_train brdsrkn value\n",
        "\n",
        "print(y_test.value_counts())  #mnmpilkn jum.data y_test brdsrkn value\n",
        "\n",
        "\n",
        "plt.figure(figsize=(6,6)) #mngtur ukuran skla grafik\n",
        "\n",
        "#mnmpilkn visualisasi grafik\n",
        "plt.subplot(2,1,1);y_train.value_counts().plot(kind='bar', color=['C0','C1','C2','C3','C4','C5','C6']);plt.title('TRAINING')\n",
        "plt.subplot(2,1,2);y_test.value_counts().plot(kind='bar', color=['C0','C1','C2','C3','C4','C5','C6']);plt.title('TESTING')"
      ],
      "execution_count": 0,
      "outputs": []
    },
    {
      "cell_type": "code",
      "metadata": {
        "id": "lkjyXjK5kIRe",
        "colab_type": "code",
        "colab": {}
      },
      "source": [
        "#scaling data\n",
        "sc_x = StandardScaler()\n",
        "x_train = sc_x.fit_transform(x_train)\n",
        "\n",
        "x_test = sc_x.transform(x_test)\n",
        "x_train"
      ],
      "execution_count": 0,
      "outputs": []
    },
    {
      "cell_type": "code",
      "metadata": {
        "id": "4Y4tsljukKsm",
        "colab_type": "code",
        "colab": {}
      },
      "source": [
        "#u/ perulangan menampilkan semua nilai K\n",
        "\n",
        "for x in range(1,900):   \n",
        "    #choose method and fitting\n",
        "    classifier = KNeighborsClassifier(n_neighbors=x,p=2,metric='euclidean')\n",
        "    classifier.fit(x_train, y_train)\n",
        "\n",
        "    #testing data\n",
        "    y_pred = classifier.predict(x_test)\n",
        "\n",
        "    #print result\n",
        "    cm = confusion_matrix(y_test, y_pred)\n",
        "    print(\"k = \" , x)\n",
        "    print (cm)\n",
        "    print(\"Akurasi :\" , accuracy_score(y_test, y_pred))\n",
        "    print(\"presisi :\" , precision_score(y_test, y_pred,average=None))\n",
        "    print(\"recall :\" , recall_score(y_test, y_pred,average=None))\n",
        "    print(\"F-Score :\" , f1_score(y_test, y_pred,average=None))\n",
        "    print(\"--------------------------------------------\")"
      ],
      "execution_count": 0,
      "outputs": []
    },
    {
      "cell_type": "code",
      "metadata": {
        "id": "Ta4cics4kRDX",
        "colab_type": "code",
        "colab": {}
      },
      "source": [
        "#u/ perulangan lgsng mencari nilai K yang mempunyai akurasi tertinggi\n",
        "\n",
        "akurasi = 0\n",
        "for x in range(2,900): \n",
        "    #choose method and fitting\n",
        "    classifier = KNeighborsClassifier(n_neighbors=x,p=2,metric='euclidean')\n",
        "    classifier.fit(x_train, y_train)\n",
        "\n",
        "    #testing data\n",
        "    y_pred = classifier.predict(x_test)\n",
        "\n",
        "    #print result\n",
        "    cm = confusion_matrix(y_test, y_pred)\n",
        "    tertinggi = accuracy_score(y_test, y_pred)\n",
        "    if tertinggi >= akurasi:\n",
        "        akurasi = tertinggi\n",
        "        cmx = cm\n",
        "        k = x\n",
        "        a = accuracy_score(y_test, y_pred)\n",
        "        p = precision_score(y_test, y_pred)\n",
        "        r = recall_score(y_test, y_pred)\n",
        "        f = f1_score(y_test, y_pred)\n",
        "print(\"K :\" , k)\n",
        "print(cmx)\n",
        "print(\"Akurasi :\" , a)\n",
        "print(\"presisi :\" , p)\n",
        "print(\"recall :\" , r)\n",
        "print(\"F-Score :\" , f)\n",
        "print(\"--------------------------------------------\")"
      ],
      "execution_count": 0,
      "outputs": []
    }
  ]
}
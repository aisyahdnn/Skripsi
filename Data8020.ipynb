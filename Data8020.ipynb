{
  "nbformat": 4,
  "nbformat_minor": 0,
  "metadata": {
    "colab": {
      "name": "Data8020.ipynb",
      "provenance": [],
      "authorship_tag": "ABX9TyPpdgzOTfEGOe/ryzURA8NE",
      "include_colab_link": true
    },
    "kernelspec": {
      "name": "python3",
      "display_name": "Python 3"
    }
  },
  "cells": [
    {
      "cell_type": "markdown",
      "metadata": {
        "id": "view-in-github",
        "colab_type": "text"
      },
      "source": [
        "<a href=\"https://colab.research.google.com/github/aisyahdnn/Skripsi/blob/master/Data8020.ipynb\" target=\"_parent\"><img src=\"https://colab.research.google.com/assets/colab-badge.svg\" alt=\"Open In Colab\"/></a>"
      ]
    },
    {
      "cell_type": "code",
      "metadata": {
        "id": "KbLJ_uWTqa6o",
        "colab_type": "code",
        "colab": {
          "base_uri": "https://localhost:8080/",
          "height": 124
        },
        "outputId": "3adcb17a-c761-474e-9f39-fcc85eefe380"
      },
      "source": [
        "from google.colab import drive\n",
        "drive.mount('/content/drive')"
      ],
      "execution_count": 1,
      "outputs": [
        {
          "output_type": "stream",
          "text": [
            "Go to this URL in a browser: https://accounts.google.com/o/oauth2/auth?client_id=947318989803-6bn6qk8qdgf4n4g3pfee6491hc0brc4i.apps.googleusercontent.com&redirect_uri=urn%3aietf%3awg%3aoauth%3a2.0%3aoob&response_type=code&scope=email%20https%3a%2f%2fwww.googleapis.com%2fauth%2fdocs.test%20https%3a%2f%2fwww.googleapis.com%2fauth%2fdrive%20https%3a%2f%2fwww.googleapis.com%2fauth%2fdrive.photos.readonly%20https%3a%2f%2fwww.googleapis.com%2fauth%2fpeopleapi.readonly\n",
            "\n",
            "Enter your authorization code:\n",
            "··········\n",
            "Mounted at /content/drive\n"
          ],
          "name": "stdout"
        }
      ]
    },
    {
      "cell_type": "code",
      "metadata": {
        "id": "FMzi_n0QuiMk",
        "colab_type": "code",
        "colab": {}
      },
      "source": [
        "import pandas as pd\n",
        "import numpy as np\n",
        "import math\n",
        "import os\n",
        "import matplotlib.pyplot as plt\n",
        "import cv2\n",
        "\n",
        "from sklearn.model_selection import train_test_split\n",
        "from sklearn.preprocessing import StandardScaler \n",
        "from sklearn.neighbors import KNeighborsClassifier\n",
        "\n",
        "from sklearn.metrics import confusion_matrix\n",
        "from sklearn.metrics import f1_score\n",
        "from sklearn.metrics import accuracy_score\n",
        "from sklearn.metrics import precision_score\n",
        "from sklearn.metrics import recall_score\n",
        "\n",
        "from skimage import io\n",
        "from skimage import feature"
      ],
      "execution_count": 0,
      "outputs": []
    },
    {
      "cell_type": "code",
      "metadata": {
        "id": "zWr1bKbZu9fY",
        "colab_type": "code",
        "colab": {
          "base_uri": "https://localhost:8080/",
          "height": 107
        },
        "outputId": "ebc95d66-5536-4b1b-f1eb-df879463e418"
      },
      "source": [
        "terinfeksi_data = os.listdir('/content/drive/My Drive/Dataset/DATA8020/Terinfeksi')\n",
        "print(terinfeksi_data)\n",
        "\n",
        "print('\\n')\n",
        "\n",
        "tidakTerinfeksi_data = os.listdir('/content/drive/My Drive/Dataset/DATA8020/TidakTerinfeksi')\n",
        "print(tidakTerinfeksi_data)"
      ],
      "execution_count": 3,
      "outputs": [
        {
          "output_type": "stream",
          "text": [
            "['C33P1thinF_IMG_20150619_114756a_cell_180.png', 'C33P1thinF_IMG_20150619_114756a_cell_182.png', 'C33P1thinF_IMG_20150619_114756a_cell_181.png', 'C33P1thinF_IMG_20150619_114756a_cell_179.png', 'C33P1thinF_IMG_20150619_115740a_cell_162.png', 'C33P1thinF_IMG_20150619_115740a_cell_163.png', 'C33P1thinF_IMG_20150619_115740a_cell_161.png', 'C33P1thinF_IMG_20150619_115808a_cell_205.png', 'C33P1thinF_IMG_20150619_115808a_cell_206.png', 'C33P1thinF_IMG_20150619_120645a_cell_216.png', 'C33P1thinF_IMG_20150619_120645a_cell_215.png', 'C33P1thinF_IMG_20150619_120645a_cell_217.png', 'C33P1thinF_IMG_20150619_120742a_cell_210.png', 'C33P1thinF_IMG_20150619_120804a_cell_224.png', 'C33P1thinF_IMG_20150619_120838a_cell_222.png', 'C33P1thinF_IMG_20150619_121102a_cell_193.png', 'C33P1thinF_IMG_20150619_121229a_cell_178.png', 'C33P1thinF_IMG_20150619_121229a_cell_179.png', 'C33P1thinF_IMG_20150619_121229a_cell_177.png', 'C33P1thinF_IMG_20150619_121300a_cell_156.png', 'C33P1thinF_IMG_20150619_121411a_cell_190.png', 'C33P1thinF_IMG_20150619_121411a_cell_189.png', 'C33P1thinF_IMG_20150619_121435a_cell_173.png', 'C33P1thinF_IMG_20150619_121503a_cell_159.png', 'C33P1thinF_IMG_20150619_121503a_cell_158.png', 'C37BP2_thinF_IMG_20150620_131423a_cell_94.png', 'C37BP2_thinF_IMG_20150620_131423a_cell_93.png', 'C37BP2_thinF_IMG_20150620_131423a_cell_92.png', 'C37BP2_thinF_IMG_20150620_132440a_cell_108.png', 'C37BP2_thinF_IMG_20150620_132847a_cell_76.png', 'C37BP2_thinF_IMG_20150620_132847a_cell_77.png', 'C37BP2_thinF_IMG_20150620_133001a_cell_77.png', 'C37BP2_thinF_IMG_20150620_133001a_cell_76.png', 'C37BP2_thinF_IMG_20150620_133111a_cell_87.png', 'C37BP2_thinF_IMG_20150620_133111a_cell_88.png', 'C37BP2_thinF_IMG_20150620_133111a_cell_86.png', 'C37BP2_thinF_IMG_20150620_133205a_cell_87.png', 'C37BP2_thinF_IMG_20150620_133205a_cell_88.png', 'C37BP2_thinF_IMG_20150620_133238a_cell_97.png', 'C38P3thinF_original_IMG_20150621_112043_cell_203.png', 'C38P3thinF_original_IMG_20150621_112043_cell_202.png', 'C38P3thinF_original_IMG_20150621_112116_cell_205.png', 'C38P3thinF_original_IMG_20150621_112116_cell_204.png', 'C38P3thinF_original_IMG_20150621_112138_cell_183.png', 'C38P3thinF_original_IMG_20150621_112246_cell_236.png', 'C39P4thinF_original_IMG_20150622_105102_cell_79.png', 'C39P4thinF_original_IMG_20150622_105102_cell_82.png', 'C39P4thinF_original_IMG_20150622_105102_cell_83.png', 'C39P4thinF_original_IMG_20150622_105102_cell_80.png', 'C39P4thinF_original_IMG_20150622_105102_cell_81.png', 'C39P4thinF_original_IMG_20150622_105102_cell_94.png', 'C39P4thinF_original_IMG_20150622_105102_cell_103.png', 'C39P4thinF_original_IMG_20150622_105102_cell_91.png', 'C39P4thinF_original_IMG_20150622_105102_cell_90.png', 'C39P4thinF_original_IMG_20150622_105102_cell_102.png', 'C39P4thinF_original_IMG_20150622_105102_cell_98.png', 'C39P4thinF_original_IMG_20150622_105102_cell_107.png', 'C39P4thinF_original_IMG_20150622_105102_cell_86.png', 'C39P4thinF_original_IMG_20150622_105102_cell_93.png', 'C39P4thinF_original_IMG_20150622_105102_cell_104.png', 'C39P4thinF_original_IMG_20150622_105102_cell_105.png', 'C39P4thinF_original_IMG_20150622_105102_cell_96.png', 'C39P4thinF_original_IMG_20150622_105102_cell_100.png', 'C39P4thinF_original_IMG_20150622_105102_cell_106.png', 'C39P4thinF_original_IMG_20150622_105102_cell_84.png', 'C39P4thinF_original_IMG_20150622_105102_cell_85.png', 'C39P4thinF_original_IMG_20150622_105102_cell_87.png', 'C39P4thinF_original_IMG_20150622_105102_cell_101.png', 'C39P4thinF_original_IMG_20150622_105102_cell_88.png', 'C39P4thinF_original_IMG_20150622_105102_cell_89.png', 'C39P4thinF_original_IMG_20150622_105102_cell_92.png', 'C39P4thinF_original_IMG_20150622_105102_cell_95.png', 'C39P4thinF_original_IMG_20150622_105102_cell_97.png', 'C39P4thinF_original_IMG_20150622_105102_cell_99.png', 'C39P4thinF_original_IMG_20150622_105253_cell_110.png', 'C39P4thinF_original_IMG_20150622_105253_cell_91.png', 'C39P4thinF_original_IMG_20150622_105253_cell_94.png', 'C39P4thinF_original_IMG_20150622_105253_cell_100.png', 'C39P4thinF_original_IMG_20150622_105253_cell_108.png', 'C39P4thinF_original_IMG_20150622_105253_cell_102.png', 'C39P4thinF_original_IMG_20150622_105253_cell_105.png', 'C39P4thinF_original_IMG_20150622_105253_cell_101.png', 'C39P4thinF_original_IMG_20150622_105253_cell_97.png', 'C39P4thinF_original_IMG_20150622_105253_cell_106.png', 'C39P4thinF_original_IMG_20150622_105253_cell_109.png', 'C39P4thinF_original_IMG_20150622_105253_cell_107.png', 'C39P4thinF_original_IMG_20150622_105253_cell_103.png', 'C39P4thinF_original_IMG_20150622_105253_cell_99.png', 'C39P4thinF_original_IMG_20150622_105253_cell_90.png', 'C39P4thinF_original_IMG_20150622_105253_cell_95.png', 'C39P4thinF_original_IMG_20150622_105253_cell_93.png', 'C39P4thinF_original_IMG_20150622_105253_cell_111.png', 'C39P4thinF_original_IMG_20150622_105253_cell_92.png', 'C39P4thinF_original_IMG_20150622_105253_cell_104.png', 'C39P4thinF_original_IMG_20150622_105253_cell_96.png', 'C39P4thinF_original_IMG_20150622_105253_cell_98.png', 'C39P4thinF_original_IMG_20150622_105335_cell_1.png', 'C39P4thinF_original_IMG_20150622_105335_cell_2.png', 'C39P4thinF_original_IMG_20150622_105335_cell_23.png', 'C39P4thinF_original_IMG_20150622_105335_cell_7.png', 'C39P4thinF_original_IMG_20150622_105335_cell_25.png', 'C39P4thinF_original_IMG_20150622_105335_cell_3.png', 'C39P4thinF_original_IMG_20150622_105335_cell_21.png', 'C39P4thinF_original_IMG_20150622_105335_cell_5.png', 'C39P4thinF_original_IMG_20150622_105335_cell_31.png', 'C39P4thinF_original_IMG_20150622_105335_cell_16.png', 'C39P4thinF_original_IMG_20150622_105335_cell_4.png', 'C39P4thinF_original_IMG_20150622_105335_cell_22.png', 'C39P4thinF_original_IMG_20150622_105335_cell_27.png', 'C39P4thinF_original_IMG_20150622_105335_cell_9.png', 'C39P4thinF_original_IMG_20150622_105335_cell_28.png', 'C39P4thinF_original_IMG_20150622_105335_cell_18.png', 'C39P4thinF_original_IMG_20150622_105335_cell_24.png', 'C39P4thinF_original_IMG_20150622_105335_cell_13.png', 'C39P4thinF_original_IMG_20150622_105335_cell_32.png', 'C39P4thinF_original_IMG_20150622_105335_cell_8.png', 'C39P4thinF_original_IMG_20150622_105335_cell_11.png', 'C39P4thinF_original_IMG_20150622_105335_cell_6.png', 'C39P4thinF_original_IMG_20150622_105335_cell_15.png', 'C39P4thinF_original_IMG_20150622_105335_cell_26.png', 'C39P4thinF_original_IMG_20150622_105335_cell_20.png', 'C39P4thinF_original_IMG_20150622_105335_cell_12.png', 'C39P4thinF_original_IMG_20150622_105335_cell_30.png', 'C39P4thinF_original_IMG_20150622_105335_cell_19.png', 'C39P4thinF_original_IMG_20150622_105335_cell_17.png', 'C39P4thinF_original_IMG_20150622_105335_cell_10.png', 'C39P4thinF_original_IMG_20150622_105335_cell_14.png', 'C39P4thinF_original_IMG_20150622_105335_cell_29.png', 'C39P4thinF_original_IMG_20150622_105554_cell_1.png', 'C39P4thinF_original_IMG_20150622_105554_cell_24.png', 'C39P4thinF_original_IMG_20150622_105554_cell_7.png', 'C39P4thinF_original_IMG_20150622_105554_cell_6.png', 'C39P4thinF_original_IMG_20150622_105554_cell_16.png', 'C39P4thinF_original_IMG_20150622_105554_cell_20.png', 'C39P4thinF_original_IMG_20150622_105554_cell_26.png', 'C39P4thinF_original_IMG_20150622_105554_cell_23.png', 'C39P4thinF_original_IMG_20150622_105554_cell_11.png', 'C39P4thinF_original_IMG_20150622_105554_cell_3.png', 'C39P4thinF_original_IMG_20150622_105554_cell_14.png', 'C39P4thinF_original_IMG_20150622_105554_cell_15.png', 'C39P4thinF_original_IMG_20150622_105554_cell_19.png', 'C39P4thinF_original_IMG_20150622_105554_cell_4.png', 'C39P4thinF_original_IMG_20150622_105554_cell_9.png', 'C39P4thinF_original_IMG_20150622_105554_cell_17.png', 'C39P4thinF_original_IMG_20150622_105554_cell_10.png', 'C39P4thinF_original_IMG_20150622_105554_cell_21.png', 'C39P4thinF_original_IMG_20150622_105554_cell_13.png', 'C39P4thinF_original_IMG_20150622_105554_cell_25.png', 'C39P4thinF_original_IMG_20150622_105554_cell_2.png', 'C39P4thinF_original_IMG_20150622_105554_cell_22.png', 'C39P4thinF_original_IMG_20150622_105554_cell_5.png', 'C39P4thinF_original_IMG_20150622_105554_cell_12.png', 'C39P4thinF_original_IMG_20150622_105554_cell_8.png', 'C39P4thinF_original_IMG_20150622_105554_cell_18.png', 'C39P4thinF_original_IMG_20150622_105803_cell_103.png', 'C39P4thinF_original_IMG_20150622_105803_cell_97.png', 'C39P4thinF_original_IMG_20150622_105803_cell_107.png', 'C39P4thinF_original_IMG_20150622_105803_cell_83.png', 'C39P4thinF_original_IMG_20150622_105803_cell_82.png', 'C39P4thinF_original_IMG_20150622_105803_cell_98.png', 'C39P4thinF_original_IMG_20150622_105803_cell_102.png', 'C39P4thinF_original_IMG_20150622_105803_cell_101.png', 'C39P4thinF_original_IMG_20150622_105803_cell_89.png', 'C39P4thinF_original_IMG_20150622_105803_cell_105.png', 'C39P4thinF_original_IMG_20150622_105803_cell_81.png', 'C39P4thinF_original_IMG_20150622_105803_cell_93.png', 'C39P4thinF_original_IMG_20150622_105803_cell_106.png', 'C39P4thinF_original_IMG_20150622_105803_cell_110.png', 'C39P4thinF_original_IMG_20150622_105803_cell_94.png', 'C39P4thinF_original_IMG_20150622_105803_cell_112.png', 'C39P4thinF_original_IMG_20150622_105803_cell_86.png', 'C39P4thinF_original_IMG_20150622_105803_cell_108.png', 'C39P4thinF_original_IMG_20150622_105803_cell_111.png', 'C39P4thinF_original_IMG_20150622_105803_cell_96.png', 'C39P4thinF_original_IMG_20150622_105803_cell_80.png', 'C39P4thinF_original_IMG_20150622_105803_cell_95.png', 'C39P4thinF_original_IMG_20150622_105803_cell_84.png', 'C39P4thinF_original_IMG_20150622_105803_cell_87.png', 'C39P4thinF_original_IMG_20150622_105803_cell_90.png', 'C39P4thinF_original_IMG_20150622_105803_cell_92.png', 'C39P4thinF_original_IMG_20150622_105803_cell_78.png', 'C39P4thinF_original_IMG_20150622_105803_cell_99.png', 'C39P4thinF_original_IMG_20150622_105803_cell_91.png', 'C39P4thinF_original_IMG_20150622_105803_cell_104.png', 'C39P4thinF_original_IMG_20150622_105803_cell_88.png', 'C39P4thinF_original_IMG_20150622_105803_cell_100.png', 'C39P4thinF_original_IMG_20150622_105803_cell_79.png', 'C39P4thinF_original_IMG_20150622_105803_cell_109.png', 'C39P4thinF_original_IMG_20150622_105803_cell_85.png', 'C39P4thinF_original_IMG_20150622_110115_cell_135.png', 'C39P4thinF_original_IMG_20150622_110115_cell_136.png', 'C39P4thinF_original_IMG_20150622_110115_cell_133.png', 'C39P4thinF_original_IMG_20150622_110115_cell_137.png', 'C39P4thinF_original_IMG_20150622_110115_cell_117.png', 'C39P4thinF_original_IMG_20150622_110115_cell_110.png', 'C39P4thinF_original_IMG_20150622_110115_cell_129.png', 'C39P4thinF_original_IMG_20150622_110115_cell_122.png', 'C39P4thinF_original_IMG_20150622_110115_cell_111.png', 'C39P4thinF_original_IMG_20150622_110115_cell_123.png', 'C39P4thinF_original_IMG_20150622_110115_cell_104.png', 'C39P4thinF_original_IMG_20150622_110115_cell_132.png', 'C39P4thinF_original_IMG_20150622_110115_cell_134.png', 'C39P4thinF_original_IMG_20150622_110115_cell_109.png', 'C39P4thinF_original_IMG_20150622_110115_cell_127.png', 'C39P4thinF_original_IMG_20150622_110115_cell_106.png', 'C39P4thinF_original_IMG_20150622_110115_cell_120.png', 'C39P4thinF_original_IMG_20150622_110115_cell_116.png', 'C39P4thinF_original_IMG_20150622_110115_cell_112.png', 'C39P4thinF_original_IMG_20150622_110115_cell_128.png', 'C39P4thinF_original_IMG_20150622_110115_cell_114.png', 'C39P4thinF_original_IMG_20150622_110115_cell_130.png', 'C39P4thinF_original_IMG_20150622_110115_cell_131.png', 'C39P4thinF_original_IMG_20150622_110115_cell_105.png', 'C39P4thinF_original_IMG_20150622_110115_cell_121.png', 'C39P4thinF_original_IMG_20150622_110115_cell_125.png', 'C39P4thinF_original_IMG_20150622_110115_cell_126.png', 'C39P4thinF_original_IMG_20150622_110115_cell_108.png', 'C39P4thinF_original_IMG_20150622_110115_cell_115.png', 'C39P4thinF_original_IMG_20150622_110115_cell_138.png', 'C39P4thinF_original_IMG_20150622_110115_cell_118.png', 'C39P4thinF_original_IMG_20150622_110115_cell_124.png', 'C39P4thinF_original_IMG_20150622_110115_cell_107.png', 'C39P4thinF_original_IMG_20150622_110115_cell_119.png', 'C39P4thinF_original_IMG_20150622_110115_cell_113.png', 'C39P4thinF_original_IMG_20150622_110352_cell_81.png', 'C39P4thinF_original_IMG_20150622_110352_cell_95.png', 'C39P4thinF_original_IMG_20150622_110352_cell_89.png', 'C39P4thinF_original_IMG_20150622_110352_cell_107.png', 'C39P4thinF_original_IMG_20150622_110352_cell_109.png', 'C39P4thinF_original_IMG_20150622_110352_cell_105.png', 'C39P4thinF_original_IMG_20150622_110352_cell_99.png', 'C39P4thinF_original_IMG_20150622_110352_cell_100.png', 'C39P4thinF_original_IMG_20150622_110352_cell_108.png', 'C39P4thinF_original_IMG_20150622_110352_cell_93.png', 'C39P4thinF_original_IMG_20150622_110352_cell_102.png', 'C39P4thinF_original_IMG_20150622_110352_cell_79.png', 'C39P4thinF_original_IMG_20150622_110352_cell_97.png', 'C39P4thinF_original_IMG_20150622_110352_cell_114.png', 'C39P4thinF_original_IMG_20150622_110352_cell_110.png', 'C39P4thinF_original_IMG_20150622_110352_cell_84.png', 'C39P4thinF_original_IMG_20150622_110352_cell_92.png', 'C39P4thinF_original_IMG_20150622_110352_cell_113.png', 'C39P4thinF_original_IMG_20150622_110352_cell_90.png', 'C39P4thinF_original_IMG_20150622_110352_cell_85.png', 'C39P4thinF_original_IMG_20150622_110352_cell_94.png', 'C39P4thinF_original_IMG_20150622_110352_cell_98.png', 'C39P4thinF_original_IMG_20150622_110352_cell_106.png', 'C39P4thinF_original_IMG_20150622_110352_cell_112.png', 'C39P4thinF_original_IMG_20150622_110352_cell_82.png', 'C39P4thinF_original_IMG_20150622_110352_cell_78.png', 'C39P4thinF_original_IMG_20150622_110352_cell_88.png', 'C39P4thinF_original_IMG_20150622_110352_cell_80.png', 'C39P4thinF_original_IMG_20150622_110352_cell_111.png', 'C39P4thinF_original_IMG_20150622_110352_cell_103.png', 'C39P4thinF_original_IMG_20150622_110352_cell_87.png', 'C39P4thinF_original_IMG_20150622_110352_cell_104.png', 'C39P4thinF_original_IMG_20150622_110352_cell_86.png', 'C39P4thinF_original_IMG_20150622_110352_cell_91.png', 'C39P4thinF_original_IMG_20150622_110352_cell_83.png', 'C39P4thinF_original_IMG_20150622_110352_cell_101.png', 'C39P4thinF_original_IMG_20150622_110352_cell_96.png', 'C39P4thinF_original_IMG_20150622_110435_cell_94.png', 'C39P4thinF_original_IMG_20150622_110435_cell_93.png', 'C39P4thinF_original_IMG_20150622_110435_cell_97.png', 'C39P4thinF_original_IMG_20150622_110435_cell_87.png', 'C39P4thinF_original_IMG_20150622_110435_cell_88.png', 'C39P4thinF_original_IMG_20150622_110435_cell_103.png', 'C39P4thinF_original_IMG_20150622_110435_cell_102.png', 'C39P4thinF_original_IMG_20150622_110435_cell_105.png', 'C39P4thinF_original_IMG_20150622_110435_cell_89.png', 'C39P4thinF_original_IMG_20150622_110435_cell_90.png', 'C39P4thinF_original_IMG_20150622_110435_cell_108.png', 'C39P4thinF_original_IMG_20150622_110435_cell_99.png', 'C39P4thinF_original_IMG_20150622_110435_cell_83.png', 'C39P4thinF_original_IMG_20150622_110435_cell_91.png', 'C39P4thinF_original_IMG_20150622_110435_cell_96.png', 'C39P4thinF_original_IMG_20150622_110435_cell_92.png', 'C39P4thinF_original_IMG_20150622_110435_cell_109.png', 'C39P4thinF_original_IMG_20150622_110435_cell_85.png', 'C39P4thinF_original_IMG_20150622_110435_cell_84.png', 'C39P4thinF_original_IMG_20150622_110435_cell_98.png', 'C39P4thinF_original_IMG_20150622_110435_cell_100.png', 'C39P4thinF_original_IMG_20150622_110435_cell_106.png', 'C39P4thinF_original_IMG_20150622_110435_cell_101.png', 'C39P4thinF_original_IMG_20150622_110435_cell_86.png', 'C39P4thinF_original_IMG_20150622_110435_cell_104.png', 'C39P4thinF_original_IMG_20150622_110435_cell_95.png', 'C39P4thinF_original_IMG_20150622_110435_cell_107.png', 'C39P4thinF_original_IMG_20150622_110435_cell_118.png', 'C39P4thinF_original_IMG_20150622_110435_cell_110.png', 'C39P4thinF_original_IMG_20150622_110435_cell_111.png', 'C39P4thinF_original_IMG_20150622_110435_cell_116.png', 'C39P4thinF_original_IMG_20150622_110435_cell_114.png', 'C39P4thinF_original_IMG_20150622_110435_cell_119.png', 'C39P4thinF_original_IMG_20150622_110435_cell_115.png', 'C39P4thinF_original_IMG_20150622_110435_cell_112.png', 'C39P4thinF_original_IMG_20150622_110435_cell_113.png', 'C39P4thinF_original_IMG_20150622_110435_cell_117.png', 'C39P4thinF_original_IMG_20150622_110900_cell_9.png', 'C39P4thinF_original_IMG_20150622_110900_cell_11.png', 'C39P4thinF_original_IMG_20150622_110900_cell_15.png', 'C39P4thinF_original_IMG_20150622_110900_cell_1.png', 'C39P4thinF_original_IMG_20150622_110900_cell_13.png', 'C39P4thinF_original_IMG_20150622_110900_cell_4.png', 'C39P4thinF_original_IMG_20150622_110900_cell_20.png', 'C39P4thinF_original_IMG_20150622_110900_cell_14.png', 'C39P4thinF_original_IMG_20150622_110900_cell_3.png', 'C39P4thinF_original_IMG_20150622_110900_cell_5.png', 'C39P4thinF_original_IMG_20150622_110900_cell_21.png', 'C39P4thinF_original_IMG_20150622_110900_cell_16.png', 'C39P4thinF_original_IMG_20150622_110900_cell_6.png', 'C39P4thinF_original_IMG_20150622_110900_cell_22.png', 'C39P4thinF_original_IMG_20150622_110900_cell_7.png', 'C39P4thinF_original_IMG_20150622_110900_cell_19.png', 'C39P4thinF_original_IMG_20150622_110900_cell_17.png', 'C39P4thinF_original_IMG_20150622_110900_cell_2.png', 'C39P4thinF_original_IMG_20150622_110900_cell_8.png', 'C39P4thinF_original_IMG_20150622_110900_cell_10.png', 'C39P4thinF_original_IMG_20150622_110900_cell_12.png', 'C39P4thinF_original_IMG_20150622_110900_cell_18.png', 'C39P4thinF_original_IMG_20150622_111206_cell_94.png', 'C39P4thinF_original_IMG_20150622_111206_cell_78.png', 'C39P4thinF_original_IMG_20150622_111206_cell_92.png', 'C39P4thinF_original_IMG_20150622_111206_cell_97.png', 'C39P4thinF_original_IMG_20150622_111206_cell_82.png', 'C39P4thinF_original_IMG_20150622_111206_cell_84.png', 'C39P4thinF_original_IMG_20150622_111206_cell_88.png', 'C39P4thinF_original_IMG_20150622_111206_cell_76.png', 'C39P4thinF_original_IMG_20150622_111206_cell_89.png', 'C39P4thinF_original_IMG_20150622_111206_cell_96.png', 'C39P4thinF_original_IMG_20150622_111206_cell_103.png', 'C39P4thinF_original_IMG_20150622_111206_cell_90.png', 'C39P4thinF_original_IMG_20150622_111206_cell_98.png', 'C39P4thinF_original_IMG_20150622_111206_cell_93.png', 'C39P4thinF_original_IMG_20150622_111206_cell_77.png', 'C39P4thinF_original_IMG_20150622_111206_cell_101.png', 'C39P4thinF_original_IMG_20150622_111206_cell_80.png', 'C39P4thinF_original_IMG_20150622_111206_cell_95.png', 'C39P4thinF_original_IMG_20150622_111206_cell_91.png', 'C39P4thinF_original_IMG_20150622_111206_cell_110.png', 'C39P4thinF_original_IMG_20150622_111206_cell_102.png', 'C39P4thinF_original_IMG_20150622_111206_cell_100.png', 'C39P4thinF_original_IMG_20150622_111206_cell_111.png', 'C39P4thinF_original_IMG_20150622_111206_cell_79.png', 'C39P4thinF_original_IMG_20150622_111206_cell_105.png', 'C39P4thinF_original_IMG_20150622_111206_cell_87.png', 'C39P4thinF_original_IMG_20150622_111206_cell_108.png', 'C39P4thinF_original_IMG_20150622_111206_cell_86.png', 'C39P4thinF_original_IMG_20150622_111206_cell_81.png', 'C39P4thinF_original_IMG_20150622_111206_cell_107.png', 'C39P4thinF_original_IMG_20150622_111206_cell_99.png', 'C39P4thinF_original_IMG_20150622_111206_cell_106.png', 'C39P4thinF_original_IMG_20150622_111206_cell_104.png', 'C39P4thinF_original_IMG_20150622_111206_cell_85.png', 'C39P4thinF_original_IMG_20150622_111206_cell_112.png', 'C39P4thinF_original_IMG_20150622_111206_cell_83.png', 'C39P4thinF_original_IMG_20150622_111206_cell_109.png', 'C39P4thinF_original_IMG_20150622_111326_cell_3.png', 'C39P4thinF_original_IMG_20150622_111326_cell_1.png', 'C39P4thinF_original_IMG_20150622_111326_cell_6.png', 'C39P4thinF_original_IMG_20150622_111326_cell_2.png', 'C39P4thinF_original_IMG_20150622_111326_cell_5.png', 'C39P4thinF_original_IMG_20150622_111326_cell_4.png', 'C39P4thinF_original_IMG_20150622_111326_cell_7.png', 'C39P4thinF_original_IMG_20150622_111326_cell_16.png', 'C39P4thinF_original_IMG_20150622_111326_cell_10.png', 'C39P4thinF_original_IMG_20150622_111326_cell_18.png', 'C39P4thinF_original_IMG_20150622_111326_cell_22.png', 'C39P4thinF_original_IMG_20150622_111326_cell_20.png', 'C39P4thinF_original_IMG_20150622_111326_cell_24.png', 'C39P4thinF_original_IMG_20150622_111326_cell_19.png', 'C39P4thinF_original_IMG_20150622_111326_cell_17.png', 'C39P4thinF_original_IMG_20150622_111326_cell_21.png', 'C39P4thinF_original_IMG_20150622_111326_cell_8.png', 'C39P4thinF_original_IMG_20150622_111326_cell_25.png', 'C39P4thinF_original_IMG_20150622_111326_cell_23.png', 'C39P4thinF_original_IMG_20150622_111326_cell_12.png', 'C39P4thinF_original_IMG_20150622_111326_cell_11.png', 'C39P4thinF_original_IMG_20150622_111326_cell_14.png', 'C39P4thinF_original_IMG_20150622_111326_cell_13.png', 'C39P4thinF_original_IMG_20150622_111326_cell_9.png', 'C39P4thinF_original_IMG_20150622_111326_cell_15.png', 'C39P4thinF_original_IMG_20150622_111723_cell_78.png', 'C39P4thinF_original_IMG_20150622_111723_cell_76.png', 'C39P4thinF_original_IMG_20150622_111723_cell_79.png', 'C39P4thinF_original_IMG_20150622_111723_cell_77.png', 'C39P4thinF_original_IMG_20150622_111723_cell_93.png', 'C39P4thinF_original_IMG_20150622_111723_cell_96.png', 'C39P4thinF_original_IMG_20150622_111723_cell_88.png', 'C39P4thinF_original_IMG_20150622_111723_cell_92.png', 'C39P4thinF_original_IMG_20150622_111723_cell_99.png', 'C39P4thinF_original_IMG_20150622_111723_cell_86.png', 'C39P4thinF_original_IMG_20150622_111723_cell_94.png', 'C39P4thinF_original_IMG_20150622_111723_cell_89.png', 'C39P4thinF_original_IMG_20150622_111723_cell_91.png', 'C39P4thinF_original_IMG_20150622_111723_cell_82.png', 'C39P4thinF_original_IMG_20150622_111723_cell_83.png', 'C39P4thinF_original_IMG_20150622_111723_cell_98.png', 'C39P4thinF_original_IMG_20150622_111723_cell_87.png', 'C39P4thinF_original_IMG_20150622_111723_cell_81.png', 'C39P4thinF_original_IMG_20150622_111723_cell_80.png', 'C39P4thinF_original_IMG_20150622_111723_cell_84.png', 'C39P4thinF_original_IMG_20150622_111723_cell_95.png', 'C39P4thinF_original_IMG_20150622_111723_cell_97.png', 'C39P4thinF_original_IMG_20150622_111723_cell_85.png', 'C39P4thinF_original_IMG_20150622_111723_cell_90.png', 'C39P4thinF_original_IMG_20150622_111942_cell_8.png', 'C39P4thinF_original_IMG_20150622_111942_cell_9.png', 'C39P4thinF_original_IMG_20150622_111942_cell_1.png', 'C39P4thinF_original_IMG_20150622_111942_cell_7.png', 'C39P4thinF_original_IMG_20150622_111942_cell_12.png', 'C39P4thinF_original_IMG_20150622_111942_cell_2.png', 'C39P4thinF_original_IMG_20150622_111942_cell_4.png', 'C39P4thinF_original_IMG_20150622_111942_cell_18.png', 'C39P4thinF_original_IMG_20150622_111942_cell_16.png', 'C39P4thinF_original_IMG_20150622_111942_cell_19.png', 'C39P4thinF_original_IMG_20150622_111942_cell_11.png', 'C39P4thinF_original_IMG_20150622_111942_cell_5.png', 'C39P4thinF_original_IMG_20150622_111942_cell_15.png', 'C39P4thinF_original_IMG_20150622_111942_cell_17.png', 'C39P4thinF_original_IMG_20150622_111942_cell_20.png', 'C39P4thinF_original_IMG_20150622_111942_cell_14.png', 'C39P4thinF_original_IMG_20150622_111942_cell_13.png', 'C39P4thinF_original_IMG_20150622_111942_cell_3.png', 'C39P4thinF_original_IMG_20150622_111942_cell_6.png', 'C39P4thinF_original_IMG_20150622_111942_cell_10.png', 'C39P4thinF_original_IMG_20150622_111942_cell_23.png', 'C39P4thinF_original_IMG_20150622_111942_cell_22.png', 'C39P4thinF_original_IMG_20150622_111942_cell_21.png', 'C39P4thinF_original_IMG_20150622_111942_cell_24.png', 'C39P4thinF_original_IMG_20150622_112119_cell_17.png', 'C39P4thinF_original_IMG_20150622_112119_cell_18.png', 'C39P4thinF_original_IMG_20150622_112119_cell_13.png', 'C39P4thinF_original_IMG_20150622_112119_cell_7.png', 'C39P4thinF_original_IMG_20150622_112119_cell_20.png', 'C39P4thinF_original_IMG_20150622_112119_cell_14.png', 'C39P4thinF_original_IMG_20150622_112119_cell_19.png', 'C39P4thinF_original_IMG_20150622_112119_cell_22.png', 'C39P4thinF_original_IMG_20150622_112119_cell_12.png', 'C39P4thinF_original_IMG_20150622_112119_cell_6.png', 'C39P4thinF_original_IMG_20150622_112119_cell_8.png', 'C39P4thinF_original_IMG_20150622_112119_cell_10.png', 'C39P4thinF_original_IMG_20150622_112119_cell_21.png', 'C39P4thinF_original_IMG_20150622_112119_cell_9.png', 'C39P4thinF_original_IMG_20150622_112119_cell_2.png', 'C39P4thinF_original_IMG_20150622_112119_cell_15.png', 'C39P4thinF_original_IMG_20150622_112119_cell_3.png', 'C39P4thinF_original_IMG_20150622_112119_cell_4.png', 'C39P4thinF_original_IMG_20150622_112119_cell_11.png', 'C39P4thinF_original_IMG_20150622_112119_cell_1.png', 'C39P4thinF_original_IMG_20150622_112119_cell_5.png', 'C39P4thinF_original_IMG_20150622_112119_cell_16.png', 'C39P4thinF_original_IMG_20150622_113126_cell_12.png', 'C39P4thinF_original_IMG_20150622_113126_cell_11.png', 'C39P4thinF_original_IMG_20150622_113126_cell_8.png', 'C39P4thinF_original_IMG_20150622_113126_cell_14.png', 'C39P4thinF_original_IMG_20150622_113126_cell_5.png', 'C39P4thinF_original_IMG_20150622_113126_cell_7.png', 'C39P4thinF_original_IMG_20150622_113126_cell_4.png', 'C39P4thinF_original_IMG_20150622_113126_cell_13.png', 'C39P4thinF_original_IMG_20150622_113126_cell_6.png', 'C39P4thinF_original_IMG_20150622_113126_cell_9.png', 'C39P4thinF_original_IMG_20150622_113126_cell_3.png', 'C39P4thinF_original_IMG_20150622_113126_cell_2.png', 'C39P4thinF_original_IMG_20150622_113126_cell_10.png', 'C39P4thinF_original_IMG_20150622_113126_cell_1.png', 'C39P4thinF_original_IMG_20150622_113446_cell_23.png', 'C39P4thinF_original_IMG_20150622_113446_cell_17.png', 'C39P4thinF_original_IMG_20150622_113446_cell_1.png', 'C39P4thinF_original_IMG_20150622_113446_cell_3.png', 'C39P4thinF_original_IMG_20150622_113446_cell_11.png', 'C39P4thinF_original_IMG_20150622_113446_cell_20.png', 'C39P4thinF_original_IMG_20150622_113446_cell_6.png', 'C39P4thinF_original_IMG_20150622_113446_cell_29.png', 'C39P4thinF_original_IMG_20150622_113446_cell_28.png', 'C39P4thinF_original_IMG_20150622_113446_cell_22.png', 'C39P4thinF_original_IMG_20150622_113446_cell_16.png', 'C39P4thinF_original_IMG_20150622_113446_cell_24.png', 'C39P4thinF_original_IMG_20150622_113446_cell_5.png', 'C39P4thinF_original_IMG_20150622_113446_cell_27.png', 'C39P4thinF_original_IMG_20150622_113446_cell_21.png', 'C39P4thinF_original_IMG_20150622_113446_cell_14.png', 'C39P4thinF_original_IMG_20150622_113446_cell_13.png', 'C39P4thinF_original_IMG_20150622_113446_cell_25.png', 'C39P4thinF_original_IMG_20150622_113446_cell_4.png', 'C39P4thinF_original_IMG_20150622_113446_cell_10.png', 'C39P4thinF_original_IMG_20150622_113446_cell_19.png', 'C39P4thinF_original_IMG_20150622_113446_cell_26.png', 'C39P4thinF_original_IMG_20150622_113446_cell_9.png', 'C39P4thinF_original_IMG_20150622_113446_cell_7.png', 'C39P4thinF_original_IMG_20150622_113446_cell_12.png', 'C39P4thinF_original_IMG_20150622_113446_cell_18.png', 'C39P4thinF_original_IMG_20150622_113446_cell_15.png', 'C39P4thinF_original_IMG_20150622_113446_cell_8.png', 'C39P4thinF_original_IMG_20150622_113446_cell_2.png', 'C39P4thinF_original_IMG_20150622_113632_cell_3.png', 'C39P4thinF_original_IMG_20150622_113632_cell_1.png', 'C39P4thinF_original_IMG_20150622_113632_cell_2.png', 'C39P4thinF_original_IMG_20150622_113632_cell_4.png', 'C39P4thinF_original_IMG_20150622_113632_cell_30.png', 'C39P4thinF_original_IMG_20150622_113632_cell_7.png', 'C39P4thinF_original_IMG_20150622_113632_cell_11.png', 'C39P4thinF_original_IMG_20150622_113632_cell_20.png', 'C39P4thinF_original_IMG_20150622_113632_cell_19.png', 'C39P4thinF_original_IMG_20150622_113632_cell_5.png', 'C39P4thinF_original_IMG_20150622_113632_cell_27.png', 'C39P4thinF_original_IMG_20150622_113632_cell_18.png', 'C39P4thinF_original_IMG_20150622_113632_cell_17.png', 'C39P4thinF_original_IMG_20150622_113632_cell_6.png', 'C39P4thinF_original_IMG_20150622_113632_cell_31.png', 'C39P4thinF_original_IMG_20150622_113632_cell_16.png', 'C39P4thinF_original_IMG_20150622_113632_cell_24.png', 'C39P4thinF_original_IMG_20150622_113632_cell_34.png', 'C39P4thinF_original_IMG_20150622_113632_cell_12.png', 'C39P4thinF_original_IMG_20150622_113632_cell_15.png', 'C39P4thinF_original_IMG_20150622_113632_cell_29.png', 'C39P4thinF_original_IMG_20150622_113632_cell_23.png', 'C39P4thinF_original_IMG_20150622_113632_cell_8.png', 'C39P4thinF_original_IMG_20150622_113632_cell_10.png', 'C39P4thinF_original_IMG_20150622_113632_cell_33.png', 'C39P4thinF_original_IMG_20150622_113632_cell_21.png', 'C39P4thinF_original_IMG_20150622_113632_cell_28.png', 'C39P4thinF_original_IMG_20150622_113632_cell_26.png', 'C39P4thinF_original_IMG_20150622_113632_cell_9.png', 'C39P4thinF_original_IMG_20150622_113632_cell_32.png', 'C39P4thinF_original_IMG_20150622_113632_cell_22.png', 'C39P4thinF_original_IMG_20150622_113632_cell_25.png', 'C39P4thinF_original_IMG_20150622_113632_cell_14.png', 'C39P4thinF_original_IMG_20150622_113632_cell_13.png', 'C39P4thinF_original_IMG_20150622_113842_cell_4.png', 'C39P4thinF_original_IMG_20150622_113842_cell_15.png', 'C39P4thinF_original_IMG_20150622_113842_cell_16.png', 'C39P4thinF_original_IMG_20150622_113842_cell_13.png', 'C39P4thinF_original_IMG_20150622_113842_cell_12.png', 'C39P4thinF_original_IMG_20150622_113842_cell_9.png', 'C39P4thinF_original_IMG_20150622_113842_cell_1.png', 'C39P4thinF_original_IMG_20150622_113842_cell_2.png', 'C39P4thinF_original_IMG_20150622_113842_cell_11.png', 'C39P4thinF_original_IMG_20150622_113842_cell_14.png', 'C39P4thinF_original_IMG_20150622_113842_cell_5.png', 'C39P4thinF_original_IMG_20150622_113842_cell_6.png', 'C39P4thinF_original_IMG_20150622_113842_cell_3.png', 'C39P4thinF_original_IMG_20150622_113842_cell_10.png', 'C39P4thinF_original_IMG_20150622_113842_cell_8.png', 'C39P4thinF_original_IMG_20150622_113842_cell_7.png', 'C39P4thinF_original_IMG_20150622_113842_cell_25.png', 'C39P4thinF_original_IMG_20150622_113842_cell_31.png', 'C39P4thinF_original_IMG_20150622_113842_cell_19.png', 'C39P4thinF_original_IMG_20150622_113842_cell_38.png', 'C39P4thinF_original_IMG_20150622_113842_cell_17.png', 'C39P4thinF_original_IMG_20150622_113842_cell_35.png', 'C39P4thinF_original_IMG_20150622_113842_cell_39.png', 'C39P4thinF_original_IMG_20150622_113842_cell_20.png', 'C39P4thinF_original_IMG_20150622_113842_cell_23.png', 'C39P4thinF_original_IMG_20150622_113842_cell_29.png', 'C39P4thinF_original_IMG_20150622_113842_cell_34.png', 'C39P4thinF_original_IMG_20150622_113842_cell_22.png', 'C39P4thinF_original_IMG_20150622_113842_cell_40.png', 'C39P4thinF_original_IMG_20150622_113842_cell_27.png', 'C39P4thinF_original_IMG_20150622_113842_cell_28.png', 'C39P4thinF_original_IMG_20150622_113842_cell_26.png', 'C39P4thinF_original_IMG_20150622_113842_cell_18.png', 'C39P4thinF_original_IMG_20150622_113842_cell_41.png', 'C39P4thinF_original_IMG_20150622_113842_cell_32.png', 'C39P4thinF_original_IMG_20150622_113842_cell_24.png', 'C39P4thinF_original_IMG_20150622_113842_cell_37.png', 'C39P4thinF_original_IMG_20150622_113842_cell_42.png', 'C39P4thinF_original_IMG_20150622_113842_cell_21.png', 'C39P4thinF_original_IMG_20150622_113842_cell_30.png', 'C39P4thinF_original_IMG_20150622_113842_cell_36.png', 'C39P4thinF_original_IMG_20150622_113842_cell_33.png', 'C39P4thinF_original_IMG_20150622_114122_cell_8.png', 'C39P4thinF_original_IMG_20150622_114122_cell_12.png', 'C39P4thinF_original_IMG_20150622_114122_cell_11.png', 'C39P4thinF_original_IMG_20150622_114122_cell_14.png', 'C39P4thinF_original_IMG_20150622_114122_cell_13.png', 'C39P4thinF_original_IMG_20150622_114122_cell_16.png', 'C39P4thinF_original_IMG_20150622_114122_cell_9.png', 'C39P4thinF_original_IMG_20150622_114122_cell_7.png', 'C39P4thinF_original_IMG_20150622_114122_cell_2.png', 'C39P4thinF_original_IMG_20150622_114122_cell_17.png', 'C39P4thinF_original_IMG_20150622_114122_cell_6.png', 'C39P4thinF_original_IMG_20150622_114122_cell_15.png', 'C39P4thinF_original_IMG_20150622_114122_cell_5.png', 'C39P4thinF_original_IMG_20150622_114122_cell_1.png', 'C39P4thinF_original_IMG_20150622_114122_cell_3.png', 'C39P4thinF_original_IMG_20150622_114122_cell_4.png', 'C39P4thinF_original_IMG_20150622_114122_cell_10.png', 'C39P4thinF_original_IMG_20150622_114609_cell_18.png', 'C39P4thinF_original_IMG_20150622_114609_cell_25.png', 'C39P4thinF_original_IMG_20150622_114609_cell_6.png', 'C39P4thinF_original_IMG_20150622_114609_cell_1.png', 'C39P4thinF_original_IMG_20150622_114609_cell_32.png', 'C39P4thinF_original_IMG_20150622_114609_cell_9.png', 'C39P4thinF_original_IMG_20150622_114609_cell_29.png', 'C39P4thinF_original_IMG_20150622_114609_cell_8.png', 'C39P4thinF_original_IMG_20150622_114609_cell_21.png', 'C39P4thinF_original_IMG_20150622_114609_cell_4.png', 'C39P4thinF_original_IMG_20150622_114609_cell_20.png', 'C39P4thinF_original_IMG_20150622_114609_cell_26.png', 'C39P4thinF_original_IMG_20150622_114609_cell_7.png', 'C39P4thinF_original_IMG_20150622_114609_cell_17.png', 'C39P4thinF_original_IMG_20150622_114609_cell_5.png', 'C39P4thinF_original_IMG_20150622_114609_cell_10.png', 'C39P4thinF_original_IMG_20150622_114609_cell_15.png', 'C39P4thinF_original_IMG_20150622_114609_cell_11.png', 'C39P4thinF_original_IMG_20150622_114609_cell_3.png', 'C39P4thinF_original_IMG_20150622_114609_cell_30.png', 'C39P4thinF_original_IMG_20150622_114609_cell_31.png', 'C39P4thinF_original_IMG_20150622_114609_cell_14.png', 'C39P4thinF_original_IMG_20150622_114609_cell_19.png', 'C39P4thinF_original_IMG_20150622_114609_cell_28.png', 'C39P4thinF_original_IMG_20150622_114609_cell_27.png', 'C39P4thinF_original_IMG_20150622_114609_cell_12.png', 'C39P4thinF_original_IMG_20150622_114609_cell_16.png', 'C39P4thinF_original_IMG_20150622_114609_cell_24.png', 'C39P4thinF_original_IMG_20150622_114609_cell_2.png', 'C39P4thinF_original_IMG_20150622_114609_cell_13.png', 'C39P4thinF_original_IMG_20150622_114609_cell_22.png', 'C39P4thinF_original_IMG_20150622_114609_cell_23.png', 'C39P4thinF_original_IMG_20150622_114804_cell_24.png', 'C39P4thinF_original_IMG_20150622_114804_cell_1.png', 'C39P4thinF_original_IMG_20150622_114804_cell_37.png', 'C39P4thinF_original_IMG_20150622_114804_cell_21.png', 'C39P4thinF_original_IMG_20150622_114804_cell_9.png', 'C39P4thinF_original_IMG_20150622_114804_cell_35.png', 'C39P4thinF_original_IMG_20150622_114804_cell_7.png', 'C39P4thinF_original_IMG_20150622_114804_cell_23.png', 'C39P4thinF_original_IMG_20150622_114804_cell_30.png', 'C39P4thinF_original_IMG_20150622_114804_cell_38.png', 'C39P4thinF_original_IMG_20150622_114804_cell_10.png', 'C39P4thinF_original_IMG_20150622_114804_cell_13.png', 'C39P4thinF_original_IMG_20150622_114804_cell_25.png', 'C39P4thinF_original_IMG_20150622_114804_cell_2.png', 'C39P4thinF_original_IMG_20150622_114804_cell_29.png', 'C39P4thinF_original_IMG_20150622_114804_cell_5.png', 'C39P4thinF_original_IMG_20150622_114804_cell_17.png', 'C39P4thinF_original_IMG_20150622_114804_cell_40.png', 'C39P4thinF_original_IMG_20150622_114804_cell_6.png', 'C39P4thinF_original_IMG_20150622_114804_cell_12.png', 'C39P4thinF_original_IMG_20150622_114804_cell_15.png', 'C39P4thinF_original_IMG_20150622_114804_cell_3.png', 'C39P4thinF_original_IMG_20150622_114804_cell_32.png', 'C39P4thinF_original_IMG_20150622_114804_cell_16.png', 'C39P4thinF_original_IMG_20150622_114804_cell_19.png', 'C39P4thinF_original_IMG_20150622_114804_cell_20.png', 'C39P4thinF_original_IMG_20150622_114804_cell_4.png', 'C39P4thinF_original_IMG_20150622_114804_cell_14.png', 'C39P4thinF_original_IMG_20150622_114804_cell_26.png', 'C39P4thinF_original_IMG_20150622_114804_cell_31.png', 'C39P4thinF_original_IMG_20150622_114804_cell_28.png', 'C39P4thinF_original_IMG_20150622_114804_cell_33.png', 'C39P4thinF_original_IMG_20150622_114804_cell_39.png', 'C39P4thinF_original_IMG_20150622_114804_cell_27.png', 'C39P4thinF_original_IMG_20150622_114804_cell_41.png', 'C39P4thinF_original_IMG_20150622_114804_cell_22.png', 'C39P4thinF_original_IMG_20150622_114804_cell_8.png', 'C39P4thinF_original_IMG_20150622_114804_cell_36.png', 'C39P4thinF_original_IMG_20150622_114804_cell_34.png', 'C39P4thinF_original_IMG_20150622_114804_cell_18.png', 'C39P4thinF_original_IMG_20150622_114804_cell_11.png', 'C42P5thin_original_IMG_20150623_134426_cell_185.png', 'C42P5thin_original_IMG_20150623_134547_cell_240.png', 'C42P5thin_original_IMG_20150623_134751_cell_208.png', 'C42P5thin_original_IMG_20150623_134751_cell_207.png', 'C42P5thin_original_IMG_20150623_134751_cell_206.png', 'C42P5thin_original_IMG_20150623_135746_cell_161.png', 'C46P7ThinF_IMG_20151130_205558_cell_161.png', 'C46P7ThinF_IMG_20151130_205558_cell_157.png', 'C46P7ThinF_IMG_20151130_205558_cell_158.png', 'C46P7ThinF_IMG_20151130_205558_cell_153.png', 'C46P7ThinF_IMG_20151130_205558_cell_162.png', 'C46P7ThinF_IMG_20151130_205558_cell_148.png', 'C46P7ThinF_IMG_20151130_205558_cell_160.png', 'C46P7ThinF_IMG_20151130_205558_cell_150.png', 'C46P7ThinF_IMG_20151130_205558_cell_147.png', 'C46P7ThinF_IMG_20151130_205558_cell_159.png', 'C46P7ThinF_IMG_20151130_205558_cell_154.png', 'C46P7ThinF_IMG_20151130_205558_cell_152.png', 'C46P7ThinF_IMG_20151130_205558_cell_151.png', 'C46P7ThinF_IMG_20151130_205558_cell_149.png', 'C46P7ThinF_IMG_20151130_205558_cell_155.png', 'C46P7ThinF_IMG_20151130_205558_cell_156.png', 'C46P7ThinF_IMG_20151130_205719_cell_128.png', 'C46P7ThinF_IMG_20151130_205719_cell_132.png', 'C46P7ThinF_IMG_20151130_205719_cell_133.png', 'C46P7ThinF_IMG_20151130_205719_cell_131.png', 'C46P7ThinF_IMG_20151130_205719_cell_135.png', 'C46P7ThinF_IMG_20151130_205719_cell_134.png', 'C46P7ThinF_IMG_20151130_205719_cell_129.png', 'C46P7ThinF_IMG_20151130_205719_cell_130.png', 'C46P7ThinF_IMG_20151130_205756_cell_119.png', 'C46P7ThinF_IMG_20151130_205756_cell_131.png', 'C46P7ThinF_IMG_20151130_205756_cell_120.png', 'C46P7ThinF_IMG_20151130_205756_cell_125.png', 'C46P7ThinF_IMG_20151130_205756_cell_127.png', 'C46P7ThinF_IMG_20151130_205756_cell_122.png', 'C46P7ThinF_IMG_20151130_205756_cell_126.png', 'C46P7ThinF_IMG_20151130_205756_cell_121.png', 'C46P7ThinF_IMG_20151130_205756_cell_129.png', 'C46P7ThinF_IMG_20151130_205756_cell_124.png', 'C46P7ThinF_IMG_20151130_205756_cell_128.png', 'C46P7ThinF_IMG_20151130_205756_cell_130.png', 'C46P7ThinF_IMG_20151130_205756_cell_123.png', 'C45P6ThinF_IMG_20151130_154725_cell_170.png', 'C45P6ThinF_IMG_20151130_154725_cell_179.png', 'C45P6ThinF_IMG_20151130_154725_cell_182.png', 'C45P6ThinF_IMG_20151130_154725_cell_173.png', 'C45P6ThinF_IMG_20151130_154725_cell_172.png', 'C45P6ThinF_IMG_20151130_154725_cell_186.png', 'C45P6ThinF_IMG_20151130_154725_cell_167.png', 'C45P6ThinF_IMG_20151130_154725_cell_181.png', 'C45P6ThinF_IMG_20151130_154725_cell_184.png', 'C45P6ThinF_IMG_20151130_154725_cell_177.png', 'C45P6ThinF_IMG_20151130_154725_cell_169.png', 'C45P6ThinF_IMG_20151130_154725_cell_171.png', 'C45P6ThinF_IMG_20151130_154725_cell_176.png', 'C45P6ThinF_IMG_20151130_154725_cell_175.png', 'C45P6ThinF_IMG_20151130_154725_cell_180.png', 'C45P6ThinF_IMG_20151130_154725_cell_187.png', 'C45P6ThinF_IMG_20151130_154725_cell_185.png', 'C45P6ThinF_IMG_20151130_154725_cell_178.png', 'C45P6ThinF_IMG_20151130_154725_cell_168.png', 'C45P6ThinF_IMG_20151130_154725_cell_174.png', 'C45P6ThinF_IMG_20151130_154725_cell_183.png', 'C45P6ThinF_IMG_20151130_155011_cell_180.png', 'C45P6ThinF_IMG_20151130_155011_cell_176.png', 'C45P6ThinF_IMG_20151130_155011_cell_178.png', 'C45P6ThinF_IMG_20151130_155011_cell_170.png', 'C45P6ThinF_IMG_20151130_155011_cell_171.png', 'C45P6ThinF_IMG_20151130_155011_cell_174.png', 'C45P6ThinF_IMG_20151130_155011_cell_177.png', 'C45P6ThinF_IMG_20151130_155011_cell_173.png', 'C45P6ThinF_IMG_20151130_155011_cell_175.png', 'C45P6ThinF_IMG_20151130_155011_cell_179.png', 'C45P6ThinF_IMG_20151130_155011_cell_172.png', 'C45P6ThinF_IMG_20151130_155110_cell_207.png', 'C45P6ThinF_IMG_20151130_155110_cell_192.png', 'C45P6ThinF_IMG_20151130_155110_cell_196.png', 'C45P6ThinF_IMG_20151130_155110_cell_195.png', 'C45P6ThinF_IMG_20151130_155110_cell_205.png', 'C45P6ThinF_IMG_20151130_155110_cell_203.png', 'C45P6ThinF_IMG_20151130_155110_cell_197.png', 'C45P6ThinF_IMG_20151130_155110_cell_206.png', 'C45P6ThinF_IMG_20151130_155110_cell_198.png', 'C45P6ThinF_IMG_20151130_155110_cell_204.png', 'C45P6ThinF_IMG_20151130_155110_cell_200.png', 'C45P6ThinF_IMG_20151130_155110_cell_201.png', 'C45P6ThinF_IMG_20151130_155110_cell_199.png', 'C45P6ThinF_IMG_20151130_155110_cell_209.png', 'C45P6ThinF_IMG_20151130_155110_cell_208.png', 'C45P6ThinF_IMG_20151130_155110_cell_202.png', 'C45P6ThinF_IMG_20151130_155110_cell_194.png', 'C45P6ThinF_IMG_20151130_155110_cell_193.png', 'C45P6ThinF_IMG_20151130_155110_cell_210.png', 'C45P6ThinF_IMG_20151130_160135_cell_219.png', 'C45P6ThinF_IMG_20151130_160135_cell_202.png', 'C45P6ThinF_IMG_20151130_160135_cell_216.png', 'C45P6ThinF_IMG_20151130_160135_cell_218.png', 'C45P6ThinF_IMG_20151130_160135_cell_215.png', 'C45P6ThinF_IMG_20151130_160135_cell_211.png', 'C45P6ThinF_IMG_20151130_160135_cell_217.png', 'C45P6ThinF_IMG_20151130_160135_cell_204.png', 'C45P6ThinF_IMG_20151130_160135_cell_209.png', 'C45P6ThinF_IMG_20151130_160135_cell_213.png', 'C45P6ThinF_IMG_20151130_160135_cell_212.png', 'C45P6ThinF_IMG_20151130_160135_cell_208.png', 'C45P6ThinF_IMG_20151130_160135_cell_207.png', 'C45P6ThinF_IMG_20151130_160135_cell_214.png', 'C45P6ThinF_IMG_20151130_160135_cell_206.png', 'C45P6ThinF_IMG_20151130_160135_cell_205.png', 'C45P6ThinF_IMG_20151130_160135_cell_203.png', 'C45P6ThinF_IMG_20151130_160135_cell_210.png', 'C45P6ThinF_IMG_20151130_160135_cell_220.png', 'C45P6ThinF_IMG_20151130_160135_cell_222.png', 'C45P6ThinF_IMG_20151130_160135_cell_221.png', 'C45P6ThinF_IMG_20151130_160241_cell_199.png', 'C45P6ThinF_IMG_20151130_160241_cell_198.png', 'C45P6ThinF_IMG_20151130_160241_cell_200.png', 'C45P6ThinF_IMG_20151130_160241_cell_207.png', 'C45P6ThinF_IMG_20151130_160241_cell_205.png', 'C45P6ThinF_IMG_20151130_160241_cell_208.png', 'C45P6ThinF_IMG_20151130_160241_cell_202.png', 'C45P6ThinF_IMG_20151130_160241_cell_206.png', 'C45P6ThinF_IMG_20151130_160241_cell_203.png', 'C45P6ThinF_IMG_20151130_160241_cell_204.png', 'C45P6ThinF_IMG_20151130_160241_cell_201.png', 'C45P6ThinF_IMG_20151130_160409_cell_189.png', 'C45P6ThinF_IMG_20151130_160409_cell_193.png', 'C45P6ThinF_IMG_20151130_160409_cell_190.png', 'C45P6ThinF_IMG_20151130_160409_cell_197.png', 'C45P6ThinF_IMG_20151130_160409_cell_198.png', 'C45P6ThinF_IMG_20151130_160409_cell_199.png', 'C45P6ThinF_IMG_20151130_160409_cell_195.png', 'C45P6ThinF_IMG_20151130_160409_cell_200.png', 'C45P6ThinF_IMG_20151130_160409_cell_192.png', 'C45P6ThinF_IMG_20151130_160409_cell_191.png', 'C45P6ThinF_IMG_20151130_160409_cell_196.png', 'C45P6ThinF_IMG_20151130_160409_cell_201.png', 'C45P6ThinF_IMG_20151130_160409_cell_194.png']\n",
            "\n",
            "\n",
            "['C102P63ThinF_IMG_20150918_161508_cell_37.png', 'C102P63ThinF_IMG_20150918_161508_cell_14.png', 'C102P63ThinF_IMG_20150918_161508_cell_101.png', 'C102P63ThinF_IMG_20150918_161508_cell_71.png', 'C102P63ThinF_IMG_20150918_161508_cell_143.png', 'C102P63ThinF_IMG_20150918_161508_cell_113.png', 'C102P63ThinF_IMG_20150918_161508_cell_150.png', 'C102P63ThinF_IMG_20150918_161508_cell_172.png', 'C102P63ThinF_IMG_20150918_161508_cell_133.png', 'C102P63ThinF_IMG_20150918_161508_cell_175.png', 'C102P63ThinF_IMG_20150918_161826_cell_19.png', 'C102P63ThinF_IMG_20150918_161826_cell_65.png', 'C102P63ThinF_IMG_20150918_161826_cell_70.png', 'C102P63ThinF_IMG_20150918_161826_cell_63.png', 'C102P63ThinF_IMG_20150918_161826_cell_54.png', 'C102P63ThinF_IMG_20150918_161826_cell_41.png', 'C102P63ThinF_IMG_20150918_161826_cell_154.png', 'C102P63ThinF_IMG_20150918_161826_cell_133.png', 'C102P63ThinF_IMG_20150918_161826_cell_144.png', 'C102P63ThinF_IMG_20150918_161826_cell_152.png', 'C102P63ThinF_IMG_20150918_162051_cell_1.png', 'C102P63ThinF_IMG_20150918_162051_cell_29.png', 'C102P63ThinF_IMG_20150918_162051_cell_34.png', 'C102P63ThinF_IMG_20150918_162051_cell_32.png', 'C102P63ThinF_IMG_20150918_162051_cell_79.png', 'C102P63ThinF_IMG_20150918_162051_cell_9.png', 'C102P63ThinF_IMG_20150918_162051_cell_65.png', 'C102P63ThinF_IMG_20150918_162051_cell_19.png', 'C102P63ThinF_IMG_20150918_162051_cell_100.png', 'C102P63ThinF_IMG_20150918_162051_cell_130.png', 'C102P63ThinF_IMG_20150918_162155_cell_32.png', 'C102P63ThinF_IMG_20150918_162155_cell_5.png', 'C102P63ThinF_IMG_20150918_162155_cell_51.png', 'C102P63ThinF_IMG_20150918_162155_cell_88.png', 'C102P63ThinF_IMG_20150918_162155_cell_76.png', 'C102P63ThinF_IMG_20150918_162155_cell_66.png', 'C102P63ThinF_IMG_20150918_162155_cell_117.png', 'C102P63ThinF_IMG_20150918_162155_cell_119.png', 'C102P63ThinF_IMG_20150918_162155_cell_116.png', 'C102P63ThinF_IMG_20150918_162300_cell_12.png', 'C102P63ThinF_IMG_20150918_162300_cell_29.png', 'C102P63ThinF_IMG_20150918_162300_cell_4.png', 'C102P63ThinF_IMG_20150918_162300_cell_13.png', 'C102P63ThinF_IMG_20150918_162300_cell_63.png', 'C102P63ThinF_IMG_20150918_162300_cell_15.png', 'C102P63ThinF_IMG_20150918_162300_cell_111.png', 'C102P63ThinF_IMG_20150918_162300_cell_137.png', 'C102P63ThinF_IMG_20150918_162300_cell_89.png', 'C102P63ThinF_IMG_20150918_162300_cell_129.png', 'C102P63ThinF_IMG_20150918_162511_cell_59.png', 'C102P63ThinF_IMG_20150918_162511_cell_93.png', 'C102P63ThinF_IMG_20150918_162511_cell_56.png', 'C102P63ThinF_IMG_20150918_162511_cell_102.png', 'C102P63ThinF_IMG_20150918_162511_cell_36.png', 'C102P63ThinF_IMG_20150918_162511_cell_133.png', 'C102P63ThinF_IMG_20150918_162511_cell_163.png', 'C102P63ThinF_IMG_20150918_162511_cell_131.png', 'C102P63ThinF_IMG_20150918_162511_cell_157.png', 'C102P63ThinF_IMG_20150918_163054_cell_6.png', 'C102P63ThinF_IMG_20150918_163054_cell_76.png', 'C102P63ThinF_IMG_20150918_163054_cell_25.png', 'C102P63ThinF_IMG_20150918_163054_cell_83.png', 'C102P63ThinF_IMG_20150918_163054_cell_71.png', 'C102P63ThinF_IMG_20150918_163054_cell_87.png', 'C102P63ThinF_IMG_20150918_163054_cell_127.png', 'C102P63ThinF_IMG_20150918_163054_cell_159.png', 'C102P63ThinF_IMG_20150918_163054_cell_144.png', 'C102P63ThinF_IMG_20150918_163054_cell_134.png', 'C115P76ThinF_IMG_20150930_162315_cell_45.png', 'C115P76ThinF_IMG_20150930_162315_cell_151.png', 'C115P76ThinF_IMG_20150930_162315_cell_105.png', 'C115P76ThinF_IMG_20150930_162315_cell_91.png', 'C115P76ThinF_IMG_20150930_162315_cell_99.png', 'C115P76ThinF_IMG_20150930_162315_cell_218.png', 'C115P76ThinF_IMG_20150930_162315_cell_167.png', 'C115P76ThinF_IMG_20150930_162315_cell_215.png', 'C115P76ThinF_IMG_20150930_162315_cell_230.png', 'C115P76ThinF_IMG_20150930_162315_cell_243.png', 'C115P76ThinF_IMG_20150930_162315_cell_254.png', 'C115P76ThinF_IMG_20150930_163018_cell_36.png', 'C115P76ThinF_IMG_20150930_163018_cell_157.png', 'C115P76ThinF_IMG_20150930_163018_cell_113.png', 'C115P76ThinF_IMG_20150930_163018_cell_103.png', 'C115P76ThinF_IMG_20150930_163018_cell_147.png', 'C115P76ThinF_IMG_20150930_163018_cell_123.png', 'C115P76ThinF_IMG_20150930_163018_cell_221.png', 'C115P76ThinF_IMG_20150930_163018_cell_208.png', 'C115P76ThinF_IMG_20150930_163018_cell_177.png', 'C115P76ThinF_IMG_20150930_163018_cell_187.png', 'C115P76ThinF_IMG_20150930_163018_cell_167.png', 'C115P76ThinF_IMG_20150930_163018_cell_211.png', 'C115P76ThinF_IMG_20150930_163018_cell_232.png', 'C115P76ThinF_IMG_20150930_163156_cell_25.png', 'C115P76ThinF_IMG_20150930_163156_cell_80.png', 'C115P76ThinF_IMG_20150930_163156_cell_76.png', 'C115P76ThinF_IMG_20150930_163156_cell_90.png', 'C115P76ThinF_IMG_20150930_163156_cell_75.png', 'C115P76ThinF_IMG_20150930_163156_cell_85.png', 'C115P76ThinF_IMG_20150930_163156_cell_163.png', 'C115P76ThinF_IMG_20150930_163156_cell_192.png', 'C115P76ThinF_IMG_20150930_163156_cell_221.png', 'C115P76ThinF_IMG_20150930_163156_cell_204.png', 'C115P76ThinF_IMG_20150930_163156_cell_197.png', 'C115P76ThinF_IMG_20150930_163156_cell_214.png', 'C115P76ThinF_IMG_20150930_163156_cell_229.png', 'C116P77ThinF_IMG_20150930_171219_cell_34.png', 'C116P77ThinF_IMG_20150930_171219_cell_6.png', 'C116P77ThinF_IMG_20150930_171219_cell_33.png', 'C116P77ThinF_IMG_20150930_171219_cell_10.png', 'C116P77ThinF_IMG_20150930_171219_cell_21.png', 'C116P77ThinF_IMG_20150930_171219_cell_39.png', 'C116P77ThinF_IMG_20150930_171219_cell_69.png', 'C116P77ThinF_IMG_20150930_171219_cell_65.png', 'C116P77ThinF_IMG_20150930_171448_cell_7.png', 'C116P77ThinF_IMG_20150930_171448_cell_53.png', 'C116P77ThinF_IMG_20150930_171448_cell_81.png', 'C116P77ThinF_IMG_20150930_171448_cell_48.png', 'C116P77ThinF_IMG_20150930_171448_cell_72.png', 'C116P77ThinF_IMG_20150930_171448_cell_39.png', 'C116P77ThinF_IMG_20150930_171558_cell_10.png', 'C116P77ThinF_IMG_20150930_171558_cell_22.png', 'C116P77ThinF_IMG_20150930_171558_cell_1.png', 'C116P77ThinF_IMG_20150930_171558_cell_38.png', 'C116P77ThinF_IMG_20150930_171558_cell_34.png', 'C116P77ThinF_IMG_20150930_171558_cell_80.png', 'C116P77ThinF_IMG_20150930_171558_cell_73.png', 'C116P77ThinF_IMG_20150930_171558_cell_64.png', 'C116P77ThinF_IMG_20150930_171635_cell_10.png', 'C116P77ThinF_IMG_20150930_171635_cell_68.png', 'C116P77ThinF_IMG_20150930_171635_cell_63.png', 'C116P77ThinF_IMG_20150930_171635_cell_18.png', 'C116P77ThinF_IMG_20150930_171635_cell_38.png', 'C116P77ThinF_IMG_20150930_171635_cell_62.png', 'C116P77ThinF_IMG_20150930_171635_cell_42.png', 'C116P77ThinF_IMG_20150930_171635_cell_31.png', 'C116P77ThinF_IMG_20150930_171739_cell_32.png', 'C116P77ThinF_IMG_20150930_171739_cell_21.png', 'C116P77ThinF_IMG_20150930_171739_cell_38.png', 'C116P77ThinF_IMG_20150930_171739_cell_37.png', 'C116P77ThinF_IMG_20150930_171739_cell_54.png', 'C116P77ThinF_IMG_20150930_171739_cell_57.png', 'C116P77ThinF_IMG_20150930_171739_cell_69.png', 'C116P77ThinF_IMG_20150930_171809_cell_25.png', 'C116P77ThinF_IMG_20150930_171809_cell_19.png', 'C116P77ThinF_IMG_20150930_171809_cell_18.png', 'C116P77ThinF_IMG_20150930_171809_cell_1.png', 'C116P77ThinF_IMG_20150930_171809_cell_11.png', 'C116P77ThinF_IMG_20150930_171809_cell_48.png', 'C116P77ThinF_IMG_20150930_171809_cell_34.png', 'C116P77ThinF_IMG_20150930_171809_cell_35.png', 'C116P77ThinF_IMG_20150930_171844_cell_14.png', 'C116P77ThinF_IMG_20150930_171844_cell_43.png', 'C116P77ThinF_IMG_20150930_171844_cell_70.png', 'C116P77ThinF_IMG_20150930_171844_cell_37.png', 'C116P77ThinF_IMG_20150930_171844_cell_56.png', 'C116P77ThinF_IMG_20150930_171844_cell_80.png', 'C116P77ThinF_IMG_20150930_171844_cell_34.png', 'C116P77ThinF_IMG_20150930_171954_cell_29.png', 'C116P77ThinF_IMG_20150930_171954_cell_9.png', 'C116P77ThinF_IMG_20150930_171954_cell_18.png', 'C116P77ThinF_IMG_20150930_171954_cell_40.png', 'C116P77ThinF_IMG_20150930_171954_cell_45.png', 'C116P77ThinF_IMG_20150930_171954_cell_59.png', 'C116P77ThinF_IMG_20150930_171954_cell_48.png', 'C116P77ThinF_IMG_20150930_171954_cell_67.png', 'C116P77ThinF_IMG_20150930_172112_cell_6.png', 'C116P77ThinF_IMG_20150930_172112_cell_12.png', 'C116P77ThinF_IMG_20150930_172112_cell_58.png', 'C116P77ThinF_IMG_20150930_172112_cell_26.png', 'C116P77ThinF_IMG_20150930_172112_cell_45.png', 'C116P77ThinF_IMG_20150930_172112_cell_50.png', 'C116P77ThinF_IMG_20150930_172112_cell_44.png', 'C116P77ThinF_IMG_20150930_172112_cell_51.png', 'C117P78ThinF_IMG_20150930_214138_cell_28.png', 'C117P78ThinF_IMG_20150930_214138_cell_35.png', 'C117P78ThinF_IMG_20150930_214138_cell_42.png', 'C117P78ThinF_IMG_20150930_214138_cell_68.png', 'C117P78ThinF_IMG_20150930_214138_cell_43.png', 'C117P78ThinF_IMG_20150930_214138_cell_54.png', 'C117P78ThinF_IMG_20150930_214138_cell_77.png', 'C117P78ThinF_IMG_20150930_214317_cell_55.png', 'C117P78ThinF_IMG_20150930_214317_cell_20.png', 'C117P78ThinF_IMG_20150930_214317_cell_87.png', 'C117P78ThinF_IMG_20150930_214317_cell_77.png', 'C117P78ThinF_IMG_20150930_214317_cell_92.png', 'C117P78ThinF_IMG_20150930_214511_cell_1.png', 'C117P78ThinF_IMG_20150930_214511_cell_6.png', 'C117P78ThinF_IMG_20150930_214511_cell_58.png', 'C117P78ThinF_IMG_20150930_214511_cell_18.png', 'C117P78ThinF_IMG_20150930_214511_cell_62.png', 'C117P78ThinF_IMG_20150930_214511_cell_48.png', 'C117P78ThinF_IMG_20150930_214629_cell_37.png', 'C117P78ThinF_IMG_20150930_214629_cell_1.png', 'C117P78ThinF_IMG_20150930_214629_cell_77.png', 'C117P78ThinF_IMG_20150930_214629_cell_45.png', 'C117P78ThinF_IMG_20150930_214629_cell_70.png', 'C117P78ThinF_IMG_20150930_214629_cell_80.png', 'C117P78ThinF_IMG_20150930_214629_cell_89.png', 'C117P78ThinF_IMG_20150930_214629_cell_94.png', 'C117P78ThinF_IMG_20150930_214941_cell_16.png']\n"
          ],
          "name": "stdout"
        }
      ]
    },
    {
      "cell_type": "code",
      "metadata": {
        "id": "FjPaOIsYvQUY",
        "colab_type": "code",
        "colab": {}
      },
      "source": [
        "#SEGMENTASI CANNY DAN EKSTRAKSI HUMOMENT\n",
        "\n",
        "x = np.array([['H1','H2','H3','H4','H5','H6','H7','Actual']])\n",
        "\n",
        "#Proses Citra Malaria Terinfeksi\n",
        "for i in range(len(terinfeksi_data)):\n",
        "    img = cv2.imread('/content/drive/My Drive/Dataset/DATA8020/Terinfeksi' + \"/\" + terinfeksi_data[i])\n",
        "    edges = cv2.Canny(img,80,30)\n",
        "    a = cv2.HuMoments(cv2.moments(edges)).flatten()\n",
        "    a = np.append(a,1)\n",
        "    x = np.vstack((x,a))\n",
        "\n",
        "#Proses Citra Malaria TidakTerinfeksi\n",
        "for i in range(len(tidakTerinfeksi_data)):\n",
        "    img = cv2.imread('/content/drive/My Drive/Dataset/DATA8020/TidakTerinfeksi' + \"/\" + tidakTerinfeksi_data[i])\n",
        "    edges = cv2.Canny(img,80,30)\n",
        "    a = cv2.HuMoments(cv2.moments(edges)).flatten()\n",
        "    a = np.append(a,0)\n",
        "    x = np.vstack((x,a))"
      ],
      "execution_count": 0,
      "outputs": []
    },
    {
      "cell_type": "code",
      "metadata": {
        "id": "v3jk6rIKvYck",
        "colab_type": "code",
        "colab": {}
      },
      "source": [
        "#EXPORT to CSV\n",
        "np.savetxt(\"/content/drive/My Drive/Dataset/DataBaru8020.csv\", x, fmt='%s',delimiter=',' )"
      ],
      "execution_count": 0,
      "outputs": []
    },
    {
      "cell_type": "code",
      "metadata": {
        "id": "sZJFq_7Ovd_8",
        "colab_type": "code",
        "colab": {}
      },
      "source": [
        "#LOAD CSV DATASET\n",
        "\n",
        "dataset = pd.read_csv('/content/drive/My Drive/Dataset/DataBaru8020.csv')\n",
        "print (len(dataset))\n",
        "print (dataset)"
      ],
      "execution_count": 0,
      "outputs": []
    },
    {
      "cell_type": "code",
      "metadata": {
        "id": "Hsry7fkTvihE",
        "colab_type": "code",
        "colab": {}
      },
      "source": [
        "#split data (membagi data)\n",
        "x = dataset.iloc[:, 0:7] #mulai dr colmn index ke0, sbnyk 7 colmn msuk ke var (X)\n",
        "y = dataset.iloc[:, 7] #hny colmn  index ke7 yg msuk ke var (Y)\n",
        "\n",
        "\n",
        "#split train n test dataset\n",
        "x_train, x_test, y_train, y_test = train_test_split(x,y, random_state=2, test_size=0.1)\n",
        "\n",
        "print(len(y_test))\n",
        "print(len(x_train))\n",
        "print(len(dataset))\n",
        "x"
      ],
      "execution_count": 0,
      "outputs": []
    },
    {
      "cell_type": "code",
      "metadata": {
        "id": "eGSID1vQwk3Z",
        "colab_type": "code",
        "colab": {}
      },
      "source": [
        "print(y_train.value_counts()) #mnmpilkn jum.data y_train brdsrkn value\n",
        "\n",
        "print(y_test.value_counts())  #mnmpilkn jum.data y_test brdsrkn value\n",
        "\n",
        "\n",
        "plt.figure(figsize=(6,6)) #mngtur ukuran skla grafik\n",
        "\n",
        "#mnmpilkn visualisasi grafik\n",
        "plt.subplot(2,1,1);y_train.value_counts().plot(kind='bar', color=['C0','C1','C2','C3','C4','C5','C6']);plt.title('TRAINING')\n",
        "plt.subplot(2,1,2);y_test.value_counts().plot(kind='bar', color=['C0','C1','C2','C3','C4','C5','C6']);plt.title('TESTING')"
      ],
      "execution_count": 0,
      "outputs": []
    },
    {
      "cell_type": "code",
      "metadata": {
        "id": "rxQa1h0PwnOw",
        "colab_type": "code",
        "colab": {}
      },
      "source": [
        "#scaling data\n",
        "sc_x = StandardScaler()\n",
        "x_train = sc_x.fit_transform(x_train)\n",
        "\n",
        "x_test = sc_x.transform(x_test)\n",
        "x_train"
      ],
      "execution_count": 0,
      "outputs": []
    },
    {
      "cell_type": "code",
      "metadata": {
        "id": "89c4RgYUwpFH",
        "colab_type": "code",
        "colab": {}
      },
      "source": [
        "math.sqrt(len(y_test))"
      ],
      "execution_count": 0,
      "outputs": []
    },
    {
      "cell_type": "code",
      "metadata": {
        "id": "c7_GUy9BwsAT",
        "colab_type": "code",
        "colab": {}
      },
      "source": [
        "akurasi = 0\n",
        "for x in range(2,900): \n",
        "    #choose method and fitting\n",
        "    classifier = KNeighborsClassifier(n_neighbors=x,p=2,metric='euclidean')\n",
        "    classifier.fit(x_train, y_train)\n",
        "\n",
        "    #testing data\n",
        "    y_pred = classifier.predict(x_test)\n",
        "\n",
        "    #print result\n",
        "    cm = confusion_matrix(y_test, y_pred)\n",
        "    tertinggi = accuracy_score(y_test, y_pred)\n",
        "    if tertinggi >= akurasi:\n",
        "        akurasi = tertinggi\n",
        "        cmx = cm\n",
        "        k = x\n",
        "        a = accuracy_score(y_test, y_pred)\n",
        "        p = precision_score(y_test, y_pred,average=None)\n",
        "        r = recall_score(y_test, y_pred,average=None)\n",
        "        f = f1_score(y_test, y_pred,average=None)\n",
        "print(\"K :\" , k)\n",
        "print(cmx)\n",
        "print(\"Akurasi :\" , a)\n",
        "print(\"presisi :\" , p)\n",
        "print(\"recall :\" , r)\n",
        "print(\"F-Score :\" , f)\n",
        "print(\"--------------------------------------------\")"
      ],
      "execution_count": 0,
      "outputs": []
    },
    {
      "cell_type": "code",
      "metadata": {
        "id": "MhYsKD1FyCNQ",
        "colab_type": "code",
        "colab": {}
      },
      "source": [
        "#testing data\n",
        "\n",
        "#hasil prediksi/testing dismpan ke (y_pred)\n",
        "y_pred = classifier.predict(x_test)\n",
        "y_pred"
      ],
      "execution_count": 0,
      "outputs": []
    },
    {
      "cell_type": "code",
      "metadata": {
        "id": "4P7lzlq3yD2B",
        "colab_type": "code",
        "colab": {}
      },
      "source": [
        "#print result\n",
        "cm = confusion_matrix(y_test, y_pred)\n",
        "print (cm)\n",
        "print(\"Akurasi :\" , accuracy_score(y_test, y_pred))\n",
        "print(\"Presisi :\" , precision_score(y_test, y_pred))\n",
        "print(\"Recall :\" , recall_score(y_test, y_pred))\n",
        "print(\"F-Measure :\" , f1_score(y_test, y_pred))"
      ],
      "execution_count": 0,
      "outputs": []
    },
    {
      "cell_type": "code",
      "metadata": {
        "id": "gMZa_aC7yF3U",
        "colab_type": "code",
        "colab": {}
      },
      "source": [
        "from matplotlib import pyplot as plt\n",
        "x = [\"K2\", \"K3\", \"K4\", \"K5\", \"K6\", \"K7\", \"K8\", \"K9\", \"K10\"]\n",
        "a = [75, 79, 83, 82, 84, 82, 82, 84, 84]\n",
        "p = [87, 83, 87, 85, 88, 86, 86, 85, 87]\n",
        "r = [80, 92, 92, 94, 92, 92, 92, 96, 94]\n",
        "f = [83, 87, 89, 89, 90, 89, 89, 90, 90]\n",
        "plt.plot(x, a, '--')\n",
        "plt.plot(x, p, '--')\n",
        "plt.plot(x, r, '--')\n",
        "plt.plot(x, f, '--')\n",
        "plt.title(\"GRAFIK RESULT\")\n",
        "plt.xlabel(\"NILAI K\")\n",
        "plt.ylabel(\"PERFORMA\")\n",
        "plt.legend([\"Akurasi\", \"Presisi\", \"Recall\", \"F-measure\"])\n",
        "plt.grid()\n",
        "plt.show()"
      ],
      "execution_count": 0,
      "outputs": []
    }
  ]
}
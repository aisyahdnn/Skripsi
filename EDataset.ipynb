{
  "nbformat": 4,
  "nbformat_minor": 0,
  "metadata": {
    "colab": {
      "name": "EDataset.ipynb",
      "provenance": [],
      "mount_file_id": "1uuKQX15u4fPRfXguusj0BsDN3mihxeWu",
      "authorship_tag": "ABX9TyNyeIhONZFRWZCgnIj2wRVT",
      "include_colab_link": true
    },
    "kernelspec": {
      "name": "python3",
      "display_name": "Python 3"
    }
  },
  "cells": [
    {
      "cell_type": "markdown",
      "metadata": {
        "id": "view-in-github",
        "colab_type": "text"
      },
      "source": [
        "<a href=\"https://colab.research.google.com/github/aisyahdnn/Skripsi/blob/master/EDataset.ipynb\" target=\"_parent\"><img src=\"https://colab.research.google.com/assets/colab-badge.svg\" alt=\"Open In Colab\"/></a>"
      ]
    },
    {
      "cell_type": "code",
      "metadata": {
        "id": "yrgTPdfVu55V",
        "colab_type": "code",
        "colab": {
          "base_uri": "https://localhost:8080/",
          "height": 124
        },
        "outputId": "b22ca2a5-0a18-41c2-ed69-2f2c48e2d473"
      },
      "source": [
        "from google.colab import drive\n",
        "drive.mount('/content/drive')"
      ],
      "execution_count": 1,
      "outputs": [
        {
          "output_type": "stream",
          "text": [
            "Go to this URL in a browser: https://accounts.google.com/o/oauth2/auth?client_id=947318989803-6bn6qk8qdgf4n4g3pfee6491hc0brc4i.apps.googleusercontent.com&redirect_uri=urn%3aietf%3awg%3aoauth%3a2.0%3aoob&response_type=code&scope=email%20https%3a%2f%2fwww.googleapis.com%2fauth%2fdocs.test%20https%3a%2f%2fwww.googleapis.com%2fauth%2fdrive%20https%3a%2f%2fwww.googleapis.com%2fauth%2fdrive.photos.readonly%20https%3a%2f%2fwww.googleapis.com%2fauth%2fpeopleapi.readonly\n",
            "\n",
            "Enter your authorization code:\n",
            "··········\n",
            "Mounted at /content/drive\n"
          ],
          "name": "stdout"
        }
      ]
    },
    {
      "cell_type": "code",
      "metadata": {
        "id": "WttOOPSSvW5I",
        "colab_type": "code",
        "colab": {}
      },
      "source": [
        "import pandas as pd\n",
        "import numpy as np\n",
        "import math\n",
        "import os\n",
        "import matplotlib.pyplot as plt\n",
        "import cv2\n",
        "\n",
        "from sklearn.model_selection import train_test_split\n",
        "from sklearn.preprocessing import StandardScaler \n",
        "from sklearn.neighbors import KNeighborsClassifier\n",
        "\n",
        "from sklearn.metrics import confusion_matrix\n",
        "from sklearn.metrics import f1_score\n",
        "from sklearn.metrics import accuracy_score\n",
        "from sklearn.metrics import precision_score\n",
        "from sklearn.metrics import recall_score\n",
        "\n",
        "from skimage import io\n",
        "from skimage import feature"
      ],
      "execution_count": 0,
      "outputs": []
    },
    {
      "cell_type": "code",
      "metadata": {
        "id": "aM6CFkoLvYeZ",
        "colab_type": "code",
        "colab": {
          "base_uri": "https://localhost:8080/",
          "height": 87
        },
        "outputId": "f96f5787-d846-4ba4-d921-48787c3dcd93"
      },
      "source": [
        "Terinfeksi = os.listdir('/content/drive/My Drive/Dataset/DataTest/Terinfeksi')\n",
        "TidakTerinfeksi = os.listdir('/content/drive/My Drive/Dataset/DataTest/TidakTerinfeksi')\n",
        "\n",
        "print(len(Terinfeksi))\n",
        "print(Terinfeksi)\n",
        "\n",
        "print(len(TidakTerinfeksi))\n",
        "print(TidakTerinfeksi)"
      ],
      "execution_count": 5,
      "outputs": [
        {
          "output_type": "stream",
          "text": [
            "1\n",
            "['C37BP2_thinF_IMG_20150620_133111a_cell_87.png']\n",
            "1\n",
            "['C4thin_original_IMG_20150608_165908_cell_182.png']\n"
          ],
          "name": "stdout"
        }
      ]
    },
    {
      "cell_type": "code",
      "metadata": {
        "id": "qU_gFnLJvaNZ",
        "colab_type": "code",
        "colab": {}
      },
      "source": [
        "#SEGMENTASI CANNY DAN EKSTRAKSI HUMOMENT\n",
        "\n",
        "x = np.array([['H1','H2','H3','H4','H5','H6','H7','Actual']])\n",
        "\n",
        "#Proses Citra Malaria Terinfeksi\n",
        "for i in range(len(Terinfeksi)):\n",
        "    img = cv2.imread('/content/drive/My Drive/Dataset/DataTest/Terinfeksi'+ \"/\" + Terinfeksi[i])\n",
        "    edges = cv2.Canny(img,80,30)\n",
        "    a = cv2.HuMoments(cv2.moments(edges)).flatten()\n",
        "    a = np.append(a,1)\n",
        "    x = np.vstack((x,a))\n",
        "\n",
        "#Proses Citra Malaria Tidak Terinfeksi\n",
        "for i in range(len(TidakTerinfeksi)):\n",
        "    img = cv2.imread('/content/drive/My Drive/Dataset/DataTest/TidakTerinfeksi'+ \"/\" + TidakTerinfeksi[i])\n",
        "    edges = cv2.Canny(img,80,30)\n",
        "    a = cv2.HuMoments(cv2.moments(edges)).flatten()\n",
        "    a = np.append(a,0)\n",
        "    x = np.vstack((x,a))"
      ],
      "execution_count": 0,
      "outputs": []
    },
    {
      "cell_type": "code",
      "metadata": {
        "id": "ui_YOHnTvbvi",
        "colab_type": "code",
        "colab": {}
      },
      "source": [
        "#EXPORT to CSV\n",
        "np.savetxt(\"/content/drive/My Drive/Dataset/EDatasetTest.csv\", x, fmt='%s',delimiter=',' )"
      ],
      "execution_count": 0,
      "outputs": []
    },
    {
      "cell_type": "code",
      "metadata": {
        "id": "Cx6jrYpWvdUl",
        "colab_type": "code",
        "colab": {
          "base_uri": "https://localhost:8080/",
          "height": 347
        },
        "outputId": "5ca70c4f-a01c-4b7c-9a61-188b9577a122"
      },
      "source": [
        "datasettrain = pd.read_csv('/content/drive/My Drive/Dataset/EDatasetTrain.csv')\n",
        "datasettest = pd.read_csv('/content/drive/My Drive/Dataset/EDatasetTest.csv')\n",
        "\n",
        "print(datasettrain)\n",
        "print(datasettest)"
      ],
      "execution_count": 9,
      "outputs": [
        {
          "output_type": "stream",
          "text": [
            "           H1        H2            H3  ...            H6            H7  Actual\n",
            "0    0.014561  0.000029  3.632756e-08  ...  6.353503e-12  4.330040e-16     1.0\n",
            "1    0.026547  0.000170  1.138837e-06  ...  3.063264e-08 -3.005370e-12     1.0\n",
            "2    0.028276  0.000027  3.460565e-07  ...  5.265115e-09 -6.515198e-13     1.0\n",
            "3    0.024422  0.000022  1.157081e-07  ...  3.187912e-10 -6.131459e-14     1.0\n",
            "4    0.019319  0.000002  1.072033e-07  ...  7.293107e-10  9.598053e-14     1.0\n",
            "..        ...       ...           ...  ...           ...           ...     ...\n",
            "995  0.012752  0.000043  2.179522e-07  ...  1.653583e-11 -1.029641e-16     1.0\n",
            "996  0.018757  0.000024  4.702513e-09  ...  6.308761e-09  1.009837e-13     1.0\n",
            "997  0.018091  0.000002  7.336674e-08  ...  3.725437e-10  9.225196e-14     1.0\n",
            "998  0.019440  0.000045  1.845630e-07  ...  2.614035e-09 -1.054526e-13     1.0\n",
            "999  0.016831  0.000017  1.238836e-07  ... -2.620264e-12 -3.714716e-17     1.0\n",
            "\n",
            "[1000 rows x 8 columns]\n",
            "         H1        H2            H3  ...            H6            H7  Actual\n",
            "0  0.005475  0.000002  2.788140e-09  ... -8.775272e-13  2.000598e-18     1.0\n",
            "1  0.031468  0.000029  9.624204e-07  ... -1.478222e-09 -1.284384e-13     0.0\n",
            "\n",
            "[2 rows x 8 columns]\n"
          ],
          "name": "stdout"
        }
      ]
    },
    {
      "cell_type": "code",
      "metadata": {
        "id": "nouiUhVZvfVt",
        "colab_type": "code",
        "colab": {}
      },
      "source": [
        "x_train = datasettrain.iloc[:, 0:7] \n",
        "y_train = datasettrain.iloc[:, 7]\n",
        " \n",
        "x_test = datasettest.iloc[:, 0:7] \n",
        "y_test = datasettest.iloc[:, 7]"
      ],
      "execution_count": 0,
      "outputs": []
    },
    {
      "cell_type": "code",
      "metadata": {
        "id": "5pDdCM5BvhDP",
        "colab_type": "code",
        "colab": {
          "base_uri": "https://localhost:8080/",
          "height": 243
        },
        "outputId": "6709832f-da07-46d8-eea6-6a8cf2a0729b"
      },
      "source": [
        "sc_x = StandardScaler()\n",
        "x_train = sc_x.fit_transform(x_train)\n",
        "\n",
        "x_test = sc_x.transform(x_test)\n",
        "x_train"
      ],
      "execution_count": 11,
      "outputs": [
        {
          "output_type": "execute_result",
          "data": {
            "text/plain": [
              "array([[-1.03210576e+00,  5.39451025e-02, -5.43397287e-01, ...,\n",
              "         5.02095747e-02, -2.94088350e-01,  5.38971312e-04],\n",
              "       [ 1.30856135e-01,  3.54579075e+00,  1.20175903e+00, ...,\n",
              "         2.90920972e+00,  6.78844865e+00, -5.15607935e+00],\n",
              "       [ 2.98553462e-01,  1.32841329e-02, -5.31289080e-02, ...,\n",
              "         2.67654431e-02,  9.22036037e-01, -1.11792161e+00],\n",
              "       ...,\n",
              "       [-6.89622593e-01, -6.08502851e-01, -4.84768160e-01, ...,\n",
              "         1.20976730e-01, -2.09404378e-01,  1.58059380e-01],\n",
              "       [-5.58685644e-01,  4.71373119e-01, -3.08756258e-01, ...,\n",
              "        -1.88137262e-02,  3.08955739e-01, -1.81113531e-01],\n",
              "       [-8.11885477e-01, -2.23388664e-01, -4.04805268e-01, ...,\n",
              "         5.02282559e-02, -2.96163594e-01, -2.67598526e-04]])"
            ]
          },
          "metadata": {
            "tags": []
          },
          "execution_count": 11
        }
      ]
    },
    {
      "cell_type": "code",
      "metadata": {
        "id": "-7BhP6MMviaP",
        "colab_type": "code",
        "colab": {
          "base_uri": "https://localhost:8080/",
          "height": 35
        },
        "outputId": "bf3befd6-0f43-4f61-d862-b3b73fcf34b4"
      },
      "source": [
        "#choose method and fitting\n",
        "classifier = KNeighborsClassifier(n_neighbors=2,p=2,metric='euclidean')\n",
        "classifier.fit(x_train, y_train)\n",
        "\n",
        "#testing data\n",
        "y_pred = classifier.predict(x_test)\n",
        "y_pred"
      ],
      "execution_count": 12,
      "outputs": [
        {
          "output_type": "execute_result",
          "data": {
            "text/plain": [
              "array([1., 1.])"
            ]
          },
          "metadata": {
            "tags": []
          },
          "execution_count": 12
        }
      ]
    },
    {
      "cell_type": "code",
      "metadata": {
        "id": "C1ksY6yZvj5j",
        "colab_type": "code",
        "colab": {}
      },
      "source": [
        "akurasi = 0\n",
        "for x in range(2,10): \n",
        "    #choose method and fitting\n",
        "    classifier = KNeighborsClassifier(n_neighbors=x,p=2,metric='euclidean')\n",
        "    classifier.fit(x_train, y_train)\n",
        "\n",
        "    #testing data\n",
        "    y_pred = classifier.predict(x_test)\n",
        "\n",
        "    #print result\n",
        "    cm = confusion_matrix(y_test, y_pred)\n",
        "    tertinggi = accuracy_score(y_test, y_pred)\n",
        "    if tertinggi >= akurasi:\n",
        "        akurasi = tertinggi\n",
        "        cmx = cm\n",
        "        k = x\n",
        "        a = accuracy_score(y_test, y_pred)\n",
        "        p = precision_score(y_test, y_pred)\n",
        "        r = recall_score(y_test, y_pred)\n",
        "        f = f1_score(y_test, y_pred)\n",
        "print(\"K :\" , k)\n",
        "print(cmx)\n",
        "print(\"Akurasi :\" , a)\n",
        "print(\"presisi :\" , p)\n",
        "print(\"recall :\" , r)\n",
        "print(\"F-Score :\" , f)\n",
        "print(\"--------------------------------------------\")"
      ],
      "execution_count": 0,
      "outputs": []
    }
  ]
}
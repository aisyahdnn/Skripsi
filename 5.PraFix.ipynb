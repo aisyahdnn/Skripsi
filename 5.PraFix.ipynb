{
  "nbformat": 4,
  "nbformat_minor": 0,
  "metadata": {
    "colab": {
      "name": "5.PraFix.ipynb",
      "provenance": [],
      "collapsed_sections": [],
      "mount_file_id": "https://github.com/aisyahdnn/Skripsi/blob/master/5.PraFix.ipynb",
      "authorship_tag": "ABX9TyNbmjEmxkOCpEKDFldjGuFA",
      "include_colab_link": true
    },
    "kernelspec": {
      "name": "python3",
      "display_name": "Python 3"
    }
  },
  "cells": [
    {
      "cell_type": "markdown",
      "metadata": {
        "id": "view-in-github",
        "colab_type": "text"
      },
      "source": [
        "<a href=\"https://colab.research.google.com/github/aisyahdnn/Skripsi/blob/master/5.PraFix.ipynb\" target=\"_parent\"><img src=\"https://colab.research.google.com/assets/colab-badge.svg\" alt=\"Open In Colab\"/></a>"
      ]
    },
    {
      "cell_type": "code",
      "metadata": {
        "id": "SB55uN-OXeuf",
        "colab_type": "code",
        "outputId": "99b3a90b-7c09-463a-82a9-6c862ae4b002",
        "colab": {
          "base_uri": "https://localhost:8080/",
          "height": 124
        }
      },
      "source": [
        "#untuk membaca lokasi dari drive\n",
        "\n",
        "from google.colab import drive\n",
        "drive.mount('/content/drive')"
      ],
      "execution_count": 1,
      "outputs": [
        {
          "output_type": "stream",
          "text": [
            "Go to this URL in a browser: https://accounts.google.com/o/oauth2/auth?client_id=947318989803-6bn6qk8qdgf4n4g3pfee6491hc0brc4i.apps.googleusercontent.com&redirect_uri=urn%3aietf%3awg%3aoauth%3a2.0%3aoob&response_type=code&scope=email%20https%3a%2f%2fwww.googleapis.com%2fauth%2fdocs.test%20https%3a%2f%2fwww.googleapis.com%2fauth%2fdrive%20https%3a%2f%2fwww.googleapis.com%2fauth%2fdrive.photos.readonly%20https%3a%2f%2fwww.googleapis.com%2fauth%2fpeopleapi.readonly\n",
            "\n",
            "Enter your authorization code:\n",
            "··········\n",
            "Mounted at /content/drive\n"
          ],
          "name": "stdout"
        }
      ]
    },
    {
      "cell_type": "code",
      "metadata": {
        "id": "F_szNJP8XglO",
        "colab_type": "code",
        "colab": {}
      },
      "source": [
        "#Library dari python yang dipakai\n",
        "\n",
        "\n",
        "import pandas as pd #data processing, CSV file I/O (e.g. pd.read_csv)\n",
        "import numpy as np #linear algebra\n",
        "import math\n",
        "import os #library lokasi path\n",
        "\n",
        "from sklearn.model_selection import train_test_split\n",
        "from sklearn.preprocessing import StandardScaler \n",
        "from sklearn.neighbors import KNeighborsClassifier\n",
        "\n",
        "from sklearn.metrics import confusion_matrix\n",
        "from sklearn.metrics import f1_score\n",
        "from sklearn.metrics import accuracy_score\n",
        "from sklearn.metrics import precision_score\n",
        "from sklearn.metrics import recall_score\n",
        "\n",
        "from skimage import io\n",
        "from skimage import feature\n",
        "\n",
        "import matplotlib.pyplot as plt\n",
        "\n",
        "import cv2"
      ],
      "execution_count": 0,
      "outputs": []
    },
    {
      "cell_type": "code",
      "metadata": {
        "id": "rW16pDLgY5cO",
        "colab_type": "code",
        "outputId": "2ef6bbb5-85a6-4bb1-88c3-747079c40f4e",
        "colab": {
          "base_uri": "https://localhost:8080/",
          "height": 107
        }
      },
      "source": [
        "#pembacaan lokasi drive citra malaria terinfeksi\n",
        "terinfeksi_data = os.listdir('/content/drive/My Drive/Dataset/DATA5050/cell_images/Terinfeksi/')\n",
        "print(terinfeksi_data[:10]) #the output we get are the .png files\n",
        "\n",
        "#pembacaan lokasi drive citra malaria terinfeksi\n",
        "tidakTerinfeksi_data = os.listdir('/content/drive/My Drive/Dataset/DATA5050/cell_images/TidakTerinfeksi/')\n",
        "print('\\n')\n",
        "print(tidakTerinfeksi_data[:10]) #:10 itu output dari 10 file citra"
      ],
      "execution_count": 0,
      "outputs": [
        {
          "output_type": "stream",
          "text": [
            "['C38P3thinF_original_IMG_20150621_112043_cell_203.png', 'C38P3thinF_original_IMG_20150621_112116_cell_204.png', 'C38P3thinF_original_IMG_20150621_112116_cell_205.png', 'C38P3thinF_original_IMG_20150621_112138_cell_183.png', 'C38P3thinF_original_IMG_20150621_112246_cell_236.png', 'C39P4thinF_original_IMG_20150622_105102_cell_82.png', 'C39P4thinF_original_IMG_20150622_105102_cell_81.png', 'C39P4thinF_original_IMG_20150622_105102_cell_79.png', 'C39P4thinF_original_IMG_20150622_105102_cell_83.png', 'C39P4thinF_original_IMG_20150622_105102_cell_80.png']\n",
            "\n",
            "\n",
            "['C102P63ThinF_IMG_20150918_161508_cell_143.png', 'C102P63ThinF_IMG_20150918_161508_cell_150.png', 'C102P63ThinF_IMG_20150918_161508_cell_113.png', 'C102P63ThinF_IMG_20150918_161508_cell_172.png', 'C102P63ThinF_IMG_20150918_161508_cell_175.png', 'C1_thinF_IMG_20150604_104942_cell_20.png', 'C1_thinF_IMG_20150604_104942_cell_4.png', 'C1_thinF_IMG_20150604_104942_cell_11.png', 'C1_thinF_IMG_20150604_104942_cell_59.png', 'C1_thinF_IMG_20150604_104942_cell_102.png']\n"
          ],
          "name": "stdout"
        }
      ]
    }
  ]
}
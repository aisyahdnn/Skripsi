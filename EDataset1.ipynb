{
  "nbformat": 4,
  "nbformat_minor": 0,
  "metadata": {
    "colab": {
      "name": "EDataset1.ipynb",
      "provenance": [],
      "authorship_tag": "ABX9TyNFiICwy+GKS6KOAsie8wJo",
      "include_colab_link": true
    },
    "kernelspec": {
      "name": "python3",
      "display_name": "Python 3"
    }
  },
  "cells": [
    {
      "cell_type": "markdown",
      "metadata": {
        "id": "view-in-github",
        "colab_type": "text"
      },
      "source": [
        "<a href=\"https://colab.research.google.com/github/aisyahdnn/Skripsi/blob/master/EDataset1.ipynb\" target=\"_parent\"><img src=\"https://colab.research.google.com/assets/colab-badge.svg\" alt=\"Open In Colab\"/></a>"
      ]
    },
    {
      "cell_type": "code",
      "metadata": {
        "id": "p_Hr5CvHaxEq",
        "colab_type": "code",
        "colab": {
          "base_uri": "https://localhost:8080/",
          "height": 124
        },
        "outputId": "fdf139c7-632a-4b3b-a777-40185af98c64"
      },
      "source": [
        "from google.colab import drive\n",
        "drive.mount('/content/drive')"
      ],
      "execution_count": 1,
      "outputs": [
        {
          "output_type": "stream",
          "text": [
            "Go to this URL in a browser: https://accounts.google.com/o/oauth2/auth?client_id=947318989803-6bn6qk8qdgf4n4g3pfee6491hc0brc4i.apps.googleusercontent.com&redirect_uri=urn%3aietf%3awg%3aoauth%3a2.0%3aoob&response_type=code&scope=email%20https%3a%2f%2fwww.googleapis.com%2fauth%2fdocs.test%20https%3a%2f%2fwww.googleapis.com%2fauth%2fdrive%20https%3a%2f%2fwww.googleapis.com%2fauth%2fdrive.photos.readonly%20https%3a%2f%2fwww.googleapis.com%2fauth%2fpeopleapi.readonly\n",
            "\n",
            "Enter your authorization code:\n",
            "··········\n",
            "Mounted at /content/drive\n"
          ],
          "name": "stdout"
        }
      ]
    },
    {
      "cell_type": "code",
      "metadata": {
        "id": "HyJ3-blJa-A9",
        "colab_type": "code",
        "colab": {}
      },
      "source": [
        "import pandas as pd\n",
        "import numpy as np\n",
        "import math\n",
        "import os\n",
        "import matplotlib.pyplot as plt\n",
        "import cv2\n",
        "\n",
        "from sklearn.model_selection import train_test_split\n",
        "from sklearn.preprocessing import StandardScaler \n",
        "from sklearn.neighbors import KNeighborsClassifier\n",
        "\n",
        "from sklearn.metrics import confusion_matrix\n",
        "from sklearn.metrics import f1_score\n",
        "from sklearn.metrics import accuracy_score\n",
        "from sklearn.metrics import precision_score\n",
        "from sklearn.metrics import recall_score\n",
        "\n",
        "from skimage import io\n",
        "from skimage import feature"
      ],
      "execution_count": 0,
      "outputs": []
    },
    {
      "cell_type": "code",
      "metadata": {
        "id": "KSdSFDT5a_s7",
        "colab_type": "code",
        "colab": {
          "base_uri": "https://localhost:8080/",
          "height": 52
        },
        "outputId": "d40bee1f-2134-4f87-d30f-c33426a1bea0"
      },
      "source": [
        "Citra = os.listdir('/content/drive/My Drive/Dataset/DataTest1')\n",
        "print(Citra)\n",
        "print(len(Citra))"
      ],
      "execution_count": 3,
      "outputs": [
        {
          "output_type": "stream",
          "text": [
            "['C37BP2_thinF_IMG_20150620_132440a_cell_108.png', 'C37BP2_thinF_IMG_20150620_132847a_cell_76.png']\n",
            "2\n"
          ],
          "name": "stdout"
        }
      ]
    },
    {
      "cell_type": "code",
      "metadata": {
        "id": "5M01VwGnbUyw",
        "colab_type": "code",
        "colab": {}
      },
      "source": [
        "#SEGMENTASI CANNY DAN EKSTRAKSI HUMOMENT\n",
        "\n",
        "x = np.array([['H1','H2','H3','H4','H5','H6','H7','Actual']])\n",
        "\n",
        "#Proses Citra Malaria Terinfeksi\n",
        "for i in range(len(Citra)):\n",
        "    img = cv2.imread('/content/drive/My Drive/Dataset/DataTest1'+ \"/\" + Citra[i])\n",
        "    edges = cv2.Canny(img,80,30)\n",
        "    a = cv2.HuMoments(cv2.moments(edges)).flatten()\n",
        "    a = np.append(a,1)\n",
        "    x = np.vstack((x,a))"
      ],
      "execution_count": 0,
      "outputs": []
    },
    {
      "cell_type": "code",
      "metadata": {
        "id": "7K18--jWbhXi",
        "colab_type": "code",
        "colab": {}
      },
      "source": [
        "#EXPORT to CSV\n",
        "np.savetxt(\"/content/drive/My Drive/Dataset/EDatasetTest1.csv\", x, fmt='%s',delimiter=',' )"
      ],
      "execution_count": 0,
      "outputs": []
    },
    {
      "cell_type": "code",
      "metadata": {
        "id": "PL22VMFBbm1R",
        "colab_type": "code",
        "colab": {
          "base_uri": "https://localhost:8080/",
          "height": 347
        },
        "outputId": "e2f54b74-65ab-4dd8-f244-42a124ac755d"
      },
      "source": [
        "#LOAD DATASET\n",
        "\n",
        "datasettrain = pd.read_csv('/content/drive/My Drive/Dataset/EDatasetTrain.csv')\n",
        "datasettest = pd.read_csv('/content/drive/My Drive/Dataset/EDatasetTest1.csv')\n",
        "\n",
        "print(datasettrain)\n",
        "print(datasettest)"
      ],
      "execution_count": 18,
      "outputs": [
        {
          "output_type": "stream",
          "text": [
            "           H1        H2            H3  ...            H6            H7  Actual\n",
            "0    0.014561  0.000029  3.632756e-08  ...  6.353503e-12  4.330040e-16     1.0\n",
            "1    0.026547  0.000170  1.138837e-06  ...  3.063264e-08 -3.005370e-12     1.0\n",
            "2    0.028276  0.000027  3.460565e-07  ...  5.265115e-09 -6.515198e-13     1.0\n",
            "3    0.024422  0.000022  1.157081e-07  ...  3.187912e-10 -6.131459e-14     1.0\n",
            "4    0.019319  0.000002  1.072033e-07  ...  7.293107e-10  9.598053e-14     1.0\n",
            "..        ...       ...           ...  ...           ...           ...     ...\n",
            "995  0.012752  0.000043  2.179522e-07  ...  1.653583e-11 -1.029641e-16     1.0\n",
            "996  0.018757  0.000024  4.702513e-09  ...  6.308761e-09  1.009837e-13     1.0\n",
            "997  0.018091  0.000002  7.336674e-08  ...  3.725437e-10  9.225196e-14     1.0\n",
            "998  0.019440  0.000045  1.845630e-07  ...  2.614035e-09 -1.054526e-13     1.0\n",
            "999  0.016831  0.000017  1.238836e-07  ... -2.620264e-12 -3.714716e-17     1.0\n",
            "\n",
            "[1000 rows x 8 columns]\n",
            "         H1            H2            H3  ...            H6            H7  Actual\n",
            "0  0.012371  1.943389e-08  3.778350e-09  ...  8.381070e-13 -2.110792e-16     1.0\n",
            "1  0.008265  1.195952e-07  9.899467e-09  ...  7.751217e-13 -4.642151e-16     1.0\n",
            "\n",
            "[2 rows x 8 columns]\n"
          ],
          "name": "stdout"
        }
      ]
    },
    {
      "cell_type": "code",
      "metadata": {
        "id": "C2lNm3qfbxym",
        "colab_type": "code",
        "colab": {}
      },
      "source": [
        "#split dataset\n",
        "\n",
        "x_train = datasettrain.iloc[:, 0:7] \n",
        "y_train = datasettrain.iloc[:, 7]\n",
        " \n",
        "x_test = datasettest.iloc[:, 0:7] \n",
        "y_test = datasettest.iloc[:, 7]"
      ],
      "execution_count": 0,
      "outputs": []
    },
    {
      "cell_type": "code",
      "metadata": {
        "id": "z4TkY5V0b1SY",
        "colab_type": "code",
        "colab": {
          "base_uri": "https://localhost:8080/",
          "height": 243
        },
        "outputId": "106b59da-5d4e-49dc-a767-6b4f65d5285c"
      },
      "source": [
        "#scaling data (menyamakan skala nilainya)\n",
        "sc_x = StandardScaler()\n",
        "x_train = sc_x.fit_transform(x_train)\n",
        "\n",
        "x_test = sc_x.transform(x_test)\n",
        "x_train"
      ],
      "execution_count": 20,
      "outputs": [
        {
          "output_type": "execute_result",
          "data": {
            "text/plain": [
              "array([[-1.03210576e+00,  5.39451025e-02, -5.43397287e-01, ...,\n",
              "         5.02095747e-02, -2.94088350e-01,  5.38971312e-04],\n",
              "       [ 1.30856135e-01,  3.54579075e+00,  1.20175903e+00, ...,\n",
              "         2.90920972e+00,  6.78844865e+00, -5.15607935e+00],\n",
              "       [ 2.98553462e-01,  1.32841329e-02, -5.31289080e-02, ...,\n",
              "         2.67654431e-02,  9.22036037e-01, -1.11792161e+00],\n",
              "       ...,\n",
              "       [-6.89622593e-01, -6.08502851e-01, -4.84768160e-01, ...,\n",
              "         1.20976730e-01, -2.09404378e-01,  1.58059380e-01],\n",
              "       [-5.58685644e-01,  4.71373119e-01, -3.08756258e-01, ...,\n",
              "        -1.88137262e-02,  3.08955739e-01, -1.81113531e-01],\n",
              "       [-8.11885477e-01, -2.23388664e-01, -4.04805268e-01, ...,\n",
              "         5.02282559e-02, -2.96163594e-01, -2.67598526e-04]])"
            ]
          },
          "metadata": {
            "tags": []
          },
          "execution_count": 20
        }
      ]
    },
    {
      "cell_type": "code",
      "metadata": {
        "id": "TKtmGV5AcEIo",
        "colab_type": "code",
        "colab": {
          "base_uri": "https://localhost:8080/",
          "height": 139
        },
        "outputId": "ce29ba60-bd59-4836-e35a-0156b324416f"
      },
      "source": [
        "akurasi = 0\n",
        "for x in range(2,10): \n",
        "    #choose method and fitting\n",
        "    classifier = KNeighborsClassifier(n_neighbors=x,p=2,metric='euclidean')\n",
        "    classifier.fit(x_train, y_train)\n",
        "\n",
        "    #testing data\n",
        "    y_pred = classifier.predict(x_test)\n",
        "\n",
        "    #print result\n",
        "    cm = confusion_matrix(y_test, y_pred)\n",
        "    tertinggi = accuracy_score(y_test, y_pred)\n",
        "    if tertinggi >= akurasi:\n",
        "        akurasi = tertinggi\n",
        "        cmx = cm\n",
        "        k = x\n",
        "        a = accuracy_score(y_test, y_pred)\n",
        "        p = precision_score(y_test, y_pred)\n",
        "        r = recall_score(y_test, y_pred)\n",
        "        f = f1_score(y_test, y_pred)\n",
        "print(\"K :\" , k)\n",
        "print(cmx)\n",
        "print(\"Akurasi :\" , a)\n",
        "print(\"presisi :\" , p)\n",
        "print(\"recall :\" , r)\n",
        "print(\"F-Score :\" , f)\n",
        "print(\"--------------------------------------------\")"
      ],
      "execution_count": 21,
      "outputs": [
        {
          "output_type": "stream",
          "text": [
            "K : 9\n",
            "[[2]]\n",
            "Akurasi : 1.0\n",
            "presisi : 1.0\n",
            "recall : 1.0\n",
            "F-Score : 1.0\n",
            "--------------------------------------------\n"
          ],
          "name": "stdout"
        }
      ]
    }
  ]
}